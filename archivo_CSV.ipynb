{
  "nbformat": 4,
  "nbformat_minor": 0,
  "metadata": {
    "colab": {
      "name": "archivo_CSV.ipynb",
      "provenance": [],
      "collapsed_sections": [],
      "authorship_tag": "ABX9TyP0eShYmm95zDy8ocyLVEz+",
      "include_colab_link": true
    },
    "kernelspec": {
      "name": "python3",
      "display_name": "Python 3"
    },
    "language_info": {
      "name": "python"
    }
  },
  "cells": [
    {
      "cell_type": "markdown",
      "metadata": {
        "id": "view-in-github",
        "colab_type": "text"
      },
      "source": [
        "<a href=\"https://colab.research.google.com/github/moisesquintana57/CursoMINTIC/blob/main/archivo_CSV.ipynb\" target=\"_parent\"><img src=\"https://colab.research.google.com/assets/colab-badge.svg\" alt=\"Open In Colab\"/></a>"
      ]
    },
    {
      "cell_type": "markdown",
      "source": [
        "#Lectura y escritura de archivos CSV\n",
        "(tomado de https://https://docs.python.org)\n",
        "\n",
        "El tan llamado CSV (Valores Separados por Comas) es el formato más común de importación y exportación de hojas de cálculo y bases de datos. El formato CSV se utilizó durante muchos años antes de intentar describir el formato de manera estandarizada en RFC 4180. La falta de un estándar bien definido significa que a veces existen pequeñas diferencias en la información producida y consumida por diferentes aplicaciones. Estas diferencias pueden ser molestas al momento de procesar archivos CSV desde múltiples fuentes. Aún así, aunque los delimitadores y separadores varíen, el formato general es lo suficientemente similar como para que sea posible un sólo módulo que puede manipular tal información eficientemente, escondiendo los detalles de lectura y escritura de datos del programador.\n",
        "\n",
        "El módulo csv implementa clases para leer y escribir datos tabulares en formato CSV. Permite a los programadores decir, «escribe estos datos en el formato preferido por Excel», o «lee datos de este archivo que fue generado por Excel», sin conocer los detalles precisos del formato CSV usado por Excel. Los programadores también pueden describir los formatos CSV entendidos por otras aplicaciones o definir sus propios formatos CSV para fines particulares.\n",
        "\n",
        "Los objetos reader y writer del módulo csv leen y escriben secuencias. Los programadores también pueden leer y escribir datos en forma de diccionario usando las clases ***DictReader*** y ***DictWriter***.\n",
        "\n",
        "##Contenidos del módulo\n",
        "El módulo csv define las siguientes funciones:\n",
        "\n",
        "\n",
        "\n"
      ],
      "metadata": {
        "id": "JQpLGt_QUHui"
      }
    },
    {
      "cell_type": "markdown",
      "source": [
        "***csv.writer(csvfile, dialect='excel', **fmtparams)***\n",
        "Retorna un objeto escritor responsable de convertir los datos del usuario en cadenas delimitadas en el objeto similar a un archivo dado. csvfile puede ser cualquier objeto con un método write(). Si csvfile es un objeto de archivo, debe abrirse con newline='' 1. Se puede proporcionar un parámetro dialect opcional que se usa para definir un conjunto de parámetros específicos para un dialecto CSV particular. Puede ser una instancia de una subclase de la clase Dialect o una de las cadenas retornadas por la función list_dialects(). Los otros argumentos opcionales de la palabra clave fmtparams se pueden proporcionar para anular los parámetros de formato individuales en el dialecto actual. Para obtener detalles completos sobre dialectos y parámetros de formato, consulte la sección Dialectos y parámetros de formato. Para facilitar al máximo la interfaz con módulos que implementan la API de base de datos, el valor None se escribe como una cadena vacía. Si bien esta no es una transformación reversible, facilita el volcado de valores de datos SQL NULL en archivos CSV sin preprocesar los datos retornados por una llamada cursor.fetch*. Todos los demás datos que no son cadenas se clasifican con str() antes de escribirse.\n",
        "\n",
        "Un pequeño ejemplo de uso:"
      ],
      "metadata": {
        "id": "JDKLnknFWwNK"
      }
    },
    {
      "cell_type": "code",
      "source": [
        "import csv\n",
        "with open('comida.csv', 'w', newline='') as csvfile:\n",
        "    fila = csv.writer(csvfile, delimiter=';')\n",
        "    fila.writerow(['Carne'] * 5 + ['Frijoles blanco'])\n",
        "    fila.writerow(['Carne', 'Carne estofada', 'Carne desmechada'])"
      ],
      "metadata": {
        "id": "tG31xkNWW8aO"
      },
      "execution_count": 10,
      "outputs": []
    },
    {
      "cell_type": "markdown",
      "source": [
        "***csv.reader(csvfile, dialect='excel', **fmtparams)***\n",
        "Retorna un objeto reader que iterará sobre las líneas del csvfile proporcionado. csvfile puede ser cualquier objeto que soporte el protocolo iterator y retorna una cadena de caracteres siempre que su método __next__() sea llamado — tanto objetos de archivo como objetos de lista son adecuados. Si csvfile es un objeto de archivo, debería ser abierto con newline=''. 1 Se puede proporcionar un parámetro opcional dialect, el cual se utiliza para definir un conjunto de parámetros específicos para un dialecto de CSV particular. Puede ser una instancia de una subclase de la clase Dialect o una de las cadenas retornadas por la función list_dialects(). Los otros argumentos nombrados opcionales fmtparams pueden ser dados para sustituir parámetros de formato individuales del dialecto actual. Para detalles completos sobre el dialecto y los parámetros de formato, vea la sección Dialectos y parámetros de formato.\n",
        "\n",
        "Cada fila leída del archivo csv es retornada como una lista de cadenas. No se realiza conversión automática de tipo de datos a menos que la opción de formato QUOTE_NONNUMERIC esté especificada (en ese caso los campos no citados son transformados en flotantes).\n",
        "\n",
        "Un pequeño ejemplo de uso:"
      ],
      "metadata": {
        "id": "tbQj1ZhXXhZf"
      }
    },
    {
      "cell_type": "code",
      "source": [
        "import csv\n",
        "with open('comida.csv', newline='') as csvfile:\n",
        "  fila = csv.reader(csvfile, delimiter=';')\n",
        "  for row in fila:\n",
        "    print('\\t--- '.join(row))\n"
      ],
      "metadata": {
        "id": "Cg06xQz5VBBJ",
        "colab": {
          "base_uri": "https://localhost:8080/"
        },
        "outputId": "97993ef6-02d5-4b83-91e7-e3b55b0d8e5b"
      },
      "execution_count": 11,
      "outputs": [
        {
          "output_type": "stream",
          "name": "stdout",
          "text": [
            "Carne\t--- Carne\t--- Carne\t--- Carne\t--- Carne\t--- Frijoles blanco\n",
            "Carne\t--- Carne estofada\t--- Carne desmechada\n"
          ]
        }
      ]
    },
    {
      "cell_type": "markdown",
      "source": [
        "El módulo ***csv*** define las siguientes clases:\n",
        "\n",
        "***class csv.DictWriter(f, fieldnames, restval='', extrasaction='raise', dialect='excel', *args, **kwds)***\n",
        "\n",
        "Crea un objeto que opera como un writer común, pero mapea diccionarios a filas de salida. El parámetro fieldnames es una secuencia de claves que identifican el orden en el cual los valores en el diccionario pasados al método writerow() son escritos en el archivo f. El parámetro opcional restval especifica el valor a ser escrito si al diccionario le falta una clave en fieldnames. Si el diccionario pasado al método writerow() contiene una clave no encontrada en fieldnames, el parámetro opcional extrasaction indica que acción ejecutar. Si esta configurado en 'raise', el valor por defecto, es lanzado un ValueError. Si esta configurado con 'ignore', los valores extra en el diccionario son ignorados. Cualquier otro argumento de palabra clave u opcional es pasado a la instancia subyacente de reader.\n",
        "\n",
        "Nótese que a diferencia de la clase DictReader, el parámetro fieldnames de la clase DictWriter no es opcional.\n",
        "\n",
        "Un pequeño ejemplo de uso:"
      ],
      "metadata": {
        "id": "4i4Wg1X1YNvd"
      }
    },
    {
      "cell_type": "code",
      "source": [
        "import csv\n",
        "\n",
        "with open('names-58.csv', 'w', newline='') as csvfile:\n",
        "    encabeza = ['Nombre', 'Apellido']\n",
        "    writer = csv.DictWriter(csvfile, fieldnames=encabeza,delimiter =\";\")\n",
        "\n",
        "    writer.writeheader()\n",
        "    writer.writerow({'Nombre': 'Luis', 'Apellido': 'Lopez'})\n",
        "    writer.writerow({'Nombre': 'Amanda', 'Apellido': 'León'})\n",
        "    writer.writerow({'Nombre': 'Josefa', 'Apellido': 'Alvarez'})\n",
        "    writer.writerow({'Nombre': 'Claudia', 'Apellido': 'Prieto'})"
      ],
      "metadata": {
        "id": "6Hj2Mla1Y_Ro"
      },
      "execution_count": 12,
      "outputs": []
    },
    {
      "cell_type": "markdown",
      "source": [
        "***class csv.DictReader(f, fieldnames=None, restkey=None, restval=None, dialect='excel', *args, **kwds)***\n",
        "\n",
        "Crea un objeto que opera como un reader común, pero mapea la información en cada fila a un dict cuyas claves son provistas en el parámetro opcional fieldnames.\n",
        "\n",
        "El parámetro fieldnames es una sequence. Si se omite fieldnames, los valores en la primera fila del archivo f serán usados como nombres de campo. Independientemente de como se determinen los nombres de campo, el diccionario preserva su orden original.\n",
        "\n",
        "Si una fila tiene más campos que nombres de campo, los datos restantes son colocados en una lista y guardados con el nombre de campo especificado por restkey (que por defecto es None). Si una fila que no esta en blanco tiene menos campos que nombres de campo, los valores faltantes son rellenados con el valor de restval (que por defecto es None).\n",
        "\n",
        "Todos los demás argumentos de palabra clave u opcionales son pasados a la instancia subyacente de reader.\n",
        "\n",
        "Un pequeño ejemplo de uso:"
      ],
      "metadata": {
        "id": "f5eLrr0uZzLP"
      }
    },
    {
      "cell_type": "code",
      "source": [
        "import csv\n",
        "with open('names-58.csv', newline='') as csvfile:\n",
        "     reader = csv.DictReader(csvfile, delimiter =\";\")\n",
        "\n",
        "     for row in reader:\n",
        "         print(row['Nombre'], row['Apellido'])\n",
        "\n"
      ],
      "metadata": {
        "id": "JRl7O57UaOng",
        "outputId": "436e19b7-9347-4602-93e7-439e99b36b86",
        "colab": {
          "base_uri": "https://localhost:8080/"
        }
      },
      "execution_count": 19,
      "outputs": [
        {
          "output_type": "stream",
          "name": "stdout",
          "text": [
            "Luis Lopez\n",
            "Amanda León\n",
            "Josefa Alvarez\n",
            "Claudia Prieto\n"
          ]
        }
      ]
    }
  ]
}