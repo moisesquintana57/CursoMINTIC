{
  "nbformat": 4,
  "nbformat_minor": 0,
  "metadata": {
    "colab": {
      "name": "range.ipynb",
      "provenance": []
    },
    "kernelspec": {
      "name": "python3",
      "display_name": "Python 3"
    },
    "language_info": {
      "name": "python"
    }
  },
  "cells": [
    {
      "cell_type": "markdown",
      "source": [
        "#Range en Python\n",
        "##Uso del range\n",
        "Una de las iteraciones más comunes que se realizan, es la de iterar un número entre por ejemplo 0 y n. Si ya programas, estoy seguro de que estas cansado de escribir esto, aunque sea en otro lenguaje. Pongamos que queremos iterar una variable i de 0 a 5. Haciendo uso de lo que hemos visto anteriormente, podríamos hacer lo siguiente.\n"
      ],
      "metadata": {
        "id": "RI0d_wsw2XaB"
      }
    },
    {
      "cell_type": "code",
      "execution_count": null,
      "metadata": {
        "id": "-kgPb0MS2SBH"
      },
      "outputs": [],
      "source": [
        "for i in (0, 1, 2, 3, 4, 5):\n",
        "    print(i) #0, 1, 2, 3, 4, 5"
      ]
    },
    {
      "cell_type": "markdown",
      "source": [
        "Se trata de una solución que cumple con nuestro requisito. El contenido después del in se trata de una clase que como ya hemos visto antes, es iterable, y es de hecho una tupla. Sin embargo, hay otras formas de hacer esto en Python, haciendo uso del *range()*."
      ],
      "metadata": {
        "id": "gXRo-huo2kLv"
      }
    },
    {
      "cell_type": "code",
      "source": [
        "for i in range(6):\n",
        "    print(i) #0, 1, 2, 3, 4, 5"
      ],
      "metadata": {
        "id": "G3l3BBXo2q-g"
      },
      "execution_count": null,
      "outputs": []
    },
    {
      "cell_type": "markdown",
      "source": [
        "El *range()* genera una secuencia de números que van desde 0 por defecto hasta el número que se pasa como parámetro menos 1. En realidad, se pueden pasar hasta tres parámetros separados por coma, donde el primer es el inicio de la secuencia, el segundo el final y el tercero el salto que se desea entre números. Por defecto se empieza en 0 y el salto es de 1.\n",
        "### range(inicio, fin, salto)\n",
        "Por lo tanto, si llamamos a *range()* con (5,20,2), se generarán números de 5 a 20 de dos en dos. Un truco es que el *range()* se puede convertir en *list*.\n",
        "\n",
        "Y mezclándolo con el for, podemos hacer lo siguiente."
      ],
      "metadata": {
        "id": "XgoWEIq321RS"
      }
    },
    {
      "cell_type": "code",
      "source": [
        "for i in range(5, 20, 2):\n",
        "    print(i) #5,7,9,11,13,15,17,19"
      ],
      "metadata": {
        "id": "gutZP2gQ3AZg"
      },
      "execution_count": null,
      "outputs": []
    },
    {
      "cell_type": "markdown",
      "source": [
        "Se pueden generar también secuencias inversas, empezando por un número mayor y terminando en uno menor, pero para ello el salto deberá ser negativo."
      ],
      "metadata": {
        "id": "NR37KvP13RtX"
      }
    },
    {
      "cell_type": "code",
      "source": [
        "for i in range (5, 0, -1):\n",
        "    print(i) #5,4,3,2,1"
      ],
      "metadata": {
        "colab": {
          "base_uri": "https://localhost:8080/"
        },
        "id": "bltTFAaD3T5h",
        "outputId": "79b98e7d-7215-499f-b105-16feb080603e"
      },
      "execution_count": 1,
      "outputs": [
        {
          "output_type": "stream",
          "name": "stdout",
          "text": [
            "5\n",
            "4\n",
            "3\n",
            "2\n",
            "1\n"
          ]
        }
      ]
    }
  ]
}