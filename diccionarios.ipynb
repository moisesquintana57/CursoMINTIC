{
  "nbformat": 4,
  "nbformat_minor": 0,
  "metadata": {
    "colab": {
      "name": "diccionarios.ipynb",
      "provenance": [],
      "authorship_tag": "ABX9TyP9vW3sPZPvb0FyNYd2fNoF",
      "include_colab_link": true
    },
    "kernelspec": {
      "name": "python3",
      "display_name": "Python 3"
    },
    "language_info": {
      "name": "python"
    }
  },
  "cells": [
    {
      "cell_type": "markdown",
      "metadata": {
        "id": "view-in-github",
        "colab_type": "text"
      },
      "source": [
        "<a href=\"https://colab.research.google.com/github/moisesquintana57/CursoMINTIC/blob/main/diccionarios.ipynb\" target=\"_parent\"><img src=\"https://colab.research.google.com/assets/colab-badge.svg\" alt=\"Open In Colab\"/></a>"
      ]
    },
    {
      "cell_type": "markdown",
      "source": [
        "#Diccionario\n",
        "(Tomado del https://www.ellibrodepython.com/ )\n",
        "\n",
        "Los diccionarios en Python son una estructura de datos que permite almacenar su contenido en forma de llave y valor.\n",
        "##Crear diccionario Python\n",
        "Un diccionario en Python es una colección de elementos, donde cada uno tiene una llave key y un valor value. Los diccionarios se pueden crear con lleves {} separando con una coma cada par key: value. En el siguiente ejemplo tenemos tres keys que son el nombre, la edad y el documento.\n"
      ],
      "metadata": {
        "id": "sp5HVYc9pTOa"
      }
    },
    {
      "cell_type": "code",
      "source": [
        "d1 = {\n",
        "  \"Nombre\": \"Sara\",\n",
        "  \"Edad\": 27,\n",
        "  \"Documento\": 1003882\n",
        "}\n",
        "print(d1)\n",
        "#{'Nombre': 'Sara', 'Edad': 27, 'Documento': 1003882}\n",
        "print(type(d1))"
      ],
      "metadata": {
        "id": "zH8VPTh5p-aj",
        "outputId": "f87bcf3b-982e-4249-a413-b8329a5e57b8",
        "colab": {
          "base_uri": "https://localhost:8080/"
        }
      },
      "execution_count": 2,
      "outputs": [
        {
          "output_type": "stream",
          "name": "stdout",
          "text": [
            "{'Nombre': 'Sara', 'Edad': 27, 'Documento': 1003882}\n",
            "<class 'dict'>\n"
          ]
        }
      ]
    },
    {
      "cell_type": "markdown",
      "source": [
        "Otra forma equivalente de crear un diccionario en Python es usando dict() e introduciendo los pares key: value entre paréntesis.\n"
      ],
      "metadata": {
        "id": "OTTNRni7p2N9"
      }
    },
    {
      "cell_type": "code",
      "source": [
        "d2 = dict([\n",
        "      ('Nombre', 'Sara'),\n",
        "      ('Edad', 27),\n",
        "      ('Documento', 1003882),\n",
        "])\n",
        "print(d2)\n",
        "#{'Nombre': 'Sara', 'Edad': '27', 'Documento': '1003882'}"
      ],
      "metadata": {
        "id": "Bd1-o80yqQGL"
      },
      "execution_count": null,
      "outputs": []
    },
    {
      "cell_type": "markdown",
      "source": [
        "También es posible usar el constructor dict() para crear un diccionario.\n"
      ],
      "metadata": {
        "id": "4VLx1AtVqJzr"
      }
    },
    {
      "cell_type": "code",
      "source": [
        "d3 = dict(Nombre='Sara',\n",
        "          Edad=27,\n",
        "          Documento=1003882)\n",
        "print(d3)\n",
        "#{'Nombre': 'Sara', 'Edad': 27, 'Documento': 1003882}"
      ],
      "metadata": {
        "id": "wfSJWHvDqmn-"
      },
      "execution_count": null,
      "outputs": []
    },
    {
      "cell_type": "markdown",
      "source": [
        "Algunas propiedades de los diccionario en Python son las siguientes:\n",
        " -\tSon dinámicos, pueden crecer o decrecer, se pueden añadir o eliminar elementos.\n",
        " -\tSon indexados, los elementos del diccionario son accesibles a través del key.\n",
        " -\tY son anidados, un diccionario puede contener a otro diccionario en su campo value.\n",
        "## Acceder y modificar elementos\n",
        "Se puede acceder a sus elementos con [] o también con la función get()\n"
      ],
      "metadata": {
        "id": "sxr8qIJ4qZSq"
      }
    },
    {
      "cell_type": "code",
      "source": [
        "print(d1['Nombre'])     #Sara\n",
        "print(d1.get('Edad')) #Sara"
      ],
      "metadata": {
        "id": "l9LqIY8rrTtC",
        "outputId": "290f7073-0c88-4333-bcdc-557cfaf37f1d",
        "colab": {
          "base_uri": "https://localhost:8080/"
        }
      },
      "execution_count": 4,
      "outputs": [
        {
          "output_type": "stream",
          "name": "stdout",
          "text": [
            "Sara\n",
            "27\n"
          ]
        }
      ]
    },
    {
      "cell_type": "markdown",
      "source": [
        "Para modificar un elemento basta con usar [] con el nombre del key y asignar el valor que queremos.\n"
      ],
      "metadata": {
        "id": "lSomJHv9rAII"
      }
    },
    {
      "cell_type": "code",
      "source": [
        "d1['Nombre'] = \"Laura\"\n",
        "print(d1)\n",
        "#{'Nombre': Laura', 'Edad': 27, 'Documento': 1003882}"
      ],
      "metadata": {
        "id": "rABMOMZyrDj1",
        "outputId": "caaa99cc-b96f-4d90-998f-28bdeea6245c",
        "colab": {
          "base_uri": "https://localhost:8080/"
        }
      },
      "execution_count": 6,
      "outputs": [
        {
          "output_type": "stream",
          "name": "stdout",
          "text": [
            "{'Nombre': 'Laura', 'Edad': 27, 'Documento': 1003882}\n"
          ]
        }
      ]
    },
    {
      "cell_type": "markdown",
      "source": [
        "Si el key al que accedemos no existe, se añade automáticamente.\n",
        "\n",
        "\n"
      ],
      "metadata": {
        "id": "Mh3PlcVEroaB"
      }
    },
    {
      "cell_type": "code",
      "execution_count": 7,
      "metadata": {
        "id": "2zJ-g092pSWq",
        "outputId": "4c55eb36-9d5c-4315-8ee7-6fbd3db2b27d",
        "colab": {
          "base_uri": "https://localhost:8080/"
        }
      },
      "outputs": [
        {
          "output_type": "stream",
          "name": "stdout",
          "text": [
            "{'Nombre': 'Laura', 'Edad': 27, 'Documento': 1003882, 'Direccion': 'Calle 123'}\n"
          ]
        }
      ],
      "source": [
        "d1['Direccion'] = \"Calle 123\"\n",
        "print(d1)\n",
        "#{'Nombre': 'Laura', 'Edad': 27, 'Documento': 1003882, 'Direccion': 'Calle 123'}"
      ]
    },
    {
      "cell_type": "markdown",
      "source": [
        "##Iterar diccionario\n",
        "Los diccionarios se pueden iterar de manera muy similar a las listas u otras estructuras de datos. Para imprimir los key.\n"
      ],
      "metadata": {
        "id": "6fBCvyO8r7Pp"
      }
    },
    {
      "cell_type": "code",
      "source": [
        "# Imprime los key del diccionario\n",
        "for x in d1:\n",
        "    print(x,\" --> \",d1[x])\n",
        "#Nombre\n",
        "#Edad\n",
        "#Documento\n",
        "#Direccion"
      ],
      "metadata": {
        "id": "LvQb8TfesYNY",
        "outputId": "2910c58e-e993-4db0-cdbd-4973e1a5f481",
        "colab": {
          "base_uri": "https://localhost:8080/"
        }
      },
      "execution_count": 9,
      "outputs": [
        {
          "output_type": "stream",
          "name": "stdout",
          "text": [
            "Nombre  -->  Laura\n",
            "Edad  -->  27\n",
            "Documento  -->  1003882\n",
            "Direccion  -->  Calle 123\n"
          ]
        }
      ]
    },
    {
      "cell_type": "markdown",
      "source": [
        "Se puede imprimir también solo el value."
      ],
      "metadata": {
        "id": "GqFAPdjxs9cX"
      }
    },
    {
      "cell_type": "code",
      "source": [
        "# Impre los value del diccionario\n",
        "for x in d1:\n",
        "    print(d1[x])\n",
        "#Laura\n",
        "#27\n",
        "#1003882\n",
        "#Calle 123"
      ],
      "metadata": {
        "id": "Onfv0MUctG_q",
        "outputId": "5b2acab9-deb3-40f2-f1e5-7a5852567b58",
        "colab": {
          "base_uri": "https://localhost:8080/"
        }
      },
      "execution_count": 10,
      "outputs": [
        {
          "output_type": "stream",
          "name": "stdout",
          "text": [
            "Laura\n",
            "27\n",
            "1003882\n",
            "Calle 123\n"
          ]
        }
      ]
    },
    {
      "cell_type": "markdown",
      "source": [
        "O si queremos imprimir el key y el value a la vez."
      ],
      "metadata": {
        "id": "Gk2fcLm6tPWf"
      }
    },
    {
      "cell_type": "code",
      "source": [
        "# Imprime los key y value del diccionario\n",
        "for x, y in d1.items():\n",
        "    print(x, y)\n",
        "#Nombre Laura\n",
        "#Edad 27\n",
        "#Documento 1003882\n",
        "#Direccion Calle 123"
      ],
      "metadata": {
        "id": "PBG1TPG1tTWQ",
        "outputId": "c56df5ed-18f1-4acf-81d0-382043653ef4",
        "colab": {
          "base_uri": "https://localhost:8080/"
        }
      },
      "execution_count": 13,
      "outputs": [
        {
          "output_type": "stream",
          "name": "stdout",
          "text": [
            "Nombre Laura\n",
            "Edad 27\n",
            "Documento 1003882\n",
            "Direccion Calle 123\n"
          ]
        }
      ]
    },
    {
      "cell_type": "markdown",
      "source": [
        "##Diccionarios anidados\n",
        "Los diccionarios en Python pueden contener uno dentro de otro. Podemos ver como los valores anidado uno y dos del diccionario d contienen a su vez otro diccionario.\n"
      ],
      "metadata": {
        "id": "s6RNMqKSsSgy"
      }
    },
    {
      "cell_type": "code",
      "source": [
        "fecha = dict(dia = 4, mes = 9, año = 1957)\n",
        "anidado1 = {\"a\": 1, \"b\": 2}\n",
        "anidado2 = {\"a\": 1, \"b\": 2}\n",
        "d = {\n",
        "  \"nombre\" : \"Moisés\",\n",
        "  \"cedula\" : \"295044\",\n",
        "  \"fnac\" : fecha\n",
        "}\n",
        "print(d)\n",
        "#{'anidado1': {'a': 1, 'b': 2}, 'anidado2': {'a': 1, 'b': 2}}\n",
        "for k in d:\n",
        "  print(k,d.get(k))\n",
        "  "
      ],
      "metadata": {
        "id": "GM59tj1OtqpW",
        "outputId": "9d6f86ff-b236-4c82-f573-335b6884156e",
        "colab": {
          "base_uri": "https://localhost:8080/"
        }
      },
      "execution_count": 17,
      "outputs": [
        {
          "output_type": "stream",
          "name": "stdout",
          "text": [
            "{'nombre': 'Moisés', 'cedula': '295044', 'fnac': {'dia': 4, 'mes': 9, 'año': 1957}}\n",
            "nombre Moisés\n",
            "cedula 295044\n",
            "fnac {'dia': 4, 'mes': 9, 'año': 1957}\n"
          ]
        }
      ]
    },
    {
      "cell_type": "markdown",
      "source": [
        "##Métodos diccionarios Python\n",
        "**clear()**\n",
        "El método clear() elimina todo el contenido del diccionario.\n"
      ],
      "metadata": {
        "id": "Jj4cy4SFtkaJ"
      }
    },
    {
      "cell_type": "code",
      "source": [
        "d = {'a': 1, 'b': 2}\n",
        "d.clear()\n",
        "print(d) #{}"
      ],
      "metadata": {
        "id": "IlMBrg1LuawC"
      },
      "execution_count": null,
      "outputs": []
    },
    {
      "cell_type": "markdown",
      "source": [
        "**get(<key>[,<default>])**\n",
        "El método get() nos permite consultar el value para un key determinado. El segundo parámetro es opcional, y en el caso de proporcionarlo es el valor a devolver si no se encuentra la key.\n"
      ],
      "metadata": {
        "id": "7hZW9tx1uT48"
      }
    },
    {
      "cell_type": "code",
      "source": [
        "d = {'a': 1, 'b': 2}\n",
        "print(d.get('a')) #1\n",
        "print(d.get('z', 'No encontrado')) #No encontrado"
      ],
      "metadata": {
        "id": "uUACnsskvGb2"
      },
      "execution_count": null,
      "outputs": []
    },
    {
      "cell_type": "markdown",
      "source": [
        "**items()**\n",
        "El método items() devuelve una lista con los keys y values del diccionario. Si se convierte en list se puede indexar como si de una lista normal se tratase, siendo los primeros elementos las key y los segundos los value.\n"
      ],
      "metadata": {
        "id": "xd8nsbi1uh8n"
      }
    },
    {
      "cell_type": "code",
      "source": [
        "d = {'a': 1, 'b': 2}\n",
        "it = d.items()\n",
        "print(it)             #dict_items([('a', 1), ('b', 2)])\n",
        "print(list(it))       #[('a', 1), ('b', 2)]\n",
        "print(list(it)[1][0]) #a"
      ],
      "metadata": {
        "id": "JBCeXSwAvT2m",
        "outputId": "642216ca-7c64-4328-9c1d-c931b47cea2a",
        "colab": {
          "base_uri": "https://localhost:8080/"
        }
      },
      "execution_count": 19,
      "outputs": [
        {
          "output_type": "stream",
          "name": "stdout",
          "text": [
            "dict_items([('a', 1), ('b', 2)])\n",
            "[('a', 1), ('b', 2)]\n",
            "b\n"
          ]
        }
      ]
    },
    {
      "cell_type": "markdown",
      "source": [
        "**keys()**\n",
        "El método keys() devuelve una lista con todas las keys del diccionario.\n"
      ],
      "metadata": {
        "id": "gsTR1UlKvM0W"
      }
    },
    {
      "cell_type": "code",
      "source": [
        "d = {'a': 1, 'b': 2}\n",
        "k = d.keys()\n",
        "print(k)       #dict_keys(['a', 'b'])\n",
        "print(list(k)) #['a', 'b']"
      ],
      "metadata": {
        "id": "y8NL2D5lvyTo",
        "outputId": "6908512f-8391-4d51-c815-d67c71ac191e",
        "colab": {
          "base_uri": "https://localhost:8080/"
        }
      },
      "execution_count": 20,
      "outputs": [
        {
          "output_type": "stream",
          "name": "stdout",
          "text": [
            "dict_keys(['a', 'b'])\n",
            "['a', 'b']\n"
          ]
        }
      ]
    },
    {
      "cell_type": "markdown",
      "source": [
        "**values()**\n",
        "El método values() devuelve una lista con todos los values o valores del diccionario.\n"
      ],
      "metadata": {
        "id": "7g6pt6uEvsqv"
      }
    },
    {
      "cell_type": "code",
      "source": [
        "d = {'a': 1, 'b': 2}\n",
        "print(list(d.values())) #[1, 2]"
      ],
      "metadata": {
        "id": "m5DAAo9-wBZo"
      },
      "execution_count": null,
      "outputs": []
    },
    {
      "cell_type": "markdown",
      "source": [
        "**pop(<key>[,<default>])**\n",
        "El método pop() busca y elimina la key que se pasa como parámetro y devuelve su valor asociado. Daría un error si se intenta eliminar una key que no existe.\n"
      ],
      "metadata": {
        "id": "0SXYijL5v20O"
      }
    },
    {
      "cell_type": "code",
      "source": [
        "d = {'a': 1, 'b': 2, 'c':3}\n",
        "d.pop('b')\n",
        "print(d) #{'b': 2}"
      ],
      "metadata": {
        "id": "jEcopZNuwVDl",
        "outputId": "4075c78f-69e1-4e72-89c6-98fdbd873008",
        "colab": {
          "base_uri": "https://localhost:8080/"
        }
      },
      "execution_count": 22,
      "outputs": [
        {
          "output_type": "stream",
          "name": "stdout",
          "text": [
            "{'a': 1, 'c': 3}\n"
          ]
        }
      ]
    },
    {
      "cell_type": "markdown",
      "source": [
        "También se puede pasar un segundo parámetro que es el valor a devolver si la key no se ha encontrado. En este caso si no se encuentra no habría error."
      ],
      "metadata": {
        "id": "NfZkx-zKwhsG"
      }
    },
    {
      "cell_type": "code",
      "source": [
        "d = {'a': 1, 'b': 2}\n",
        "d.pop('c',-1)\n",
        "print(d) #{'a': 1, 'b': 2}"
      ],
      "metadata": {
        "id": "SluBUz7WwpYn",
        "outputId": "524f8229-df72-4d5d-a110-b71288fdeaee",
        "colab": {
          "base_uri": "https://localhost:8080/"
        }
      },
      "execution_count": 25,
      "outputs": [
        {
          "output_type": "stream",
          "name": "stdout",
          "text": [
            "{'a': 1, 'b': 2}\n"
          ]
        }
      ]
    },
    {
      "cell_type": "markdown",
      "source": [
        "**popitem()**\n",
        "El método popitem() elimina el último item insertado  del diccionario.\n"
      ],
      "metadata": {
        "id": "jGJj_JP5wQUl"
      }
    },
    {
      "cell_type": "code",
      "source": [
        "d = {'z':27, 'a': 1, 'b': 2, 'c':3, 'd' : 4, 'e':4}\n",
        "d.popitem()\n",
        "print(d)\n",
        "#{'a': 1}"
      ],
      "metadata": {
        "id": "jru8gy4bw4r3",
        "outputId": "d581d55a-3fb9-41b5-8c5a-4a1b4d0054d0",
        "colab": {
          "base_uri": "https://localhost:8080/"
        }
      },
      "execution_count": 29,
      "outputs": [
        {
          "output_type": "stream",
          "name": "stdout",
          "text": [
            "{'z': 27, 'a': 1, 'b': 2, 'c': 3, 'd': 4}\n"
          ]
        }
      ]
    },
    {
      "cell_type": "markdown",
      "source": [
        "**update(<obj>)**\n",
        "El método update() se llama sobre un diccionario y tiene como entrada otro diccionario. Los value son actualizados y si alguna key del nuevo diccionario no está, es añadida."
      ],
      "metadata": {
        "id": "7knRIaBcw1aA"
      }
    },
    {
      "cell_type": "code",
      "source": [
        "d1 = {'a': 1, 'b': 2}\n",
        "d2 = {'a': 0, 'd': 400}\n",
        "d1.update(d2)\n",
        "print(d1)\n",
        "#{'a': 0, 'b': 2, 'd': 400}"
      ],
      "metadata": {
        "id": "9_Qex5PsxFn1"
      },
      "execution_count": null,
      "outputs": []
    }
  ]
}