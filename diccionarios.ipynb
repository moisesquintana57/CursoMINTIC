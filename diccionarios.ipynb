{
  "nbformat": 4,
  "nbformat_minor": 0,
  "metadata": {
    "colab": {
      "name": "diccionarios.ipynb",
      "provenance": [],
      "authorship_tag": "ABX9TyPwK7VHYxR0ZWuBtBn/fSbW",
      "include_colab_link": true
    },
    "kernelspec": {
      "name": "python3",
      "display_name": "Python 3"
    },
    "language_info": {
      "name": "python"
    }
  },
  "cells": [
    {
      "cell_type": "markdown",
      "metadata": {
        "id": "view-in-github",
        "colab_type": "text"
      },
      "source": [
        "<a href=\"https://colab.research.google.com/github/moisesquintana57/CursoMINTIC/blob/main/diccionarios.ipynb\" target=\"_parent\"><img src=\"https://colab.research.google.com/assets/colab-badge.svg\" alt=\"Open In Colab\"/></a>"
      ]
    },
    {
      "cell_type": "markdown",
      "source": [
        "#Diccionario\n",
        "(Tomado del https://www.ellibrodepython.com/ )\n",
        "\n",
        "Los diccionarios en Python son una estructura de datos que permite almacenar su contenido en forma de llave y valor.\n",
        "##Crear diccionario Python\n",
        "Un diccionario en Python es una colección de elementos, donde cada uno tiene una llave key y un valor value. Los diccionarios se pueden crear con lleves {} separando con una coma cada par key: value. En el siguiente ejemplo tenemos tres keys que son el nombre, la edad y el documento.\n"
      ],
      "metadata": {
        "id": "sp5HVYc9pTOa"
      }
    },
    {
      "cell_type": "code",
      "source": [
        "d1 = {\n",
        "  \"Nombre\": \"Sara\",\n",
        "  \"Edad\": 27,\n",
        "  \"Documento\": 1003882\n",
        "}\n",
        "print(d1)\n",
        "#{'Nombre': 'Sara', 'Edad': 27, 'Documento': 1003882}"
      ],
      "metadata": {
        "id": "zH8VPTh5p-aj"
      },
      "execution_count": null,
      "outputs": []
    },
    {
      "cell_type": "markdown",
      "source": [
        "Otra forma equivalente de crear un diccionario en Python es usando dict() e introduciendo los pares key: value entre paréntesis.\n"
      ],
      "metadata": {
        "id": "OTTNRni7p2N9"
      }
    },
    {
      "cell_type": "code",
      "source": [
        "d2 = dict([\n",
        "      ('Nombre', 'Sara'),\n",
        "      ('Edad', 27),\n",
        "      ('Documento', 1003882),\n",
        "])\n",
        "print(d2)\n",
        "#{'Nombre': 'Sara', 'Edad': '27', 'Documento': '1003882'}"
      ],
      "metadata": {
        "id": "Bd1-o80yqQGL"
      },
      "execution_count": null,
      "outputs": []
    },
    {
      "cell_type": "markdown",
      "source": [
        "También es posible usar el constructor dict() para crear un diccionario.\n"
      ],
      "metadata": {
        "id": "4VLx1AtVqJzr"
      }
    },
    {
      "cell_type": "code",
      "source": [
        "d3 = dict(Nombre='Sara',\n",
        "          Edad=27,\n",
        "          Documento=1003882)\n",
        "print(d3)\n",
        "#{'Nombre': 'Sara', 'Edad': 27, 'Documento': 1003882}"
      ],
      "metadata": {
        "id": "wfSJWHvDqmn-"
      },
      "execution_count": null,
      "outputs": []
    },
    {
      "cell_type": "markdown",
      "source": [
        "Algunas propiedades de los diccionario en Python son las siguientes:\n",
        " -\tSon dinámicos, pueden crecer o decrecer, se pueden añadir o eliminar elementos.\n",
        " -\tSon indexados, los elementos del diccionario son accesibles a través del key.\n",
        " -\tY son anidados, un diccionario puede contener a otro diccionario en su campo value.\n",
        "## Acceder y modificar elementos\n",
        "Se puede acceder a sus elementos con [] o también con la función get()\n"
      ],
      "metadata": {
        "id": "sxr8qIJ4qZSq"
      }
    },
    {
      "cell_type": "code",
      "source": [
        "print(d1['Nombre'])     #Sara\n",
        "print(d1.get('Nombre')) #Sara"
      ],
      "metadata": {
        "id": "l9LqIY8rrTtC"
      },
      "execution_count": null,
      "outputs": []
    },
    {
      "cell_type": "markdown",
      "source": [
        "Para modificar un elemento basta con usar [] con el nombre del key y asignar el valor que queremos.\n"
      ],
      "metadata": {
        "id": "lSomJHv9rAII"
      }
    },
    {
      "cell_type": "code",
      "source": [
        "# d1['Nombre'] = \"Laura\"\n",
        "print(d1)\n",
        "#{'Nombre': Laura', 'Edad': 27, 'Documento': 1003882}"
      ],
      "metadata": {
        "id": "rABMOMZyrDj1"
      },
      "execution_count": null,
      "outputs": []
    },
    {
      "cell_type": "markdown",
      "source": [
        ""
      ],
      "metadata": {
        "id": "fkaoFhvSroB5"
      }
    },
    {
      "cell_type": "markdown",
      "source": [
        "Si el key al que accedemos no existe, se añade automáticamente.\n",
        "\n",
        "\n"
      ],
      "metadata": {
        "id": "Mh3PlcVEroaB"
      }
    },
    {
      "cell_type": "code",
      "execution_count": null,
      "metadata": {
        "id": "2zJ-g092pSWq"
      },
      "outputs": [],
      "source": [
        "d1['Direccion'] = \"Calle 123\"\n",
        "print(d1)\n",
        "#{'Nombre': 'Laura', 'Edad': 27, 'Documento': 1003882, 'Direccion': 'Calle 123'}"
      ]
    },
    {
      "cell_type": "markdown",
      "source": [
        "##Iterar diccionario\n",
        "Los diccionarios se pueden iterar de manera muy similar a las listas u otras estructuras de datos. Para imprimir los key.\n"
      ],
      "metadata": {
        "id": "6fBCvyO8r7Pp"
      }
    },
    {
      "cell_type": "code",
      "source": [
        "# Imprime los key del diccionario\n",
        "for x in d1:\n",
        "    print(x)\n",
        "#Nombre\n",
        "#Edad\n",
        "#Documento\n",
        "#Direccion"
      ],
      "metadata": {
        "id": "LvQb8TfesYNY"
      },
      "execution_count": null,
      "outputs": []
    },
    {
      "cell_type": "markdown",
      "source": [
        "Se puede imprimir también solo el value."
      ],
      "metadata": {
        "id": "GqFAPdjxs9cX"
      }
    },
    {
      "cell_type": "code",
      "source": [
        "# Impre los value del diccionario\n",
        "for x in d1:\n",
        "    print(d1[x])\n",
        "#Laura\n",
        "#27\n",
        "#1003882\n",
        "#Calle 123"
      ],
      "metadata": {
        "id": "Onfv0MUctG_q"
      },
      "execution_count": null,
      "outputs": []
    },
    {
      "cell_type": "markdown",
      "source": [
        "O si queremos imprimir el key y el value a la vez."
      ],
      "metadata": {
        "id": "Gk2fcLm6tPWf"
      }
    },
    {
      "cell_type": "code",
      "source": [
        "# Imprime los key y value del diccionario\n",
        "for x, y in d1.items():\n",
        "    print(x, y)\n",
        "#Nombre Laura\n",
        "#Edad 27\n",
        "#Documento 1003882\n",
        "#Direccion Calle 123"
      ],
      "metadata": {
        "id": "PBG1TPG1tTWQ"
      },
      "execution_count": null,
      "outputs": []
    },
    {
      "cell_type": "markdown",
      "source": [
        "##Diccionarios anidados\n",
        "Los diccionarios en Python pueden contener uno dentro de otro. Podemos ver como los valores anidado uno y dos del diccionario d contienen a su vez otro diccionario.\n"
      ],
      "metadata": {
        "id": "s6RNMqKSsSgy"
      }
    },
    {
      "cell_type": "code",
      "source": [
        "anidado1 = {\"a\": 1, \"b\": 2}\n",
        "anidado2 = {\"a\": 1, \"b\": 2}\n",
        "d = {\n",
        "  \"anidado1\" : anidado1,\n",
        "  \"anidado2\" : anidado2\n",
        "}\n",
        "print(d)\n",
        "#{'anidado1': {'a': 1, 'b': 2}, 'anidado2': {'a': 1, 'b': 2}}"
      ],
      "metadata": {
        "id": "GM59tj1OtqpW"
      },
      "execution_count": null,
      "outputs": []
    },
    {
      "cell_type": "markdown",
      "source": [
        "##Métodos diccionarios Python\n",
        "**clear()**\n",
        "El método clear() elimina todo el contenido del diccionario.\n"
      ],
      "metadata": {
        "id": "Jj4cy4SFtkaJ"
      }
    },
    {
      "cell_type": "code",
      "source": [
        "d = {'a': 1, 'b': 2}\n",
        "d.clear()\n",
        "print(d) #{}"
      ],
      "metadata": {
        "id": "IlMBrg1LuawC"
      },
      "execution_count": null,
      "outputs": []
    },
    {
      "cell_type": "markdown",
      "source": [
        "**get(<key>[,<default>])**\n",
        "El método get() nos permite consultar el value para un key determinado. El segundo parámetro es opcional, y en el caso de proporcionarlo es el valor a devolver si no se encuentra la key.\n"
      ],
      "metadata": {
        "id": "7hZW9tx1uT48"
      }
    },
    {
      "cell_type": "code",
      "source": [
        "d = {'a': 1, 'b': 2}\n",
        "print(d.get('a')) #1\n",
        "print(d.get('z', 'No encontrado')) #No encontrado"
      ],
      "metadata": {
        "id": "uUACnsskvGb2"
      },
      "execution_count": null,
      "outputs": []
    },
    {
      "cell_type": "markdown",
      "source": [
        "**items()**\n",
        "El método items() devuelve una lista con los keys y values del diccionario. Si se convierte en list se puede indexar como si de una lista normal se tratase, siendo los primeros elementos las key y los segundos los value.\n"
      ],
      "metadata": {
        "id": "xd8nsbi1uh8n"
      }
    },
    {
      "cell_type": "code",
      "source": [
        "d = {'a': 1, 'b': 2}\n",
        "it = d.items()\n",
        "print(it)             #dict_items([('a', 1), ('b', 2)])\n",
        "print(list(it))       #[('a', 1), ('b', 2)]\n",
        "print(list(it)[0][0]) #a"
      ],
      "metadata": {
        "id": "JBCeXSwAvT2m"
      },
      "execution_count": null,
      "outputs": []
    },
    {
      "cell_type": "markdown",
      "source": [
        "**keys()**\n",
        "El método keys() devuelve una lista con todas las keys del diccionario.\n"
      ],
      "metadata": {
        "id": "gsTR1UlKvM0W"
      }
    },
    {
      "cell_type": "code",
      "source": [
        "d = {'a': 1, 'b': 2}\n",
        "k = d.keys()\n",
        "print(k)       #dict_keys(['a', 'b'])\n",
        "print(list(k)) #['a', 'b']"
      ],
      "metadata": {
        "id": "y8NL2D5lvyTo"
      },
      "execution_count": null,
      "outputs": []
    },
    {
      "cell_type": "markdown",
      "source": [
        "**values()**\n",
        "El método values() devuelve una lista con todos los values o valores del diccionario.\n"
      ],
      "metadata": {
        "id": "7g6pt6uEvsqv"
      }
    },
    {
      "cell_type": "code",
      "source": [
        "d = {'a': 1, 'b': 2}\n",
        "print(list(d.values())) #[1, 2]"
      ],
      "metadata": {
        "id": "m5DAAo9-wBZo"
      },
      "execution_count": null,
      "outputs": []
    },
    {
      "cell_type": "markdown",
      "source": [
        "**pop(<key>[,<default>])**\n",
        "El método pop() busca y elimina la key que se pasa como parámetro y devuelve su valor asociado. Daría un error si se intenta eliminar una key que no existe.\n"
      ],
      "metadata": {
        "id": "0SXYijL5v20O"
      }
    },
    {
      "cell_type": "code",
      "source": [
        "d = {'a': 1, 'b': 2}\n",
        "d.pop('a')\n",
        "print(d) #{'b': 2}"
      ],
      "metadata": {
        "id": "jEcopZNuwVDl"
      },
      "execution_count": null,
      "outputs": []
    },
    {
      "cell_type": "markdown",
      "source": [
        "También se puede pasar un segundo parámetro que es el valor a devolver si la key no se ha encontrado. En este caso si no se encuentra no habría error."
      ],
      "metadata": {
        "id": "NfZkx-zKwhsG"
      }
    },
    {
      "cell_type": "code",
      "source": [
        "d = {'a': 1, 'b': 2}\n",
        "d.pop('c', -1)\n",
        "print(d) #{'a': 1, 'b': 2}"
      ],
      "metadata": {
        "id": "SluBUz7WwpYn"
      },
      "execution_count": null,
      "outputs": []
    },
    {
      "cell_type": "markdown",
      "source": [
        "**popitem()**\n",
        "El método popitem() elimina de manera aleatoria un elemento del diccionario.\n"
      ],
      "metadata": {
        "id": "jGJj_JP5wQUl"
      }
    },
    {
      "cell_type": "code",
      "source": [
        "d = {'a': 1, 'b': 2}\n",
        "d.popitem()\n",
        "print(d)\n",
        "#{'a': 1}"
      ],
      "metadata": {
        "id": "jru8gy4bw4r3"
      },
      "execution_count": null,
      "outputs": []
    },
    {
      "cell_type": "markdown",
      "source": [
        "**update(<obj>)**\n",
        "El método update() se llama sobre un diccionario y tiene como entrada otro diccionario. Los value son actualizados y si alguna key del nuevo diccionario no está, es añadida."
      ],
      "metadata": {
        "id": "7knRIaBcw1aA"
      }
    },
    {
      "cell_type": "code",
      "source": [
        "d1 = {'a': 1, 'b': 2}\n",
        "d2 = {'a': 0, 'd': 400}\n",
        "d1.update(d2)\n",
        "print(d1)\n",
        "#{'a': 0, 'b': 2, 'd': 400}"
      ],
      "metadata": {
        "id": "9_Qex5PsxFn1"
      },
      "execution_count": null,
      "outputs": []
    }
  ]
}