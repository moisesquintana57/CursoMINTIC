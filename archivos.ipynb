{
  "nbformat": 4,
  "nbformat_minor": 0,
  "metadata": {
    "colab": {
      "name": "archivos.ipynb",
      "provenance": [],
      "authorship_tag": "ABX9TyMV2Wbbrt6zfxgPZIPGemp0",
      "include_colab_link": true
    },
    "kernelspec": {
      "name": "python3",
      "display_name": "Python 3"
    },
    "language_info": {
      "name": "python"
    }
  },
  "cells": [
    {
      "cell_type": "markdown",
      "metadata": {
        "id": "view-in-github",
        "colab_type": "text"
      },
      "source": [
        "<a href=\"https://colab.research.google.com/github/moisesquintana57/CursoMINTIC/blob/main/archivos.ipynb\" target=\"_parent\"><img src=\"https://colab.research.google.com/assets/colab-badge.svg\" alt=\"Open In Colab\"/></a>"
      ]
    },
    {
      "cell_type": "markdown",
      "source": [
        "#Archivos en Python\n",
        "##Leer archivos en Python\n",
        "Al igual que en otros lenguajes de programación, en Python es posible **abrir ficheros y leer su contenido**. Los ficheros o archivos pueden ser de lo más variado, desde un simple texto a contenido binario. Para simplificar nos centraremos en **leer un fichero de texto**. Si quieres aprender como escribir en un fichero te lo explicamos en este otro post.\n",
        "\n",
        "Imagínate entonces que tienes un fichero de texto con unos datos, como podría ser un ***.txt*** o un ***.csv***, y quieres leer su contenido para realizar algún tipo de procesado sobre el mismo. Nuestro fichero podría ser el siguiente."
      ],
      "metadata": {
        "id": "RBz9RSaX6QXD"
      }
    },
    {
      "cell_type": "code",
      "execution_count": null,
      "metadata": {
        "id": "LPdjQsKA6O7e"
      },
      "outputs": [],
      "source": [
        "# contenido del fichero ejemplo.txt\n",
        "Contenido de la primera línea\n",
        "Contenido de la segunda línea\n",
        "Contenido de la tercera línea\n",
        "Contenido de la cuarta línea"
      ]
    },
    {
      "cell_type": "markdown",
      "source": [
        "Podemos abrir el fichero con la función **open()** pasando como argumento el nombre del fichero que queremos abrir."
      ],
      "metadata": {
        "id": "ptKxnxfE9vWH"
      }
    },
    {
      "cell_type": "code",
      "source": [
        "fichero = open('archivo.txt')"
      ],
      "metadata": {
        "id": "dG1qY3Mh91dY"
      },
      "execution_count": null,
      "outputs": []
    },
    {
      "cell_type": "markdown",
      "source": [
        "###Método read()\n",
        "Con **open()** tendremos ya en fichero el contenido del documento listo para usar, y podemos imprimir su contenido con **read()**. El siguiente código imprime todo el fichero."
      ],
      "metadata": {
        "id": "_AGgwa1pAskg"
      }
    },
    {
      "cell_type": "code",
      "source": [
        "print(fichero.read())\n",
        "#Contenido de la primera línea\n",
        "#Contenido de la segunda línea\n",
        "#Contenido de la tercera línea\n",
        "#Contenido de la cuarta línea"
      ],
      "metadata": {
        "id": "dG17pt2RBGQg"
      },
      "execution_count": null,
      "outputs": []
    },
    {
      "cell_type": "markdown",
      "source": [
        "###Método readline()\n",
        "Es posible también leer un número de líneas determinado y no todo el fichero de golpe. Para ello hacemos uso de la función ***readline()***. Cada vez que se llama a la función, se lee una línea."
      ],
      "metadata": {
        "id": "iYBq8XIoC3Ft"
      }
    }
  ]
}