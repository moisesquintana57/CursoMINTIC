{
  "nbformat": 4,
  "nbformat_minor": 0,
  "metadata": {
    "colab": {
      "name": "archivos.ipynb",
      "provenance": [],
      "collapsed_sections": [],
      "authorship_tag": "ABX9TyM/Hu56UUB8HSV6Wp0IQx2M",
      "include_colab_link": true
    },
    "kernelspec": {
      "name": "python3",
      "display_name": "Python 3"
    },
    "language_info": {
      "name": "python"
    }
  },
  "cells": [
    {
      "cell_type": "markdown",
      "metadata": {
        "id": "view-in-github",
        "colab_type": "text"
      },
      "source": [
        "<a href=\"https://colab.research.google.com/github/moisesquintana57/CursoMINTIC/blob/main/archivos.ipynb\" target=\"_parent\"><img src=\"https://colab.research.google.com/assets/colab-badge.svg\" alt=\"Open In Colab\"/></a>"
      ]
    },
    {
      "cell_type": "markdown",
      "source": [
        "#Archivos en Python\n",
        "##Leer archivos en Python\n",
        "Al igual que en otros lenguajes de programación, en Python es posible **abrir ficheros y leer su contenido**. Los ficheros o archivos pueden ser de lo más variado, desde un simple texto a contenido binario. Para simplificar nos centraremos en **leer un fichero de texto**. Si quieres aprender como escribir en un fichero te lo explicamos en este otro post.\n",
        "\n",
        "Imagínate entonces que tienes un fichero de texto con unos datos, como podría ser un ***.txt*** o un ***.csv***, y quieres leer su contenido para realizar algún tipo de procesado sobre el mismo. Nuestro fichero podría ser el siguiente."
      ],
      "metadata": {
        "id": "RBz9RSaX6QXD"
      }
    },
    {
      "cell_type": "code",
      "execution_count": null,
      "metadata": {
        "id": "LPdjQsKA6O7e"
      },
      "outputs": [],
      "source": [
        "# contenido del fichero ejemplo.txt\n",
        "Contenido de la primera línea\n",
        "Contenido de la segunda línea\n",
        "Contenido de la tercera línea\n",
        "Contenido de la cuarta línea"
      ]
    },
    {
      "cell_type": "markdown",
      "source": [
        "Podemos abrir el fichero con la función **open()** pasando como argumento el nombre del fichero que queremos abrir."
      ],
      "metadata": {
        "id": "ptKxnxfE9vWH"
      }
    },
    {
      "cell_type": "code",
      "source": [
        "fichero = open('archivo.txt')"
      ],
      "metadata": {
        "id": "dG1qY3Mh91dY"
      },
      "execution_count": null,
      "outputs": []
    },
    {
      "cell_type": "markdown",
      "source": [
        "###Método read()\n",
        "Con **open()** tendremos ya en fichero el contenido del documento listo para usar, y podemos imprimir su contenido con **read()**. El siguiente código imprime todo el fichero."
      ],
      "metadata": {
        "id": "_AGgwa1pAskg"
      }
    },
    {
      "cell_type": "code",
      "source": [
        "print(fichero.read())\n",
        "#Contenido de la primera línea\n",
        "#Contenido de la segunda línea\n",
        "#Contenido de la tercera línea\n",
        "#Contenido de la cuarta línea"
      ],
      "metadata": {
        "id": "dG17pt2RBGQg"
      },
      "execution_count": null,
      "outputs": []
    },
    {
      "cell_type": "markdown",
      "source": [
        "###Método readline()\n",
        "Es posible también leer un número de líneas determinado y no todo el fichero de golpe. Para ello hacemos uso de la función ***readline()***. Cada vez que se llama a la función, se lee una línea."
      ],
      "metadata": {
        "id": "iYBq8XIoC3Ft"
      }
    },
    {
      "cell_type": "code",
      "source": [
        "fichero = open('ejemplo.txt')\n",
        "print(fichero.readline())\n",
        "print(fichero.readline())\n",
        "# Contenido de la primera línea\n",
        "# Contenido de la segunda línea"
      ],
      "metadata": {
        "id": "zH76hYn3G4ns"
      },
      "execution_count": null,
      "outputs": []
    },
    {
      "cell_type": "markdown",
      "source": [
        "Es muy importante saber que una vez hayas leído todas las línea del archivo, la función ya no devolverá nada, porque se habrá llegado al final. Si quieres que readline() funcione otra vez, podrías por ejemplo volver a leer el fichero con **open()**.\n",
        "\n",
        "Otra forma de usar **readline()** es pasando como argumento un número. Este número leerá un determinado número de caracteres. El siguiente código lee todo el fichero carácter por carácter."
      ],
      "metadata": {
        "id": "qVqtqWIPG6JR"
      }
    },
    {
      "cell_type": "code",
      "source": [
        "fichero = open('ejemplo.txt')\n",
        "caracter = fichero.readline(1)\n",
        "while caracter != \"\":\n",
        "    print(caracter)\n",
        "    caracter = fichero.readline(1)"
      ],
      "metadata": {
        "id": "64L9WeAIIiuE"
      },
      "execution_count": null,
      "outputs": []
    },
    {
      "cell_type": "markdown",
      "source": [
        "### Método readlines()\n",
        "\n",
        "Existe otro método llamado **readlines()**, que devuelve una lista donde cada elemento es una línea del fichero."
      ],
      "metadata": {
        "id": "NbphjJacKZLq"
      }
    },
    {
      "cell_type": "code",
      "source": [
        "fichero = open('ejemplo.txt')\n",
        "lineas = fichero.readlines()\n",
        "print(lineas)\n",
        "#['Contenido de la primera línea\\n', 'Contenido de la segunda línea\\n',\n",
        "#'Contenido de la tercera línea\\n', 'Contenido de la cuarta línea']"
      ],
      "metadata": {
        "id": "_I_6RpGTLGaO"
      },
      "execution_count": null,
      "outputs": []
    },
    {
      "cell_type": "markdown",
      "source": [
        "De manera muy sencilla podemos iterar las líneas e imprimirlas por pantalla."
      ],
      "metadata": {
        "id": "_QElcTteLwUw"
      }
    },
    {
      "cell_type": "code",
      "source": [
        "fichero = open('ejemplo.txt')\n",
        "lineas = fichero.readlines()\n",
        "for linea in lineas:\n",
        "    print(linea)"
      ],
      "metadata": {
        "id": "X_a-XukKLyWq"
      },
      "execution_count": null,
      "outputs": []
    },
    {
      "cell_type": "markdown",
      "source": [
        "###Argumentos de open()\n",
        "Hasta ahora hemos visto la función open() con tan sólo un argumento de entrada, el nombre del fichero. Lo cierto es que existe un segundo argumento que es importante especificar. Se trata del modo de apertura del fichero. En la documentación oficial se explica en detalle.\n",
        "\n",
        " - ‘r’: Por defecto, para leer el fichero.\n",
        " - ‘w’: Para escribir en el fichero.\n",
        " - ‘x’: Para la creación, fallando si ya existe.\n",
        " - ‘a’: Para añadir contenido a un fichero existente.\n",
        " - ‘b’: Para abrir en modo binario.\n",
        "\n",
        "Por lo tanto lo estrictamete correcto si queremos leer el fichero sería hacer lo siguiente. Aunque el modo **r** sea por defecto, es una buena práctica indicarlo para darle a entender a otras personas que lean nuestro código que no queremos modificarlo, tan solo leerlo."
      ],
      "metadata": {
        "id": "tcCWZB8QMg8B"
      }
    },
    {
      "cell_type": "code",
      "source": [
        "fichero = open('ejemplo.txt', 'r')"
      ],
      "metadata": {
        "id": "aAdkVMP3M8Nv"
      },
      "execution_count": null,
      "outputs": []
    },
    {
      "cell_type": "markdown",
      "source": [
        "### Cerrando el fichero\n",
        "\n",
        "Otra cosa que debemos hacer cuando trabajamos con ficheros en Python, es ***cerrarlos una vez que ya hemos acabado con ellos***. Aunque es verdad que el fichero normalmente acabará siendo cerrado automáticamente, es importante especificarlo para evitar tener comportamientos inesperados.\n",
        "\n",
        "Por lo tanto si queremos cerrar un fichero sólo tenemos que usar la función **close()** sobre el mismo. Por lo tanto tenemos tres pasos:\n",
        "\n",
        "Abrir el fichero que queramos. En modo texto usaremos **‘r’**.\n",
        "Usar el fichero para recopilar o procesar los datos que necesitábamos.\n",
        "Cuando hayamos acabado, cerramos el fichero."
      ],
      "metadata": {
        "id": "e94xTG8aNIc_"
      }
    },
    {
      "cell_type": "code",
      "source": [
        "fichero = open('ejemplo.txt', 'r')\n",
        "# Usar la variable fichero\n",
        "# Cerrar el fichero\n",
        "fichero.close()"
      ],
      "metadata": {
        "id": "GBWPEfJVNhbw"
      },
      "execution_count": null,
      "outputs": []
    },
    {
      "cell_type": "markdown",
      "source": [
        "Y  existe otra forma de cerrar el fichero automáticamente. Si hacemos uso se **with()**, el fichero se cerrará automáticamente una vez se salga de ese bloque de código."
      ],
      "metadata": {
        "id": "ngw6ZkupNisb"
      }
    },
    {
      "cell_type": "code",
      "source": [
        "with open('ejemplo.txt') as fichero:\n",
        "    # Usar el fichero. Se cerrará automáticamente\n",
        "    pass"
      ],
      "metadata": {
        "id": "KlZaaTWwODgp"
      },
      "execution_count": null,
      "outputs": []
    },
    {
      "cell_type": "markdown",
      "source": [
        "###Ejemplos\n",
        "Como ya hemos visto **readline()** lee línea por línea el fichero. También hacemos uso de un bucle while para leer líneas mientras que no se haya llegado al final. Es por eso por lo que comparamos ***linea != ''***, ya que se devuelve un string vació cuando se ha llegado al final."
      ],
      "metadata": {
        "id": "-ZjwcMUzOQbw"
      }
    },
    {
      "cell_type": "code",
      "source": [
        "with open('ejemplo.txt', 'r') as fichero:\n",
        "    linea = fichero.readline()\n",
        "    while linea != '':\n",
        "        print(linea, end='')\n",
        "        linea = fichero.readline()\n",
        "\n",
        "#Contenido de la primera línea\n",
        "#Contenido de la segunda línea\n",
        "#Contenido de la tercera línea\n",
        "#Contenido de la cuarta línea"
      ],
      "metadata": {
        "id": "sp2fVWvXOb3A"
      },
      "execution_count": null,
      "outputs": []
    },
    {
      "cell_type": "markdown",
      "source": [
        "#Escribir archivos en Python\n",
        "A continuación te explicamos como escribir datos en un fichero usando Python. Imagínate que tienes unos datos que te gustaría guardar en un fichero para su posterior análisis. Te explicamos como guardarlos en un fichero, por ejemplo, **.txt**. Si también quieres aprender como leer un fichero en Python te lo explicamos en este otro post.\n",
        "\n",
        "Lo primero que debemos de hacer es crear un objeto para el fichero, con el nombre que queramos. Al igual que vimos en el post de leer ficheros, además del nombre se puede pasar un segundo parámetro que indica el modo en el que se tratará el fichero. Los más relevantes en este caso son los siguientes. Para más información consulta la documentación oficial.\n",
        "\n",
        " - ‘w’: Borra el fichero si ya existiese y crea uno nuevo con el nombre indicado.\n",
        " - ‘a’: Añadirá el contenido al final del fichero si ya existiese (append end Inglés)\n",
        " - ‘x’: Si ya existe el fichero se devuelve un error.\n",
        "\n",
        "Por lo tanto con la siguiente línea estamos creando un fichero con el nombre ***datos_guardados.txt***."
      ],
      "metadata": {
        "id": "ZVsSKlL_M_S-"
      }
    },
    {
      "cell_type": "code",
      "source": [
        "# Abre un nuevo fichero\n",
        "fichero = open(\"datos_guardados.txt\", 'w')"
      ],
      "metadata": {
        "id": "_oHY3AHQN3ks"
      },
      "execution_count": null,
      "outputs": []
    },
    {
      "cell_type": "markdown",
      "source": [
        "Si por lo contrario queremos añadir el contenido al ya existente en un fichero de antes, podemos hacerlo en el modo ***append*** como hemos indicado."
      ],
      "metadata": {
        "id": "iT-y6zBgOImV"
      }
    },
    {
      "cell_type": "code",
      "source": [
        "# Abre un nuevo y añade el contenido al final\n",
        "fichero = open(\"datos_guardados.txt\", 'a')"
      ],
      "metadata": {
        "id": "RUS6oGuqON4b"
      },
      "execution_count": null,
      "outputs": []
    },
    {
      "cell_type": "markdown",
      "source": [
        "###Método write()\n",
        "Ya hemos visto como crear el fichero. Veamos ahora como podemos añadir contenido. Empecemos escribiendo un texto."
      ],
      "metadata": {
        "id": "NoCfQsUFOZHs"
      }
    },
    {
      "cell_type": "code",
      "source": [
        "fichero = open(\"datos_guardados.txt\", 'w')\n",
        "fichero.write(\"Contenido a escribir\")\n",
        "fichero.close()"
      ],
      "metadata": {
        "id": "ztINTuu4OmLD"
      },
      "execution_count": null,
      "outputs": []
    },
    {
      "cell_type": "markdown",
      "source": [
        "Por lo tanto si ahora abrimos el fichero datos_guardados.txt, veremos como efectivamente contiene una línea con Contenido a escribir. ¿A que es fácil?\n",
        "\n",
        "Es muy importante el uso de ***close()*** ya que si dejamos el fichero abierto, podríamos llegar a tener un comportamiento inesperado que queremos evitar. Por lo tanto, siempre que se abre un fichero es necesario cerrarlo cuando hayamos acabado.\n",
        "\n",
        "Compliquemos un poco más las cosas. Ahora vamos a guardar una lista de elementos en el fichero, donde cada elemento de la lista se almacenará en una línea distinta."
      ],
      "metadata": {
        "id": "aabNfsC1P9mK"
      }
    },
    {
      "cell_type": "code",
      "source": [
        "# Abrimos el fichero\n",
        "fichero = open(\"datos_guardados.txt\", 'w')\n",
        "\n",
        "# Tenemos unos datos que queremos guardar\n",
        "lista = [\"Manzana\", \"Pera\", \"Plátano\"]\n",
        "\n",
        "# Guardamos la lista en el fichero\n",
        "for linea in lista:\n",
        "    fichero.write(linea + \"\\n\")\n",
        "\n",
        "# Cerramos el fichero\n",
        "fichero.close()"
      ],
      "metadata": {
        "id": "r9MS1INwQOit"
      },
      "execution_count": 2,
      "outputs": []
    },
    {
      "cell_type": "code",
      "source": [
        "with open(\"datos_guardados.txt\", 'r') as fichero:\n",
        "    linea = fichero.readline()\n",
        "    while linea != '':\n",
        "        print(linea, end='')\n",
        "        linea = fichero.readline()"
      ],
      "metadata": {
        "id": "GHp8hP-BQaH7"
      },
      "execution_count": null,
      "outputs": []
    },
    {
      "cell_type": "markdown",
      "source": [
        "Si te fijas, estamos almacenando la línea mas \\n. Es importante añadir el salto de línea porque por defecto no se añade, y si queremos que cada elemento de la lista se almacena en una línea distinta, será necesario su uso.\n",
        "###Método writelines()\n",
        "También podemos usar el método writelines() y pasarle una lista. Dicho método se encargará de guardar todos los elementos de la lista en el fichero."
      ],
      "metadata": {
        "id": "qiP4Gc42Q-B0"
      }
    },
    {
      "cell_type": "code",
      "source": [
        "fichero = open(\"datos_guardados.txt\", 'w')\n",
        "lista = [\"Manzana\", \"Pera\", \"Plátano\"]\n",
        "\n",
        "fichero.writelines(lista)\n",
        "fichero.close()\n",
        "\n",
        "# Se guarda\n",
        "# ManzanaPeraPlátano"
      ],
      "metadata": {
        "id": "sonnkvVpRXyT"
      },
      "execution_count": null,
      "outputs": []
    },
    {
      "cell_type": "markdown",
      "source": [
        "Tal vez te hayas dado cuenta de que en realidad lo que se guarda es *ManzanaPeraPlátano*, todo junto. Si queremos que cada elemento se almacene en una línea distinta, deberíamos añadir el salto de línea en cada elemento de la lista como se muestra a continuación."
      ],
      "metadata": {
        "id": "bJmiwOk1Riy5"
      }
    },
    {
      "cell_type": "code",
      "source": [
        "fichero = open(\"datos_guardados.txt\", 'w')\n",
        "lista = [\"Manzana\\n\", \"Pera\\n\", \"Plátano\\n\"]\n",
        "\n",
        "fichero.writelines(lista)\n",
        "fichero.close()\n",
        "\n",
        "# Se guarda\n",
        "# Manzana\n",
        "# Pera\n",
        "# Plátano"
      ],
      "metadata": {
        "id": "rH5ezwr2RsyN"
      },
      "execution_count": null,
      "outputs": []
    },
    {
      "cell_type": "markdown",
      "source": [
        "###Uso del with\n",
        "Podemos ahorrar una línea de código si hacemos uso de lo siguiente. En este caso nos podemos ahorrar la llamada al ***close()*** ya que se realiza automáticamente. El código anterior se podría reescribir de la siguiente manera."
      ],
      "metadata": {
        "id": "u53fwYJmSRhi"
      }
    },
    {
      "cell_type": "code",
      "source": [
        "lista = [\"Manzana\\n\", \"Pera\\n\", \"Plátano\\n\"]\n",
        "with open(\"datos_guardados.txt\", 'w') as fichero:\n",
        "     fichero.writelines(lista)"
      ],
      "metadata": {
        "id": "1UPccwVMSana"
      },
      "execution_count": null,
      "outputs": []
    },
    {
      "cell_type": "markdown",
      "source": [
        "###Ejemplos escribir ficheros en Python\n",
        "El uso de **‘x’** hace que **si el fichero ya existe se devuelve un error**. En el siguiente código creamos un fichero e inmediatamente después intentamos crear un fichero con el mismo nombre con la opción **‘x’**. Por lo tanto se devolverá un error."
      ],
      "metadata": {
        "id": "93rDRcwmSbiO"
      }
    },
    {
      "cell_type": "code",
      "source": [
        "#f = open(\"mi_fichero.txt\", \"w\")\n",
        "f = open(\"mi_fichero.txt\", \"x\")\n",
        "# Error! Ya existe"
      ],
      "metadata": {
        "id": "-VxAo-F5Swt-"
      },
      "execution_count": null,
      "outputs": []
    },
    {
      "cell_type": "markdown",
      "source": [
        "En este otro ejemplo vamos a usar un fichero para establecer una comunicación entre dos funciones. A efectos prácticos puede no resultar muy útil, pero es un buen ejemplo para mostrar la lectura y escritura de ficheros.\n",
        "\n",
        "Tenemos por lo tanto una función ***escribe_fichero()*** que recibe un mensaje y lo escribe en un fichero determinado. Y por otro lado tenemos una función ***lee_fichero()*** que devuelve el mensaje que está escrito en el fichero.\n",
        "\n",
        "Date cuenta lo interesante del ejemplo, ya que podríamos tener estos dos códigos ejecutándose en diferentes maquinas o procesos, y **podrían comunicarse a través del fichero**. Por un lado se escribe y por el otro se lee."
      ],
      "metadata": {
        "id": "r92-KBjXTYDa"
      }
    },
    {
      "cell_type": "code",
      "source": [
        "# Escribe un mensaje en un fichero\n",
        "def escribe_fichero(mensaje):\n",
        "    with open('fichero_comunicacion.txt', 'w') as fichero:\n",
        "        fichero.write(mensaje)\n",
        "\n",
        "# Leer el mensaje del fichero        \n",
        "def lee_fichero():\n",
        "    mensaje = \"\"\n",
        "    with open('fichero_comunicacion.txt', 'r') as fichero:\n",
        "        mensaje = fichero.read()\n",
        "    # Borra el contenido del fichero para dejarlo vacío\n",
        "    f = open('fichero_comunicacion.txt', 'w')\n",
        "    f.close()\n",
        "    return mensaje\n",
        "\n",
        "escribe_fichero(\"Esto es un mensaje\")\n",
        "print(lee_fichero())"
      ],
      "metadata": {
        "id": "20n1iElUToxi"
      },
      "execution_count": null,
      "outputs": []
    }
  ]
}