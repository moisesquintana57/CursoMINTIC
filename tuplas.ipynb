{
  "nbformat": 4,
  "nbformat_minor": 0,
  "metadata": {
    "colab": {
      "name": "tuplas.ipynb",
      "provenance": [],
      "authorship_tag": "ABX9TyPmMaCFxis15GVhemRQsmZM",
      "include_colab_link": true
    },
    "kernelspec": {
      "name": "python3",
      "display_name": "Python 3"
    },
    "language_info": {
      "name": "python"
    }
  },
  "cells": [
    {
      "cell_type": "markdown",
      "metadata": {
        "id": "view-in-github",
        "colab_type": "text"
      },
      "source": [
        "<a href=\"https://colab.research.google.com/github/moisesquintana57/CursoMINTIC/blob/main/tuplas.ipynb\" target=\"_parent\"><img src=\"https://colab.research.google.com/assets/colab-badge.svg\" alt=\"Open In Colab\"/></a>"
      ]
    },
    {
      "cell_type": "markdown",
      "source": [
        "#Tupla (tuple)\n",
        "(Tomado del https://www.ellibrodepython.com/ )\n",
        "\n",
        "Las tuplas en Python son un tipo o estructura de datos que permite almacenar datos de una manera muy parecida a las listas, con la salvedad de que son inmutables.\n",
        "##Crear tupla Python\n",
        "Las tuplas en Python o tuples son muy similares a las listas, pero con dos diferencias. Son inmutables, lo que significa que no pueden ser modificadas una vez declaradas, y en vez de inicializarse con corchetes se hace con (). Dependiendo de lo que queramos hacer, las tuplas pueden ser más rápidas.\n",
        "\n"
      ],
      "metadata": {
        "id": "s0907vyEVnPH"
      }
    },
    {
      "cell_type": "code",
      "execution_count": null,
      "metadata": {
        "id": "jBGDTkuIVl9e"
      },
      "outputs": [],
      "source": [
        "tupla = (1, 2, 3)\n",
        "print(tupla) #(1, 2, 3)"
      ]
    },
    {
      "cell_type": "markdown",
      "source": [
        "También pueden declararse sin (), separando por , todos sus elementos.\n",
        "\n"
      ],
      "metadata": {
        "id": "FfNgUAJMWDRM"
      }
    },
    {
      "cell_type": "code",
      "source": [
        "tupla = 1, 2, 3\n",
        "print(type(tupla)) #<class 'tuple'>\n",
        "print(tupla)       #(1, 2, 3)"
      ],
      "metadata": {
        "id": "lTbymcd3WXiY"
      },
      "execution_count": null,
      "outputs": []
    },
    {
      "cell_type": "markdown",
      "source": [
        "##Operaciones con tuplas\n",
        "Como hemos comentado, las tuplas son tipos inmutables, lo que significa que una vez asignado su valor, no puede ser modificado. Si se intenta, tendremos un TypeError.\n"
      ],
      "metadata": {
        "id": "BB327NLNWTTc"
      }
    },
    {
      "cell_type": "code",
      "source": [
        "tupla = (1, 2, 3)\n",
        "#tupla[0] = 5 # Error! TypeError"
      ],
      "metadata": {
        "id": "Id-o9GHuWlL_"
      },
      "execution_count": null,
      "outputs": []
    },
    {
      "cell_type": "markdown",
      "source": [
        "Al igual que las listas, las tuplas también pueden ser anidadas.\n"
      ],
      "metadata": {
        "id": "S0_qig9iWgPA"
      }
    },
    {
      "cell_type": "code",
      "source": [
        "tupla = 1, 2, ('a', 'b'), 3\n",
        "print(tupla)       #(1, 2, ('a', 'b'), 3)\n",
        "print(tupla[2][0]) #a"
      ],
      "metadata": {
        "id": "4C6nN7PwXc95"
      },
      "execution_count": null,
      "outputs": []
    },
    {
      "cell_type": "markdown",
      "source": [
        "Y también es posible convertir una lista en tupla haciendo uso de al función tuple().\n"
      ],
      "metadata": {
        "id": "2PGSTJMNXUkq"
      }
    },
    {
      "cell_type": "code",
      "source": [
        "lista = [1, 2, 3]\n",
        "tupla = tuple(lista)\n",
        "print(type(tupla)) #<class 'tuple'>\n",
        "print(tupla)       #(1, 2, 3)"
      ],
      "metadata": {
        "id": "RGxZJ6TwYT33"
      },
      "execution_count": null,
      "outputs": []
    },
    {
      "cell_type": "markdown",
      "source": [
        "Se puede iterar una tupla de la misma forma que se hacía con las listas.\n"
      ],
      "metadata": {
        "id": "46wVDz76XL2s"
      }
    },
    {
      "cell_type": "code",
      "source": [
        "tupla = (1, 2, 3)\n",
        "for t in tupla:\n",
        "    print(t) #1, 2, 3"
      ],
      "metadata": {
        "id": "WATWCVSeYvMt"
      },
      "execution_count": null,
      "outputs": []
    },
    {
      "cell_type": "markdown",
      "source": [
        "Y se puede también asignar el valor de una tupla con n elementos a n variables.\n"
      ],
      "metadata": {
        "id": "399k5PDYYqyc"
      }
    },
    {
      "cell_type": "code",
      "source": [
        "l = (1, 2, 3)\n",
        "x, y, z = l\n",
        "print(x, y, z) #1 2 3"
      ],
      "metadata": {
        "id": "0xw38S6XZtLR"
      },
      "execution_count": null,
      "outputs": []
    },
    {
      "cell_type": "markdown",
      "source": [
        "Aunque tal vez no tenga mucho sentido a nivel práctico, es posible crear una tupla de un solo elemento. Para ello debes usar , antes del paréntesis, porque de lo contrario (2) sería interpretado como int.\n"
      ],
      "metadata": {
        "id": "RnkKvsLSZmFg"
      }
    },
    {
      "cell_type": "code",
      "source": [
        "tupla = (2,)\n",
        "print(type(tupla)) #<class 'tuple'>"
      ],
      "metadata": {
        "id": "CsTEd3fTZ4ld"
      },
      "execution_count": null,
      "outputs": []
    },
    {
      "cell_type": "markdown",
      "source": [
        "##Métodos tuplas\n",
        "**count(<obj>)**\n",
        "El método count() cuenta el número de veces que el objeto pasado como parámetro se ha encontrado en la lista.\n"
      ],
      "metadata": {
        "id": "-nRrTFmoZz_J"
      }
    },
    {
      "cell_type": "code",
      "source": [
        "l = (1, 1, 1, 3, 5)\n",
        "print(l.count(1)) #3"
      ],
      "metadata": {
        "id": "ODmHdn3VaG_r"
      },
      "execution_count": null,
      "outputs": []
    },
    {
      "cell_type": "markdown",
      "source": [
        "**index(<obj>[,index])**\n",
        "El método index() busca el objeto que se le pasa como parámetro y devuelve el índice en el que se ha encontrado.\n"
      ],
      "metadata": {
        "id": "dGcqSsAFaDf7"
      }
    },
    {
      "cell_type": "code",
      "source": [
        "l = (7, 7, 7, 3, 5)\n",
        "print(l.index(5)) #4"
      ],
      "metadata": {
        "id": "4ecD3ofobley"
      },
      "execution_count": null,
      "outputs": []
    },
    {
      "cell_type": "markdown",
      "source": [
        "En el caso de no encontrarse, se devuelve un ValueError."
      ],
      "metadata": {
        "id": "aMX6cC9HbhUB"
      }
    },
    {
      "cell_type": "code",
      "source": [
        "l = (7, 7, 7, 3, 5)\n",
        "#print(l.index(35)) #Error! ValueError"
      ],
      "metadata": {
        "id": "D3DP6qxGbtOJ"
      },
      "execution_count": 1,
      "outputs": []
    },
    {
      "cell_type": "markdown",
      "source": [
        "El método index() también acepta un segundo parámetro opcional, que indica a partir de que índice empezar a buscar el objeto."
      ],
      "metadata": {
        "id": "GCWpRg0jbuqU"
      }
    },
    {
      "cell_type": "code",
      "source": [
        "l = (7, 7, 7, 3, 5)\n",
        "print(l.index(7, 2)) #2"
      ],
      "metadata": {
        "id": "q0P5nDn7b22H"
      },
      "execution_count": null,
      "outputs": []
    }
  ]
}