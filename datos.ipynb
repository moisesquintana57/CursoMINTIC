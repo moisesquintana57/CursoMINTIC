{
 "cells": [
  {
   "cell_type": "markdown",
   "id": "8f390f51",
   "metadata": {},
   "source": [
    "##  VARIABLES\n",
    "Una variable es una localización en la memoría del computador donde se almacena información o datos que puedan ser modificados. A diferencia de otros lenguajes, Python no necesita información explícita sobre el tipo de datos que se almacena en la variable. En la práctica los nombre de las variables deben escribirse en letras minúsculas y sin espacios intermedios. El uso de nombre claros y descriptivos y guiones bajos puede contribuir a dar mayor claridad sobre la información que se va a almacenar en la variable planteada. La sintaxis para Python del uso de las varibles puede ser:\n",
    "\t**nombre_de_la_variable = valor_de_la_variable**\n",
    "Antes y después del signo de igualdad debe existir un espacio en blanco.\n"
   ]
  },
  {
   "cell_type": "code",
   "execution_count": 14,
   "id": "7b0124b6",
   "metadata": {},
   "outputs": [
    {
     "data": {
      "text/plain": [
       "16"
      ]
     },
     "execution_count": 14,
     "metadata": {},
     "output_type": "execute_result"
    }
   ],
   "source": [
    "edad = 16\n",
    "edad"
   ]
  },
  {
   "cell_type": "code",
   "execution_count": 16,
   "id": "241eb047",
   "metadata": {},
   "outputs": [
    {
     "name": "stdout",
     "output_type": "stream",
     "text": [
      "61423\n",
      "<class 'int'>\n"
     ]
    }
   ],
   "source": [
    "hexa = 0xefef\n",
    "print(hexa)\n",
    "print(type(hexa))"
   ]
  },
  {
   "cell_type": "code",
   "execution_count": 17,
   "id": "5d07eef6",
   "metadata": {},
   "outputs": [
    {
     "name": "stdout",
     "output_type": "stream",
     "text": [
      "226\n",
      "174\n"
     ]
    }
   ],
   "source": [
    "octal = 0o342\n",
    "print(octal)\n",
    "binario = 0b10101110\n",
    "print(binario)"
   ]
  },
  {
   "cell_type": "code",
   "execution_count": 20,
   "id": "0a3fed41",
   "metadata": {},
   "outputs": [
    {
     "name": "stdout",
     "output_type": "stream",
     "text": [
      "Juan  pesa  148.65  kgs.\n",
      "<class 'float'>\n",
      "<class 'str'>\n"
     ]
    }
   ],
   "source": [
    "peso = 148.65\n",
    "nombre =\"Juan\"\n",
    "print(nombre,' pesa ', peso,' kgs.')\n",
    "print(type(peso))\n",
    "print(type(nombre))"
   ]
  },
  {
   "cell_type": "markdown",
   "id": "2577a93e",
   "metadata": {},
   "source": [
    "## TIPOS DE DATOS EN PYTHON\n",
    "\n",
    "En la mayoría de los lenguajes de programación aparece con frecuencias los términos literales y objetos. Los objetos forman parte del núcleo principal de Python y representan cosas que el programa puede manipular. Cada objeto tiene un tipo que define lo que Python puede hacer con dicho objeto. Un literal es la expresión de un valor de un tipo primitivo, o bien de una cadena de caracteres. Por ejemplo, son literales: 5,3,14, ‘a’, “hola”. \n",
    "\n",
    "Algunos tipos de objetos pueden ser denotados por literales en el texto de un programa. Los tipos de datos en programación, normalmente se clasifican en escalares y no-escalares. Los escalares suelen ser tipos de datos indivisibles, cómo los átomos del lenguaje. Los objetos no-escalares, por ejemplo una cadena de caracteres, tienen una estructura interna.\n",
    "\n",
    "Python tiene cuatro tipos de datos escalares:\n",
    "\n",
    "*\t**int** .- Es usado para representar números enteros. Esto pueden estar representados en notación decimal, binario, octal o en hexadecimal.\n",
    "\n",
    "*\t**float** .- Representa a los números reales. Los literales de tipo float, siempre incluyen el punto decimal. Se puede usar notación científica para representar estos literales. Cabe la pregunta de por qué no llamar real a este tipo de datos. La respuesta es sencilla: Por la forma de almacenar este tipo de datos en la memoria de la computadora como números en punto flotante, de ahí que su tipo se le llame float.\n",
    "\n",
    "*\t**bool** .- Es usado para representar valores booleanos True y False.\n",
    "\n",
    "*\t**None**.- De este tipo de datos se tratará un poco más adelante en el manual\n",
    "\n",
    "\n",
    "Existen varios tipos de datos no-escalares en Python, pero por el momento se hace referencia los que con más frecuencia se usan y a los restantes se les dedican epígrafes específicos en el manual por la importancia que tienen dentro del lenguaje. Estos tipos de datos son:\n"
   ]
  },
  {
   "cell_type": "code",
   "execution_count": 21,
   "id": "330cb26b",
   "metadata": {},
   "outputs": [
    {
     "data": {
      "text/plain": [
       "int"
      ]
     },
     "execution_count": 21,
     "metadata": {},
     "output_type": "execute_result"
    }
   ],
   "source": [
    "type(edad)"
   ]
  },
  {
   "cell_type": "code",
   "execution_count": 22,
   "id": "c7a1d2fa",
   "metadata": {},
   "outputs": [
    {
     "data": {
      "text/plain": [
       "float"
      ]
     },
     "execution_count": 22,
     "metadata": {},
     "output_type": "execute_result"
    }
   ],
   "source": [
    "type(peso)"
   ]
  },
  {
   "cell_type": "code",
   "execution_count": 23,
   "id": "435551ba",
   "metadata": {},
   "outputs": [
    {
     "data": {
      "text/plain": [
       "str"
      ]
     },
     "execution_count": 23,
     "metadata": {},
     "output_type": "execute_result"
    }
   ],
   "source": [
    "type(nombre)"
   ]
  },
  {
   "cell_type": "code",
   "execution_count": null,
   "id": "7a981585",
   "metadata": {},
   "outputs": [],
   "source": []
  }
 ],
 "metadata": {
  "kernelspec": {
   "display_name": "Python 3",
   "language": "python",
   "name": "python3"
  },
  "language_info": {
   "codemirror_mode": {
    "name": "ipython",
    "version": 3
   },
   "file_extension": ".py",
   "mimetype": "text/x-python",
   "name": "python",
   "nbconvert_exporter": "python",
   "pygments_lexer": "ipython3",
   "version": "3.8.8"
  }
 },
 "nbformat": 4,
 "nbformat_minor": 5
}
