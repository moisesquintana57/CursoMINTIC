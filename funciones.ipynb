{
  "nbformat": 4,
  "nbformat_minor": 0,
  "metadata": {
    "colab": {
      "name": "funciones.ipynb",
      "provenance": [],
      "authorship_tag": "ABX9TyPVsh4alp3Sbs38wjUS3siB",
      "include_colab_link": true
    },
    "kernelspec": {
      "name": "python3",
      "display_name": "Python 3"
    },
    "language_info": {
      "name": "python"
    }
  },
  "cells": [
    {
      "cell_type": "markdown",
      "metadata": {
        "id": "view-in-github",
        "colab_type": "text"
      },
      "source": [
        "<a href=\"https://colab.research.google.com/github/moisesquintana57/CursoMINTIC/blob/main/funciones.ipynb\" target=\"_parent\"><img src=\"https://colab.research.google.com/assets/colab-badge.svg\" alt=\"Open In Colab\"/></a>"
      ]
    },
    {
      "cell_type": "markdown",
      "source": [
        "#Funciones en Python\n",
        "(Tomado del libro de Python www.ellibrodePython.com)\n",
        "\n",
        "Anteriormente hemos usado funciones nativas que vienen con Python como len() para calcular la longitud de una lista, pero al igual que en otros lenguajes de programación, también podemos definir nuestras propias funciones. Para ello hacemos uso de **def**."
      ],
      "metadata": {
        "id": "m-s8zEG-Q2Dw"
      }
    },
    {
      "cell_type": "code",
      "source": [
        "def nombre_funcion(argumentos):\n",
        "    #código\n",
        "    return retorno"
      ],
      "metadata": {
        "id": "cgqj8_0uRZVS"
      },
      "execution_count": null,
      "outputs": []
    },
    {
      "cell_type": "markdown",
      "source": [
        "Cualquier función tendrá un **nombre**, unos **argumentos de entrada**, un **código** a ejecutar y unos **parámetros de salida**. Al igual que las funciones matemáticas, en programación nos permiten realizar diferentes operaciones con la entrada, para entregar una determinada salida que dependerá del código que escribamos dentro. Por lo tanto, es totalmente análogo al clásico *y=f(x)* de las matemáticas."
      ],
      "metadata": {
        "id": "2tCgjRnRRkN6"
      }
    },
    {
      "cell_type": "code",
      "source": [
        "def f(x):\n",
        "    return 2*x**2\n",
        "#Invocar la función    \n",
        "y = f(3)\n",
        "print(y) "
      ],
      "metadata": {
        "colab": {
          "base_uri": "https://localhost:8080/"
        },
        "id": "cXEFbsy5R45x",
        "outputId": "7f92add9-0ae1-46f3-d7f2-0e26b842ca0b"
      },
      "execution_count": 1,
      "outputs": [
        {
          "output_type": "stream",
          "name": "stdout",
          "text": [
            "18\n"
          ]
        }
      ]
    },
    {
      "cell_type": "markdown",
      "source": [
        "Algo que diferencia en cierto modo las funciones en el mundo de la programación, es que no sólo realizan una operación con sus entradas, sino que también parten de los siguientes principios:\n",
        "\n",
        " - El principio de reusabilidad, que nos dice que si por ejemplo tenemos un fragmento de código usado en muchos sitios, la mejor solución sería pasarlo a una función. Esto nos evitaría tener código repetido, y que modificarlo fuera más fácil, ya que bastaría con cambiar la función una vez.\n",
        " - Y el principio de modularidad, que defiende que en vez de escribir largos trozos de código, es mejor crear módulos o funciones que agrupen ciertos fragmentos de código en funcionalidades específicas, haciendo que el código resultante sea más fácil de leer.\n",
        "##Pasando argumentos de entrada\n",
        "Empecemos por la función más sencilla de todas. Una función sin parámetros de entrada ni parámetros de salida."
      ],
      "metadata": {
        "id": "7MT9Q7rPSm5J"
      }
    },
    {
      "cell_type": "code",
      "source": [
        "def di_hola():\n",
        "    print(\"Hola\")\n",
        "\n",
        "di_hola()"
      ],
      "metadata": {
        "id": "ffTClnHtS1P4"
      },
      "execution_count": null,
      "outputs": []
    },
    {
      "cell_type": "markdown",
      "source": [
        "Vamos a complicar un poco las cosas pasando un argumento de entrada. Ahora si pasamos como entrada un nombre, se imprimirá Hola y el nombre."
      ],
      "metadata": {
        "id": "B-6LALxITJnB"
      }
    },
    {
      "cell_type": "code",
      "source": [
        "def di_hola(nombre):\n",
        "    print(\"Hola\", nombre)\n",
        "    \n",
        "di_hola(\"Juan\")\n"
      ],
      "metadata": {
        "id": "kqhQXzSITIsz"
      },
      "execution_count": null,
      "outputs": []
    },
    {
      "cell_type": "markdown",
      "source": [
        "Python permite pasar argumentos también de otras formas. A continuación las explicamos todas.\n",
        "\n",
        "##Argumentos por posición\n",
        "Los argumentos por posición o posicionales son la forma más básica e intuitiva de pasar parámetros. Si tenemos una función resta() que acepta dos parámetros, se puede llamar como se muestra a continuación."
      ],
      "metadata": {
        "id": "s1PPPu3oTl7J"
      }
    },
    {
      "cell_type": "code",
      "source": [
        "def resta(a, b):\n",
        "    return a-b\n",
        "\n",
        "resta(5, 3) "
      ],
      "metadata": {
        "colab": {
          "base_uri": "https://localhost:8080/"
        },
        "id": "7ZzBcLUuTsP0",
        "outputId": "3d80853b-7f5f-4547-a58f-806d1a7ff3ec"
      },
      "execution_count": 3,
      "outputs": [
        {
          "output_type": "execute_result",
          "data": {
            "text/plain": [
              "2"
            ]
          },
          "metadata": {},
          "execution_count": 3
        }
      ]
    },
    {
      "cell_type": "markdown",
      "source": [
        "Al tratarse de parámetros posicionales, se interpretará que el primer número es la *a* y el segundo la *b*. El número de parámetros es fijo, por lo que si intentamos llamar a la función con solo uno, dará error."
      ],
      "metadata": {
        "id": "xfcUHFvuUiCf"
      }
    },
    {
      "cell_type": "code",
      "source": [
        "#resta(1) # Error! TypeError"
      ],
      "metadata": {
        "id": "sXVDLVVUUq0o"
      },
      "execution_count": null,
      "outputs": []
    },
    {
      "cell_type": "markdown",
      "source": [
        "Tampoco es posible usar mas argumentos de los tiene la función definidos, ya que no sabría que hacer con ellos. Por lo tanto si lo intentamos, Python nos dirá que toma 2 posicionales y estamos pasando 3, lo que no es posible."
      ],
      "metadata": {
        "id": "ukur20YxU6l_"
      }
    },
    {
      "cell_type": "code",
      "source": [
        "#TypeError: resta() takes 2 positional arguments but 3 were given\n",
        "#resta(5,4,3) # Error"
      ],
      "metadata": {
        "id": "InX1-tf-U2gQ"
      },
      "execution_count": null,
      "outputs": []
    },
    {
      "cell_type": "markdown",
      "source": [
        "##Argumentos por nombre\n",
        "Otra forma de llamar a una función, es usando el nombre del argumento con = y su valor. El siguiente código hace lo mismo que el código anterior, con la diferencia de que los argumentos no son posicionales."
      ],
      "metadata": {
        "id": "7bJHFzYhVWGe"
      }
    },
    {
      "cell_type": "code",
      "source": [
        "resta(a=3, b=5) # -2"
      ],
      "metadata": {
        "id": "usWD-ZYWWAbu"
      },
      "execution_count": null,
      "outputs": []
    },
    {
      "cell_type": "markdown",
      "source": [
        "Al indicar en la llamada a la función el nombre de la variable y el valor, el orden ya no importa, y se podría llamar de la siguiente forma."
      ],
      "metadata": {
        "id": "BXrcEqrmWFX2"
      }
    },
    {
      "cell_type": "code",
      "source": [
        "resta(b=5, a=3) # -2"
      ],
      "metadata": {
        "id": "jdxwxxCgWGw_"
      },
      "execution_count": null,
      "outputs": []
    },
    {
      "cell_type": "markdown",
      "source": [
        "Como es de esperar, si indicamos un argumento que no ha sido definido como parámetro de entrada, tendremos un error."
      ],
      "metadata": {
        "id": "Ifs7k85LW5mO"
      }
    },
    {
      "cell_type": "code",
      "source": [
        "#resta() got an unexpected keyword argument 'c'\n",
        "#resta(b=5, c=3) # Error!"
      ],
      "metadata": {
        "id": "kdY3O2RZWzoI"
      },
      "execution_count": null,
      "outputs": []
    },
    {
      "cell_type": "markdown",
      "source": [
        "###Argumentos por defecto\n",
        "Tal vez queramos tener una función con algún parámetro opcional, que pueda ser usado o no dependiendo de diferentes circunstancias. Para ello, lo que podemos hacer es asignar un valor por defecto a la función. En el siguiente caso *c* valdría cero salvo que se indique lo contrario."
      ],
      "metadata": {
        "id": "Sp8lNTcIXUIX"
      }
    },
    {
      "cell_type": "code",
      "source": [
        "def suma(a, b, c=0):\n",
        "    return a+b+c\n",
        "    \n",
        "suma(5,5,3) # 13"
      ],
      "metadata": {
        "id": "UPKK8wxTXfuf"
      },
      "execution_count": null,
      "outputs": []
    },
    {
      "cell_type": "markdown",
      "source": [
        "Dado que el parámetro c tiene un valor por defecto, la función puede ser llamada sin ese valor."
      ],
      "metadata": {
        "id": "jNfvpLpHXjG2"
      }
    },
    {
      "cell_type": "code",
      "source": [
        "suma(4,3) # 7"
      ],
      "metadata": {
        "id": "3ACgNslZXkSg"
      },
      "execution_count": null,
      "outputs": []
    },
    {
      "cell_type": "markdown",
      "source": [
        "Podemos incluso asignar un valor por defecto a todos los parámetros, por lo que se podría llamar a la función sin ningún argumento de entrada."
      ],
      "metadata": {
        "id": "SnVaQ-9MYLuQ"
      }
    },
    {
      "cell_type": "code",
      "source": [
        "def suma(a=3, b=5, c=0):\n",
        "    return a+b+c\n",
        "suma() # 8"
      ],
      "metadata": {
        "id": "OMd7jcz9YP_o"
      },
      "execution_count": null,
      "outputs": []
    },
    {
      "cell_type": "markdown",
      "source": [
        "Las siguientes llamadas a la función también son válidas"
      ],
      "metadata": {
        "id": "4f2Fdlj_YWmo"
      }
    },
    {
      "cell_type": "code",
      "source": [
        "suma(1)     # 6\n",
        "suma(4,5)   # 9\n",
        "suma(5,3,2) # 10"
      ],
      "metadata": {
        "id": "E1JXa7F_YZFm"
      },
      "execution_count": null,
      "outputs": []
    },
    {
      "cell_type": "markdown",
      "source": [
        "###Argumentos de longitud variable\n",
        "En el ejemplo con argumentos por defecto, hemos visto que la función puede ser llamada con diferente número de argumentos de entrada, pero esto no es realmente una función con argumentos de longitud variable, ya que existe un número máximo.\n",
        "\n",
        "Imaginemos que queremos una función ***suma()***como la de antes, pero en este caso necesitamos que sume todos los números de entrada que se le pasen, sin importar si son 3 o 100. Una primera forma de hacerlo sería con una lista o tupla."
      ],
      "metadata": {
        "id": "AYx1p4z0Zs74"
      }
    },
    {
      "cell_type": "code",
      "source": [
        "def suma(numeros):\n",
        "    total = 0\n",
        "    for n in numeros:\n",
        "        total += n\n",
        "    return total\n",
        "\n",
        "suma((1,3,5,4)) # 13"
      ],
      "metadata": {
        "id": "qVOptYZmZ9GX"
      },
      "execution_count": null,
      "outputs": []
    },
    {
      "cell_type": "markdown",
      "source": [
        "La forma es válida y cumple nuestro requisito, pero realmente no estamos trabajando con argumentos de longitud variable. En realidad tenemos un solo argumento que es una lista de números.\n",
        "\n",
        "Por suerte, Python tiene una herramienta muy potente. Si declaramos un argumento con **\"*\"**, esto hará que el argumento que se pase sea empaquetado en una ***tupla*** de manera automática. No confundir * con los punteros en otros lenguajes de programación, no tiene nada que ver."
      ],
      "metadata": {
        "id": "zrlxVOB7asZG"
      }
    },
    {
      "cell_type": "code",
      "source": [
        "def suma(*numeros):\n",
        "    print(type(numeros))\n",
        "    # <class 'tuple'>\n",
        "    total = 0\n",
        "    for n in numeros:\n",
        "        total += n\n",
        "    return total\n",
        "\n",
        "suma(1, 3, 5, 4) # 13"
      ],
      "metadata": {
        "id": "ttNvjDkscGee"
      },
      "execution_count": null,
      "outputs": []
    },
    {
      "cell_type": "markdown",
      "source": [
        "El resultado es igual que el anterior, y podemos ver como efectivamente ***numeros*** es de la clase tuple. También podemos hacer otras llamadas con diferente número de argumentos"
      ],
      "metadata": {
        "id": "UG2GaM10ccw9"
      }
    },
    {
      "cell_type": "code",
      "source": [
        "suma(6) # 6\n",
        "suma(6, 4, 10) # 20\n",
        "suma(6, 4, 10, 20, 4, 6, 7) # 57"
      ],
      "metadata": {
        "id": "hVXBChDXczds"
      },
      "execution_count": null,
      "outputs": []
    },
    {
      "cell_type": "markdown",
      "source": [
        "Usando doble ** es posible también tener como parámetro de entrada una lista de elementos almacenados en forma de **clave y valor**. En este caso podemos iterar los valores haciendo uso de **items()**."
      ],
      "metadata": {
        "id": "AgfAzTRCc0GL"
      }
    },
    {
      "cell_type": "code",
      "source": [
        "def suma(**dict_args):\n",
        "    suma = 0;\n",
        "    for key, value in dict_args.items():\n",
        "        print(key, value)\n",
        "        suma += value\n",
        "    return suma\n",
        "\n",
        "suma(a=5, b=20, c=23) # 48"
      ],
      "metadata": {
        "colab": {
          "base_uri": "https://localhost:8080/"
        },
        "id": "yq-FqAC9dev9",
        "outputId": "4d08339a-1cbf-4e50-f283-edd224538b2b"
      },
      "execution_count": 14,
      "outputs": [
        {
          "output_type": "stream",
          "name": "stdout",
          "text": [
            "a 5\n",
            "b 20\n",
            "c 23\n"
          ]
        },
        {
          "output_type": "execute_result",
          "data": {
            "text/plain": [
              "48"
            ]
          },
          "metadata": {},
          "execution_count": 14
        }
      ]
    },
    {
      "cell_type": "markdown",
      "source": [
        "De igual manera, podemos pasar un diccionario como parámetro de entrada."
      ],
      "metadata": {
        "id": "MawTPl1Td3Rz"
      }
    },
    {
      "cell_type": "code",
      "source": [
        "def suma(**dic):\n",
        "    suma = 0\n",
        "    for key, value in dic.items():\n",
        "        print(key, value)\n",
        "        suma += value\n",
        "    return suma\n",
        "\n",
        "di = {'a': 10, 'b':20}\n",
        "suma(**di) # 30"
      ],
      "metadata": {
        "colab": {
          "base_uri": "https://localhost:8080/"
        },
        "id": "V-IxH2xpd4ft",
        "outputId": "0fd00d70-8625-470e-c032-dca13c72b7f5"
      },
      "execution_count": 17,
      "outputs": [
        {
          "output_type": "stream",
          "name": "stdout",
          "text": [
            "a 10\n",
            "b 20\n"
          ]
        },
        {
          "output_type": "execute_result",
          "data": {
            "text/plain": [
              "30"
            ]
          },
          "metadata": {},
          "execution_count": 17
        }
      ]
    },
    {
      "cell_type": "markdown",
      "source": [
        "###Sentencia return\n",
        "El uso de la sentencia return permite realizar dos cosas:\n",
        "\n",
        " - Salir de la función y transferir la ejecución de vuelta a donde se realizó la llamada.\n",
        " - Devolver uno o varios parámetros, fruto de la ejecución de la función.\n",
        "\n",
        "En lo relativo a lo primero, una vez se llama a ***return*** se para la ejecución de la función y se vuelve o retorna al punto donde fue llamada. Es por ello por lo que el código que va después del ***return*** no es ejecutado en el siguiente ejemplo."
      ],
      "metadata": {
        "id": "bkUGYZFjfEpk"
      }
    },
    {
      "cell_type": "code",
      "source": [
        "def mi_funcion():\n",
        "    print(\"Entra en mi_funcion\")\n",
        "    return \n",
        "    print(\"No llega\")\n",
        "mi_funcion() # Entra en mi_funcion"
      ],
      "metadata": {
        "colab": {
          "base_uri": "https://localhost:8080/"
        },
        "id": "y1Hx6QUcfjwq",
        "outputId": "cc8de21f-ca58-4301-d2cd-564ef8bb3f42"
      },
      "execution_count": 19,
      "outputs": [
        {
          "output_type": "stream",
          "name": "stdout",
          "text": [
            "Entra en mi_funcion\n"
          ]
        }
      ]
    },
    {
      "cell_type": "markdown",
      "source": [
        "Por ello, sólo llamamos a ***return*** una vez hemos acabado de hacer lo que teníamos que hacer en la función.\n",
        "\n",
        "Por otro lado, se pueden devolver parámetros. Normalmente las funciones son llamadas para realizar unos cálculos en base a una entrada, por lo que es interesante poder devolver ese resultado a quien llamó a la función."
      ],
      "metadata": {
        "id": "BiLxmpRigJHs"
      }
    },
    {
      "cell_type": "code",
      "source": [
        "def di_hola():\n",
        "    return \"Hola\"\n",
        "    \n",
        "di_hola()\n",
        "# 'Hola'"
      ],
      "metadata": {
        "colab": {
          "base_uri": "https://localhost:8080/",
          "height": 35
        },
        "id": "pydls_sYgWh8",
        "outputId": "8de7b272-a84b-4b56-d4a3-4ff5ae048387"
      },
      "execution_count": 20,
      "outputs": [
        {
          "output_type": "execute_result",
          "data": {
            "text/plain": [
              "'Hola'"
            ],
            "application/vnd.google.colaboratory.intrinsic+json": {
              "type": "string"
            }
          },
          "metadata": {},
          "execution_count": 20
        }
      ]
    },
    {
      "cell_type": "markdown",
      "source": [
        "\n",
        "Como es de esperar, si indicamos un argumento que \n",
        "También es posible devolver mas de una variable, separadas por **\",\"**. En el siguiente ejemplo tenemos una función que calcula la suma y media de tres números, y devuelve su resultado."
      ],
      "metadata": {
        "id": "PhzPh-SXgp8L"
      }
    },
    {
      "cell_type": "code",
      "source": [
        "def suma_y_media(a, b, c):\n",
        "    suma = a+b+c\n",
        "    media = suma/3\n",
        "    return suma, media\n",
        "\n",
        "s, m = suma_y_media(9, 6, 3)\n",
        "print(s)  # 18\n",
        "print(m) # 6.0"
      ],
      "metadata": {
        "id": "dxoHO0Cog_Qc"
      },
      "execution_count": null,
      "outputs": []
    },
    {
      "cell_type": "markdown",
      "source": [
        "### Paso por valor y referencia\n",
        "En muchos lenguajes de programación existen los conceptos de paso por **valor** y por **referencia** que aplican a la hora de como trata una función a los parámetros que se le pasan como entrada. Su comportamiento es el siguiente:\n",
        "\n",
        " - Si usamos un parámetro pasado por **valor**, se creará una copia local de la variable, lo que implica que cualquier modificación sobre la misma no tendrá efecto sobre la original.\n",
        " - Con una variable pasada como **referencia**, se actuará directamente sobre la variable pasada, por lo que las modificaciones afectarán a la variable original.\n",
        "\n",
        "En Python las cosas son un poco distintas, y el comportamiento estará definido por el tipo de variable con la que estamos tratando. Veamos un ejemplo de paso por valor."
      ],
      "metadata": {
        "id": "ycUvWOCLh4wU"
      }
    },
    {
      "cell_type": "code",
      "source": [
        "x = 10\n",
        "def funcion(entrada):\n",
        "    entrada = 0\n",
        "    \n",
        "funcion(x)\n",
        "\n",
        "print(x) # 10"
      ],
      "metadata": {
        "colab": {
          "base_uri": "https://localhost:8080/"
        },
        "id": "nBQ65-B2idHa",
        "outputId": "8f5bd682-ac55-4dbf-8f64-6607a05266ad"
      },
      "execution_count": 22,
      "outputs": [
        {
          "output_type": "stream",
          "name": "stdout",
          "text": [
            "10\n"
          ]
        }
      ]
    },
    {
      "cell_type": "markdown",
      "source": [
        "Iniciamos la x a 10 y se la pasamos a ***funcion()***. Dentro de la función hacemos que la variable valga 0. Dado que Python trata a los **int** como pasados por **valor**, dentro de la función se crea una copia local de x, por lo que la variable original no es modificada.\n",
        "\n",
        "No pasa lo mismo si por ejemplo x es una lista como en el siguiente ejemplo. En este caso Python lo trata como si estuviese pasada por **referencia**, lo que hace que se modifique la variable original. La variable original x ha sido modificada."
      ],
      "metadata": {
        "id": "LDanc1_Ci25i"
      }
    },
    {
      "cell_type": "code",
      "source": [
        "x = [10, 20, 30]\n",
        "def funcion(entrada):\n",
        "    entrada.append(40)\n",
        "\n",
        "funcion(x)\n",
        "print(x) # [10, 20, 30, 40]"
      ],
      "metadata": {
        "colab": {
          "base_uri": "https://localhost:8080/"
        },
        "id": "z9Yk03fejOIE",
        "outputId": "68e3d3aa-dfff-426a-9d75-6f986d1b6983"
      },
      "execution_count": 23,
      "outputs": [
        {
          "output_type": "stream",
          "name": "stdout",
          "text": [
            "[10, 20, 30, 40]\n"
          ]
        }
      ]
    },
    {
      "cell_type": "markdown",
      "source": [
        "##Recursividad\n",
        "\n",
        "La recursividad o recursión es un concepto que proviene de las matemáticas, y que aplicado al mundo de la programación nos permite resolver problemas o tareas donde las mismas pueden ser divididas en subtareas cuya funcionalidad es la misma. Dado que los subproblemas a resolver son de la misma naturaleza, se puede usar la misma función para resolverlos. Dicho de otra manera, una función recursiva es aquella que está definida en función de sí misma, por lo que se llama repetidamente a sí misma hasta llegar a un punto de salida.\n",
        "\n",
        "Cualquier función recursiva tiene dos secciones de código claramente divididas:\n",
        "\n",
        " - Por un lado tenemos la sección en la que la función se llama a sí misma.\n",
        " - Por otro lado, tiene que existir siempre una condición en la que la función retorna sin volver a llamarse. Es muy importante porque de lo contrario, la función se llamaría de manera indefinida.\n",
        "\n",
        "Veamos unos ejemplos con el **factorial** y **la serie de fibonacci**.\n",
        "\n",
        "### Calcular factorial\n",
        "Uno de los ejemplos mas usados para entender la recursividad, es el cálculo del factorial de un número **n!**. El factorial de un número n se define como la multiplicación de todos sus números predecesores hasta llegar a uno. Por lo tanto **5!**, leído como cinco factorial, sería **5.4.3.2.1**.\n",
        "\n",
        "Utilizando un enfoque tradicional no recursivo, podríamos calcular el factorial de la siguiente manera."
      ],
      "metadata": {
        "id": "ZIHhoAy8kp2C"
      }
    },
    {
      "cell_type": "code",
      "source": [
        "def factorial_normal(n):\n",
        "    r = 1\n",
        "    i = 2\n",
        "    while i <= n:\n",
        "        r *= i\n",
        "        i += 1\n",
        "    return r\n",
        "\n",
        "factorial_normal(5) # 120"
      ],
      "metadata": {
        "colab": {
          "base_uri": "https://localhost:8080/"
        },
        "id": "T-DRSpZ6loMZ",
        "outputId": "fa3994d6-d300-4683-b7d4-ff28b7609bfe"
      },
      "execution_count": 28,
      "outputs": [
        {
          "output_type": "execute_result",
          "data": {
            "text/plain": [
              "120"
            ]
          },
          "metadata": {},
          "execution_count": 28
        }
      ]
    },
    {
      "cell_type": "markdown",
      "source": [
        "Dado que el factorial es una tarea que puede ser dividida en subtareas del mismo tipo (multiplicaciones), podemos darle un enfoque recursivo y escribir la función de otra manera."
      ],
      "metadata": {
        "id": "yy3uMnMMl5vR"
      }
    },
    {
      "cell_type": "code",
      "source": [
        "def factorial_recursivo(n):\n",
        "    if n == 1:\n",
        "        return 1\n",
        "    else:\n",
        "        return n * factorial_recursivo(n-1)\n",
        "\n",
        "factorial_recursivo(5) # 120"
      ],
      "metadata": {
        "id": "4bqkKWdLl8lT"
      },
      "execution_count": null,
      "outputs": []
    },
    {
      "cell_type": "markdown",
      "source": [
        "###Serie de Fibonacci\n",
        "Otro ejemplo muy usado para ilustrar las posibilidades de la recursividad, es calcular la serie de fibonacci. Dicha serie calcula el elemento n sumando los dos anteriores **n-1 + n-2**. Se asume que los dos primeros elementos son 0 y 1."
      ],
      "metadata": {
        "id": "tbuD9-VImhmd"
      }
    },
    {
      "cell_type": "code",
      "source": [
        "def fibonacci_recursivo(n):\n",
        "    if n == 0:\n",
        "        return 0\n",
        "    elif n == 1:\n",
        "        return 1\n",
        "    else:\n",
        "        return fibonacci_recursivo(n-1) + fibonacci_recursivo(n-2)"
      ],
      "metadata": {
        "id": "Mzg-v2KtmqG3"
      },
      "execution_count": 29,
      "outputs": []
    },
    {
      "cell_type": "markdown",
      "source": [
        "Podemos ver que siempre que la n sea distinta de cero o uno, se llamará recursivamente a la función, buscando los dos elementos anteriores. Cuando la n valga cero o uno se dejará de llamar a la función y se devolverá un valor concreto. Podemos calcular el elemento 7, que será 0,1,1,2,3,5,8,13, es decir, 13."
      ],
      "metadata": {
        "id": "O4KWYdgXm1_o"
      }
    },
    {
      "cell_type": "code",
      "source": [
        "fibonacci_recursivo(7)\n",
        "# 13"
      ],
      "metadata": {
        "colab": {
          "base_uri": "https://localhost:8080/"
        },
        "id": "APPxbTxmm4qp",
        "outputId": "2247473a-5773-417e-834c-f0b7e3728612"
      },
      "execution_count": 30,
      "outputs": [
        {
          "output_type": "execute_result",
          "data": {
            "text/plain": [
              "13"
            ]
          },
          "metadata": {},
          "execution_count": 30
        }
      ]
    }
  ]
}