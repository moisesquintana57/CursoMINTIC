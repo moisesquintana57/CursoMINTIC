{
  "cells": [
    {
      "cell_type": "markdown",
      "id": "62a22c34",
      "metadata": {
        "id": "62a22c34"
      },
      "source": [
        "## Introducción a la PROGRAMACIÓN con Python.\n",
        "\n",
        "### IDENTACIÓN\n",
        "\n",
        "Es muy difícil encontrar un lenguaje de alto nivel, sea compilado o intérprete, que tome en cuenta los espacios entre sentencias, por lo que algunos programadores emplean las sangrías o identación para darle mayor elegancia y comprensión al contenido del programa. Si embargo, en Python, la identación cobra una importancia fundamental, pues la utiliza para establecer bloques de sentencias y de esta forma delimitar ciertas estructuras del lenguaje. La identación y los dos puntos (:) son los únicos delimitadores reconocidos de Python. La identación de Python consta de cuatro espació en blanco delante de las sentencias que indican que todas estas forman un bloque o una misma estructura de control de flujo. \n",
        "\n",
        "\n",
        "![image.png](attachment:image.png)\n",
        "\n",
        "### LA CODIFICACIÓN.\n",
        "\n",
        "La codificación de caracteres (encoding en inglés) es el mecanismo que permite la conversión de un carácter de un lenguaje, en un símbolo de otra representación. Normalmente estos símbolos están agrupados por sistemas. Ejemplos de estos sistemas de códigos están: Código ASCII (American Standard Code for Information Interchange), la UTF-8  (8-bit Unicode Transformation Format), UTF – 16 y otros.\n",
        "\n",
        "Por ejemplo, si usamos en programas Python la codificación de caracteres **UTF – 8**, entonces el intérprete del lenguaje no genera errores al encontrar caracteres extraños\n"
      ]
    },
    {
      "cell_type": "code",
      "execution_count": null,
      "id": "cbd50fcb",
      "metadata": {
        "id": "cbd50fcb",
        "outputId": "e7e58479-2fd1-4d4e-a615-84314dc93c22"
      },
      "outputs": [
        {
          "name": "stdout",
          "output_type": "stream",
          "text": [
            "Al cruzar la frontera brasileña, encontrarás animales exóticos\n"
          ]
        }
      ],
      "source": [
        "# -*- coding: utf-8 -*-\n",
        "print (\"Al cruzar la frontera brasileña, encontrarás animales exóticos\")"
      ]
    },
    {
      "cell_type": "markdown",
      "id": "0938f0b0",
      "metadata": {
        "id": "0938f0b0"
      },
      "source": [
        "### LA ASIGNACIÓN MÚLTIPLE.\n",
        "\n",
        "Al igual que algunos otros lenguajes de programación, Python permite, mediante una sola sentencia, asignar valores a varias variables. Esto representa una ventaja a la hora de escribir in programa y reducir un poco el número de líneas de código empleadas.\n"
      ]
    },
    {
      "cell_type": "code",
      "execution_count": null,
      "id": "5247d1b7",
      "metadata": {
        "id": "5247d1b7"
      },
      "outputs": [],
      "source": [
        "nombre, edad, id = \"Juan\", 21, \"T00023454\"\n",
        "print(nombre)\n",
        "print(edad)\n",
        "print(id)\n",
        "lugar = ['Bolívar', 'Cartagena']\n",
        "dpto, ciudad = lugar\n",
        "print('La capital de ', dpto,' es ',ciudad)\n"
      ]
    },
    {
      "cell_type": "markdown",
      "id": "a1d6f791",
      "metadata": {
        "id": "a1d6f791"
      },
      "source": [
        "### ESTRUCTURAS DE CONTROL DE FLUJO CONDICIONAL.\n",
        "\n",
        "En ocasiones, cuando una persona se dirige a su casa en su vehículo, por la ruta que transita diariamente y se tropieza con la vía cerrada por algún accidente u obstáculo, tiene que rápidamente tomar la decisión de buscar una vía alternativa para, quizás unos metros más adelante, retomar su camino rutinario o simplemente cambiar su lugar de destino provisionalmente.\n",
        "\n",
        "Estas situaciones que se presentan en la vida diaria también suceden en la programación. Surgen disyuntivas a partir del cumplimiento o no de determinadas condiciones que harán que el curso del programa sea uno o sea otro.\n",
        "\n",
        "Las estructuras de control condicionales son aquellas que permiten evaluar si una o\n",
        "más condiciones se cumplen, para decir qué acción se debe ejecutar. La evaluación de\n",
        "condiciones, solo puede arrojar uno de dos resultados posibles: **verdadero o falso (True o False)** Anteriormente , se analizaron los operadores relacionales y lógicos que van a ser de gran utilidad en este momento.\n",
        "\n",
        "Las estructuras condicionales, se definen mediante el uso de tres palabras reservadas del lenguaje Python: **if (si), elif (sino, si) y else (sino)**.\n",
        "\n",
        "**Ejemplo:**\n",
        "\n",
        "*Utilizando la congruencia módulo m, determinar si un número entero dado es par o impar*\n",
        "\n"
      ]
    },
    {
      "cell_type": "code",
      "execution_count": null,
      "id": "6da3a498",
      "metadata": {
        "id": "6da3a498",
        "outputId": "fd44b07f-813d-4157-bb8d-4184bf22a3db"
      },
      "outputs": [
        {
          "name": "stdout",
          "output_type": "stream",
          "text": [
            "El número  9  es impar\n"
          ]
        }
      ],
      "source": [
        "# -*- coding: utf-8 -*-\n",
        "\n",
        "n = 9 # Se asigna un número entero par o impar\n",
        "\n",
        "if n % 2 == 0: # si el resto de la div. entera por 2 es 0\n",
        "    print('El número ', n, ' es par')\n",
        "else:  # si el resto no es 0, o sea es 1\n",
        "    print('El número ', n, ' es impar')\n"
      ]
    },
    {
      "cell_type": "markdown",
      "id": "9017e79d",
      "metadata": {
        "id": "9017e79d"
      },
      "source": [
        "### ENTRADA DE LA INFORMACION.\n",
        "\n",
        "Cuando en programación se habla sobre la \"entrada\" de un programa, lógicamente se está refiriendo a los datos que llegan al programa desde el exterior. Fundamentalmente, el origen más común es el teclado.\n",
        "\n",
        "La sentencia más simple y más difundida que usa el Python para esta entrad de datos es la **función input()**. La función *input()* tiene como sintaxis: **<input([‘mensaje’]>)** . El mensaje es opcional y la función devuelve siempre una cadena de caracteres (str). La aparición en un programa de la sentencia input() provoca una interrupción en la ejecución del programa, esperando que se suministre a través del teclado una cadena de caracteres que finalice “pulsando” la tecla Enter y entonces el programa continúa la ejecución con la instrucción siguiente al input(). Esta sentencia puede ser usada con fines más ambiciosos, pero ello implica cambiar un poco la sintaxis.\n",
        "\n",
        "Antes de proponer algunos ejemplos donde se use esta entrada de información, es importante aclarar que la información que se entre a través de la función input() es del tipo string (cadena de caracteres), por lo que si la intención del usuario es permitir la entrada de otro tipo de datos, debe usar la reinterpretación de tipos (typecasting) abordada anteriormente.\n"
      ]
    },
    {
      "cell_type": "code",
      "execution_count": null,
      "id": "31995bf5",
      "metadata": {
        "id": "31995bf5",
        "outputId": "424682c0-6637-4f34-9499-ef57fc22f957"
      },
      "outputs": [
        {
          "name": "stdout",
          "output_type": "stream",
          "text": [
            " Escribe un número natural: 57\n",
            "El número  57  es impar\n"
          ]
        }
      ],
      "source": [
        "# -*- coding: utf-8 -*-\n",
        "\n",
        "n = int(input(\"Escribe un número natural: \")) # Se entra un número entero par o impar\n",
        "\n",
        "if n % 2 == 0: # si el resto de la div. entera por 2 es 0\n",
        "    print('El número ', n, ' es par')\n",
        "else:  # si el resto no es 0, o sea es 1\n",
        "    print('El número ', n, ' es impar')"
      ]
    },
    {
      "cell_type": "markdown",
      "id": "6e8deb5f",
      "metadata": {
        "id": "6e8deb5f"
      },
      "source": [
        "**Ejemplo:**\n",
        "*Dado un número entero n, determinar si un número entero positivo, cero o negativo*\n"
      ]
    },
    {
      "cell_type": "code",
      "execution_count": null,
      "id": "80387ea1",
      "metadata": {
        "id": "80387ea1",
        "outputId": "2b817329-0198-4629-bceb-59efd3330a4e"
      },
      "outputs": [
        {
          "name": "stdout",
          "output_type": "stream",
          "text": [
            "Escribe un número natural: 67\n",
            "El número  67  es positivo\n"
          ]
        }
      ],
      "source": [
        "# -*- coding: utf-8 -*-\n",
        "\n",
        "n = int(input(\"Escribe un número entero: \")) # Se entra un número entero cualquiera\n",
        "\n",
        "if n>0:\n",
        "    print('El número ', n, ' es positivo')\n",
        "elif n == 0:\n",
        "    print('El número ', n, ' es cero')\n",
        "else:\n",
        "    print('El número ', n, ' es negativo')\n"
      ]
    },
    {
      "cell_type": "markdown",
      "id": "8c259c1a",
      "metadata": {
        "id": "8c259c1a"
      },
      "source": [
        "Como sucede con otros lenguajes, la condición a evaluar en la estructura condicional puede ser simple o compuesta. Es compuesta cuando varias condiciones simples se conectan mediante operadores lógicos. En estos casos, el uso de paréntesis y el delimitador dos puntos (:) juegan un papel preponderante.\n",
        "\n",
        "**Ejemplo:**\n",
        "*Imagine que debe hacer un programa que reciba como dato un entero positivo que representa un año del calendario actual y el programa debe decidir si ese año es bisiesto o no.*\n"
      ]
    },
    {
      "cell_type": "markdown",
      "id": "3abee248",
      "metadata": {
        "id": "3abee248"
      },
      "source": [
        "Usando lógica proposicional se puede caracterizar mejor la situación\n",
        "\n",
        "Sean las proposiciones simples:\n",
        "\n",
        "\n",
        "#####         p: es múltiplo de 4 \n",
        "#####         q: n es múltiplo de 100\n",
        "#####         r: n es múltiplo de 400** \n",
        "\n",
        "\n",
        "#####        n es bisiesto ssi r ⌵ (~q ^ p)\n"
      ]
    },
    {
      "cell_type": "code",
      "execution_count": null,
      "id": "0ef0e083",
      "metadata": {
        "id": "0ef0e083",
        "outputId": "127b178b-f9b8-4c8e-e146-4e6d3e538457"
      },
      "outputs": [
        {
          "name": "stdout",
          "output_type": "stream",
          "text": [
            "Escribe los dígitos del año a analizar: 2400\n",
            "2400  es un año bisiesto\n"
          ]
        }
      ],
      "source": [
        "# -*- coding: utf-8 -*-\n",
        "\n",
        "n = int(input(\"Escribe los dígitos del año a analizar: \"))  # n un entero positivo que representa un año del calendario\n",
        "if (n % 400 == 0) or ((n % 100 != 0) and (n % 4 ==0)):\n",
        "    print(n, ' es un año bisiesto')\n",
        "else:\n",
        "    print(n, ' no es un año bisiesto')\n"
      ]
    },
    {
      "cell_type": "markdown",
      "id": "95d8f8d1",
      "metadata": {
        "id": "95d8f8d1"
      },
      "source": [
        "Resolver la ecuación de segundo grado de la forma $$ax^2+bx+c=0, con\\space a≠0$$  "
      ]
    },
    {
      "cell_type": "code",
      "execution_count": null,
      "id": "af7468a2",
      "metadata": {
        "id": "af7468a2"
      },
      "outputs": [],
      "source": [
        "# -*- coding: utf-8 -*-\n",
        "print('Este programa resuelve la ecuación de variable real ax^2 + bx + c = 0')\n",
        "a = float(input(\"Escribe el coeficiente a de la ecuación: \"))\n",
        "b = float(input(\"Escribe el coeficiente b de la ecuación: \"))\n",
        "c = float(input(\"Escribe el coefiviente c de la ecuación: \"))\n",
        "  \n",
        "print('a = ', a, ' b = ',b,' y c =',c)\n",
        "discrim = b**2 - 4*a*c  # Se calcula el discriminante\n",
        "print('Discriminante d = ', discrim)\n",
        "\n",
        "if discrim > 0:\n",
        "    print('El discriminante es positivo')\n",
        "    print('por tanto la ecuación tiene dos soluciones')\n",
        "    x1, x2 = (-b + discrim**0.5)/2/a , (-b - discrim**0.5)/2/a\n",
        "    print('Soluciones: x1 = ',x1,' y x2 = ',x2)\n",
        "elif discrim ==0:\n",
        "    print('El discriminante es cero')\n",
        "    print('por tanto la ecuación tiene una solución')\n",
        "    x1 = -b /2/a\n",
        "    print('Solucion: x1 = ',x1)\n",
        "else:\n",
        "    print('El discriminante es negativo')\n",
        "    print('por tanto la ecuación no tiene solución real')\n"
      ]
    },
    {
      "cell_type": "code",
      "execution_count": null,
      "id": "6e76c5ff",
      "metadata": {
        "id": "6e76c5ff"
      },
      "outputs": [],
      "source": [
        ""
      ]
    }
  ],
  "metadata": {
    "kernelspec": {
      "display_name": "Python 3",
      "language": "python",
      "name": "python3"
    },
    "language_info": {
      "codemirror_mode": {
        "name": "ipython",
        "version": 3
      },
      "file_extension": ".py",
      "mimetype": "text/x-python",
      "name": "python",
      "nbconvert_exporter": "python",
      "pygments_lexer": "ipython3",
      "version": "3.8.8"
    },
    "colab": {
      "name": "estructuras_programacion.ipynb",
      "provenance": [],
      "collapsed_sections": []
    }
  },
  "nbformat": 4,
  "nbformat_minor": 5
}