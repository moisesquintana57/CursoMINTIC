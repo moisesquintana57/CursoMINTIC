{
  "cells": [
    {
      "cell_type": "markdown",
      "id": "62a22c34",
      "metadata": {
        "id": "62a22c34"
      },
      "source": [
        "## Introducción a la PROGRAMACIÓN con Python.\n",
        "\n",
        "### IDENTACIÓN\n",
        "\n",
        "Es muy difícil encontrar un lenguaje de alto nivel, sea compilado o intérprete, que tome en cuenta los espacios entre sentencias, por lo que algunos programadores emplean las sangrías o identación para darle mayor elegancia y comprensión al contenido del programa. Si embargo, en Python, la identación cobra una importancia fundamental, pues la utiliza para establecer bloques de sentencias y de esta forma delimitar ciertas estructuras del lenguaje. La identación y los dos puntos (:) son los únicos delimitadores reconocidos de Python. La identación de Python consta de cuatro espació en blanco delante de las sentencias que indican que todas estas forman un bloque o una misma estructura de control de flujo. \n",
        "\n",
        "![sangria.png](data:image/png;base64,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)\n",
        "\n",
        "\n",
        "### LA CODIFICACIÓN.\n",
        "\n",
        "La codificación de caracteres (encoding en inglés) es el mecanismo que permite la conversión de un carácter de un lenguaje, en un símbolo de otra representación. Normalmente estos símbolos están agrupados por sistemas. Ejemplos de estos sistemas de códigos están: Código ASCII (American Standard Code for Information Interchange), la UTF-8  (8-bit Unicode Transformation Format), UTF – 16 y otros.\n",
        "\n",
        "Por ejemplo, si usamos en programas Python la codificación de caracteres **UTF – 8**, entonces el intérprete del lenguaje no genera errores al encontrar caracteres extraños\n"
      ]
    },
    {
      "cell_type": "code",
      "execution_count": null,
      "id": "cbd50fcb",
      "metadata": {
        "id": "cbd50fcb",
        "outputId": "e7e58479-2fd1-4d4e-a615-84314dc93c22"
      },
      "outputs": [
        {
          "name": "stdout",
          "output_type": "stream",
          "text": [
            "Al cruzar la frontera brasileña, encontrarás animales exóticos\n"
          ]
        }
      ],
      "source": [
        "# -*- coding: utf-8 -*-\n",
        "print (\"Al cruzar la frontera brasileña, encontrarás animales exóticos\")"
      ]
    },
    {
      "cell_type": "markdown",
      "id": "0938f0b0",
      "metadata": {
        "id": "0938f0b0"
      },
      "source": [
        "### LA ASIGNACIÓN MÚLTIPLE.\n",
        "\n",
        "Al igual que algunos otros lenguajes de programación, Python permite, mediante una sola sentencia, asignar valores a varias variables. Esto representa una ventaja a la hora de escribir in programa y reducir un poco el número de líneas de código empleadas.\n"
      ]
    },
    {
      "cell_type": "code",
      "execution_count": null,
      "id": "5247d1b7",
      "metadata": {
        "id": "5247d1b7"
      },
      "outputs": [],
      "source": [
        "nombre, edad, id = \"Juan\", 21, \"T00023454\"\n",
        "print(nombre)\n",
        "print(edad)\n",
        "print(id)\n",
        "lugar = ['Bolívar', 'Cartagena']\n",
        "dpto, ciudad = lugar\n",
        "print('La capital de ', dpto,' es ',ciudad)\n"
      ]
    },
    {
      "cell_type": "markdown",
      "id": "a1d6f791",
      "metadata": {
        "id": "a1d6f791"
      },
      "source": [
        "### ESTRUCTURAS DE CONTROL DE FLUJO CONDICIONAL.\n",
        "\n",
        "En ocasiones, cuando una persona se dirige a su casa en su vehículo, por la ruta que transita diariamente y se tropieza con la vía cerrada por algún accidente u obstáculo, tiene que rápidamente tomar la decisión de buscar una vía alternativa para, quizás unos metros más adelante, retomar su camino rutinario o simplemente cambiar su lugar de destino provisionalmente.\n",
        "\n",
        "Estas situaciones que se presentan en la vida diaria también suceden en la programación. Surgen disyuntivas a partir del cumplimiento o no de determinadas condiciones que harán que el curso del programa sea uno o sea otro.\n",
        "\n",
        "Las estructuras de control condicionales son aquellas que permiten evaluar si una o\n",
        "más condiciones se cumplen, para decir qué acción se debe ejecutar. La evaluación de\n",
        "condiciones, solo puede arrojar uno de dos resultados posibles: **verdadero o falso (True o False)** Anteriormente , se analizaron los operadores relacionales y lógicos que van a ser de gran utilidad en este momento.\n",
        "\n",
        "Las estructuras condicionales, se definen mediante el uso de tres palabras reservadas del lenguaje Python: **if (si), elif (sino, si) y else (sino)**.\n",
        "\n",
        "**Ejemplo:**\n",
        "\n",
        "*Utilizando la congruencia módulo m, determinar si un número entero dado es par o impar*\n",
        "\n"
      ]
    },
    {
      "cell_type": "code",
      "execution_count": null,
      "id": "6da3a498",
      "metadata": {
        "id": "6da3a498",
        "outputId": "fd44b07f-813d-4157-bb8d-4184bf22a3db"
      },
      "outputs": [
        {
          "name": "stdout",
          "output_type": "stream",
          "text": [
            "El número  9  es impar\n"
          ]
        }
      ],
      "source": [
        "# -*- coding: utf-8 -*-\n",
        "\n",
        "n = 9 # Se asigna un número entero par o impar\n",
        "\n",
        "if n % 2 == 0: # si el resto de la div. entera por 2 es 0\n",
        "    print('El número ', n, ' es par')\n",
        "else:  # si el resto no es 0, o sea es 1\n",
        "    print('El número ', n, ' es impar')\n"
      ]
    },
    {
      "cell_type": "markdown",
      "id": "9017e79d",
      "metadata": {
        "id": "9017e79d"
      },
      "source": [
        "### ENTRADA DE LA INFORMACION.\n",
        "\n",
        "Cuando en programación se habla sobre la \"entrada\" de un programa, lógicamente se está refiriendo a los datos que llegan al programa desde el exterior. Fundamentalmente, el origen más común es el teclado.\n",
        "\n",
        "La sentencia más simple y más difundida que usa el Python para esta entrad de datos es la **función input()**. La función *input()* tiene como sintaxis: **<input([‘mensaje’]>)** . El mensaje es opcional y la función devuelve siempre una cadena de caracteres (str). La aparición en un programa de la sentencia input() provoca una interrupción en la ejecución del programa, esperando que se suministre a través del teclado una cadena de caracteres que finalice “pulsando” la tecla Enter y entonces el programa continúa la ejecución con la instrucción siguiente al input(). Esta sentencia puede ser usada con fines más ambiciosos, pero ello implica cambiar un poco la sintaxis.\n",
        "\n",
        "Antes de proponer algunos ejemplos donde se use esta entrada de información, es importante aclarar que la información que se entre a través de la función input() es del tipo string (cadena de caracteres), por lo que si la intención del usuario es permitir la entrada de otro tipo de datos, debe usar la reinterpretación de tipos (typecasting) abordada anteriormente.\n"
      ]
    },
    {
      "cell_type": "code",
      "execution_count": null,
      "id": "31995bf5",
      "metadata": {
        "id": "31995bf5",
        "outputId": "424682c0-6637-4f34-9499-ef57fc22f957"
      },
      "outputs": [
        {
          "name": "stdout",
          "output_type": "stream",
          "text": [
            " Escribe un número natural: 57\n",
            "El número  57  es impar\n"
          ]
        }
      ],
      "source": [
        "# -*- coding: utf-8 -*-\n",
        "\n",
        "n = int(input(\"Escribe un número natural: \")) # Se entra un número entero par o impar\n",
        "\n",
        "if n % 2 == 0: # si el resto de la div. entera por 2 es 0\n",
        "    print('El número ', n, ' es par')\n",
        "else:  # si el resto no es 0, o sea es 1\n",
        "    print('El número ', n, ' es impar')"
      ]
    },
    {
      "cell_type": "markdown",
      "id": "6e8deb5f",
      "metadata": {
        "id": "6e8deb5f"
      },
      "source": [
        "**Ejemplo:**\n",
        "*Dado un número entero n, determinar si un número entero positivo, cero o negativo*\n"
      ]
    },
    {
      "cell_type": "code",
      "execution_count": null,
      "id": "80387ea1",
      "metadata": {
        "id": "80387ea1",
        "outputId": "2b817329-0198-4629-bceb-59efd3330a4e"
      },
      "outputs": [
        {
          "name": "stdout",
          "output_type": "stream",
          "text": [
            "Escribe un número natural: 67\n",
            "El número  67  es positivo\n"
          ]
        }
      ],
      "source": [
        "# -*- coding: utf-8 -*-\n",
        "\n",
        "n = int(input(\"Escribe un número entero: \")) # Se entra un número entero cualquiera\n",
        "\n",
        "if n>0:\n",
        "    print('El número ', n, ' es positivo')\n",
        "elif n == 0:\n",
        "    print('El número ', n, ' es cero')\n",
        "else:\n",
        "    print('El número ', n, ' es negativo')\n"
      ]
    },
    {
      "cell_type": "markdown",
      "id": "8c259c1a",
      "metadata": {
        "id": "8c259c1a"
      },
      "source": [
        "Como sucede con otros lenguajes, la condición a evaluar en la estructura condicional puede ser simple o compuesta. Es compuesta cuando varias condiciones simples se conectan mediante operadores lógicos. En estos casos, el uso de paréntesis y el delimitador dos puntos (:) juegan un papel preponderante.\n",
        "\n",
        "**Ejemplo:**\n",
        "*Imagine que debe hacer un programa que reciba como dato un entero positivo que representa un año del calendario actual y el programa debe decidir si ese año es bisiesto o no.*\n"
      ]
    },
    {
      "cell_type": "markdown",
      "id": "3abee248",
      "metadata": {
        "id": "3abee248"
      },
      "source": [
        "Usando lógica proposicional se puede caracterizar mejor la situación\n",
        "\n",
        "Sean las proposiciones simples:\n",
        "\n",
        "\n",
        "#####         p: es múltiplo de 4 \n",
        "#####         q: n es múltiplo de 100\n",
        "#####         r: n es múltiplo de 400** \n",
        "\n",
        "\n",
        "#####        n es bisiesto ssi r ⌵ (~q ^ p)\n"
      ]
    },
    {
      "cell_type": "code",
      "execution_count": null,
      "id": "0ef0e083",
      "metadata": {
        "id": "0ef0e083",
        "outputId": "127b178b-f9b8-4c8e-e146-4e6d3e538457"
      },
      "outputs": [
        {
          "name": "stdout",
          "output_type": "stream",
          "text": [
            "Escribe los dígitos del año a analizar: 2400\n",
            "2400  es un año bisiesto\n"
          ]
        }
      ],
      "source": [
        "# -*- coding: utf-8 -*-\n",
        "\n",
        "n = int(input(\"Escribe los dígitos del año a analizar: \"))  # n un entero positivo que representa un año del calendario\n",
        "if (n % 400 == 0) or ((n % 100 != 0) and (n % 4 ==0)):\n",
        "    print(n, ' es un año bisiesto')\n",
        "else:\n",
        "    print(n, ' no es un año bisiesto')\n"
      ]
    },
    {
      "cell_type": "markdown",
      "id": "95d8f8d1",
      "metadata": {
        "id": "95d8f8d1"
      },
      "source": [
        "Resolver la ecuación de segundo grado de la forma $$ax^2+bx+c=0, con\\space a≠0$$  "
      ]
    },
    {
      "cell_type": "code",
      "execution_count": null,
      "id": "af7468a2",
      "metadata": {
        "id": "af7468a2"
      },
      "outputs": [],
      "source": [
        "# -*- coding: utf-8 -*-\n",
        "print('Este programa resuelve la ecuación de variable real ax^2 + bx + c = 0')\n",
        "a = float(input(\"Escribe el coeficiente a de la ecuación: \"))\n",
        "b = float(input(\"Escribe el coeficiente b de la ecuación: \"))\n",
        "c = float(input(\"Escribe el coefiviente c de la ecuación: \"))\n",
        "  \n",
        "print('a = ', a, ' b = ',b,' y c =',c)\n",
        "discrim = b**2 - 4*a*c  # Se calcula el discriminante\n",
        "print('Discriminante d = ', discrim)\n",
        "\n",
        "if discrim > 0:\n",
        "    print('El discriminante es positivo')\n",
        "    print('por tanto la ecuación tiene dos soluciones')\n",
        "    x1, x2 = (-b + discrim**0.5)/2/a , (-b - discrim**0.5)/2/a\n",
        "    print('Soluciones: x1 = ',x1,' y x2 = ',x2)\n",
        "elif discrim ==0:\n",
        "    print('El discriminante es cero')\n",
        "    print('por tanto la ecuación tiene una solución')\n",
        "    x1 = -b /2/a\n",
        "    print('Solucion: x1 = ',x1)\n",
        "else:\n",
        "    print('El discriminante es negativo')\n",
        "    print('por tanto la ecuación no tiene solución real')\n"
      ]
    },
    {
      "cell_type": "code",
      "execution_count": null,
      "id": "6e76c5ff",
      "metadata": {
        "id": "6e76c5ff"
      },
      "outputs": [],
      "source": [
        ""
      ]
    }
  ],
  "metadata": {
    "kernelspec": {
      "display_name": "Python 3",
      "language": "python",
      "name": "python3"
    },
    "language_info": {
      "codemirror_mode": {
        "name": "ipython",
        "version": 3
      },
      "file_extension": ".py",
      "mimetype": "text/x-python",
      "name": "python",
      "nbconvert_exporter": "python",
      "pygments_lexer": "ipython3",
      "version": "3.8.8"
    },
    "colab": {
      "name": "estructura alternativa.ipynb",
      "provenance": [],
      "collapsed_sections": []
    }
  },
  "nbformat": 4,
  "nbformat_minor": 5
}