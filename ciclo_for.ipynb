{
  "nbformat": 4,
  "nbformat_minor": 0,
  "metadata": {
    "colab": {
      "name": "ciclo_for.ipynb",
      "provenance": []
    },
    "kernelspec": {
      "name": "python3",
      "display_name": "Python 3"
    },
    "language_info": {
      "name": "python"
    }
  },
  "cells": [
    {
      "cell_type": "markdown",
      "source": [
        "#Bucle for\n",
        "\n",
        "(tomado del sitio web https://ellibrodepython.com/)\n",
        "\n",
        "A continuación explicaremos el bucle for y sus particularidades en Python, que comparado con otros lenguajes de comparación, tiene ciertas diferencias.\n",
        "El for es un tipo de bucle, parecido al while pero con ciertas diferencias. La principal es que el número de iteraciones de un for esta definido de antemano, mientras que en un while no. La diferencia principal con respecto al while es en la condición. Mientras que en el while la condición era evaluada en cada iteración para decidir si volver a ejecutar o no el código, en el for no existe tal condición, sino un iterable que define las veces que se ejecutará el código. En el siguiente ejemplo vemos un bucle for que se ejecuta 5 veces, y donde la i incrementa su valor “automáticamente” en 1 en cada iteración.\n",
        "\n"
      ],
      "metadata": {
        "id": "T1Zdkz9XRuSf"
      }
    },
    {
      "cell_type": "code",
      "execution_count": null,
      "metadata": {
        "id": "3_6oAXURRioe"
      },
      "outputs": [],
      "source": [
        "for i in range(0, 5):\n",
        "    print(i)"
      ]
    },
    {
      "cell_type": "markdown",
      "source": [
        "Si has leído el capítulo del while, tal vez ya empieces a ver ventajas en el uso del for. Si por ejemplo, queremos tener un número que va creciendo de 0 a n, hacerlo con for nos ahorra alguna línea de código, porque no tenemos que escribir código para incrementar el número.\n",
        "\n",
        "En Python se puede iterar prácticamente todo, como por ejemplo una cadena. En el siguiente ejemplo vemos como la i va tomando los valores de cada letra. Mas adelante explicaremos que es esto de los **iterables e iteradores**.\n"
      ],
      "metadata": {
        "id": "DkDWQ0VtTKXQ"
      }
    },
    {
      "cell_type": "code",
      "source": [
        "for i in \"Python\":\n",
        "    print(i)"
      ],
      "metadata": {
        "id": "bPRGR1gzTX5n"
      },
      "execution_count": null,
      "outputs": []
    },
    {
      "cell_type": "markdown",
      "source": [
        "##For anidados\n",
        "Es posible anidar los for, es decir, meter uno dentro de otro. Esto puede ser muy útil si queremos iterar algún objeto que en cada elemento, tiene a su vez otra clase iterable. Podemos tener por ejemplo, lista de lista, una especie de matriz.\n",
        "\n",
        "Si queremos acceder a cada elemento individualmente, podemos anidar dos for. Uno de ellos se encargará de iterar las filas y el otro las columnas.\n"
      ],
      "metadata": {
        "id": "Fttrtqt_UOVd"
      }
    },
    {
      "cell_type": "code",
      "source": [
        "lista = [[56, 34, 1],\n",
        "         [12, 4, 5],\n",
        "         [9, 4, 3]]\n",
        "\n",
        "for i in lista:\n",
        "    for j in i:\n",
        "        print(j, end =\" \" )\n"
      ],
      "metadata": {
        "colab": {
          "base_uri": "https://localhost:8080/"
        },
        "id": "4Ry7RB8iU4eO",
        "outputId": "09e1517a-d972-4814-ee4b-769110f62da6"
      },
      "execution_count": 9,
      "outputs": [
        {
          "output_type": "stream",
          "name": "stdout",
          "text": [
            "56 34 1 12 4 5 9 4 3 "
          ]
        }
      ]
    },
    {
      "cell_type": "markdown",
      "source": [
        "##Ejemplos for\n",
        "Iterando cadena al revés. Haciendo uso de [::-1] se puede iterar la lista desde el último al primer elemento.\n"
      ],
      "metadata": {
        "id": "myQNqZrzYSOd"
      }
    },
    {
      "cell_type": "code",
      "source": [
        "texto = \"Python\"\n",
        "for i in texto[::-1]:\n",
        "    print(i) #n,o,h,t,y,P"
      ],
      "metadata": {
        "id": "eab40FLiYWLi"
      },
      "execution_count": null,
      "outputs": []
    },
    {
      "cell_type": "markdown",
      "source": [
        "Itera la cadena saltándose elementos. Con [::2] vamos tomando un elemento si y otro no."
      ],
      "metadata": {
        "id": "jnKl18TRY9wy"
      }
    },
    {
      "cell_type": "code",
      "source": [
        "texto = \"Python\"\n",
        "for i in texto[::2]:\n",
        "    print(i) #P,t,o"
      ],
      "metadata": {
        "id": "YTYeebZhZOtT"
      },
      "execution_count": null,
      "outputs": []
    },
    {
      "cell_type": "markdown",
      "source": [
        "Un ejemplo de for usado con comprehensions lists."
      ],
      "metadata": {
        "id": "hZgcr2PtZY7C"
      }
    },
    {
      "cell_type": "code",
      "source": [
        "print(sum(i for i in range(10)))"
      ],
      "metadata": {
        "id": "eVPhCMwAZYSy"
      },
      "execution_count": null,
      "outputs": []
    },
    {
      "cell_type": "markdown",
      "source": [
        "#Range en Python\n",
        "##Uso del range\n",
        "Una de las iteraciones más comunes que se realizan, es la de iterar un número entre por ejemplo 0 y n. Si ya programas, estoy seguro de que estas cansado de escribir esto, aunque sea en otro lenguaje. Pongamos que queremos iterar una variable i de 0 a 5. Haciendo uso de lo que hemos visto anteriormente, podríamos hacer lo siguiente.\n"
      ],
      "metadata": {
        "id": "m_sXKBegaCDD"
      }
    },
    {
      "cell_type": "code",
      "source": [
        "for i in (0, 1, 2, 3, 4, 5):\n",
        "    print(i) #0, 1, 2, 3, 4, 5"
      ],
      "metadata": {
        "id": "o-E2qTTHaMMV"
      },
      "execution_count": null,
      "outputs": []
    },
    {
      "cell_type": "markdown",
      "source": [
        "Se trata de una solución que cumple con nuestro requisito. El contenido después del in se trata de una clase que como ya hemos visto antes, es iterable, y es de hecho una tupla. Sin embargo, hay otras formas de hacer esto en Python, haciendo uso del *range()*."
      ],
      "metadata": {
        "id": "7kn7GxwkaORk"
      }
    },
    {
      "cell_type": "code",
      "source": [
        "for i in range(6):\n",
        "    print(i) #0, 1, 2, 3, 4, 5"
      ],
      "metadata": {
        "id": "a8hGOYHoagYK"
      },
      "execution_count": null,
      "outputs": []
    },
    {
      "cell_type": "markdown",
      "source": [
        "El *range()* genera una secuencia de números que van desde 0 por defecto hasta el número que se pasa como parámetro menos 1. En realidad, se pueden pasar hasta tres parámetros separados por coma, donde el primer es el inicio de la secuencia, el segundo el final y el tercero el salto que se desea entre números. Por defecto se empieza en 0 y el salto es de 1.\n",
        "## *range(inicio, fin, salto)*\n",
        "Por lo tanto, si llamamos a *range()* con (5,20,2), se generarán números de 5 a 20 de dos en dos. Un truco es que el *range()* se puede convertir en *list*.\n"
      ],
      "metadata": {
        "id": "jFT03TbIapCf"
      }
    },
    {
      "cell_type": "code",
      "source": [
        "for i in range(5, 20, 2):\n",
        "    print(i) #5,7,9,11,13,15,17,19"
      ],
      "metadata": {
        "id": "Kb64_UqzbFGD"
      },
      "execution_count": null,
      "outputs": []
    },
    {
      "cell_type": "markdown",
      "source": [
        "Se pueden generar también secuencias inversas, empezando por un número mayor y terminando en uno menor, pero para ello el salto deberá ser negativo."
      ],
      "metadata": {
        "id": "XQIQOHSebZ08"
      }
    },
    {
      "cell_type": "code",
      "source": [
        "for i in range (5, 0, -1):\n",
        "    print(i) #5,4,3,2,1"
      ],
      "metadata": {
        "id": "AiwslOXBbbVZ"
      },
      "execution_count": null,
      "outputs": []
    }
  ]
}