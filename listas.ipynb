{
  "nbformat": 4,
  "nbformat_minor": 0,
  "metadata": {
    "colab": {
      "name": "listas.ipynb",
      "provenance": [],
      "authorship_tag": "ABX9TyMbs2WBRoL2PoygfmS3XFcA",
      "include_colab_link": true
    },
    "kernelspec": {
      "name": "python3",
      "display_name": "Python 3"
    },
    "language_info": {
      "name": "python"
    }
  },
  "cells": [
    {
      "cell_type": "markdown",
      "metadata": {
        "id": "view-in-github",
        "colab_type": "text"
      },
      "source": [
        "<a href=\"https://colab.research.google.com/github/moisesquintana57/CursoMINTIC/blob/main/listas.ipynb\" target=\"_parent\"><img src=\"https://colab.research.google.com/assets/colab-badge.svg\" alt=\"Open In Colab\"/></a>"
      ]
    },
    {
      "cell_type": "markdown",
      "source": [
        "#Listas en Python\n",
        "(Tomado del https://www.ellibrodepython.com/ )\n",
        "\n",
        "Las **listas** en Python son un tipo de dato que permite almacenar datos de cualquier tipo. Son mutables y dinámicas, lo cual es la principal diferencia con los sets y las tuplas.\n",
        "##Crear listas Python\n",
        "Las listas en Python son uno de los tipos o estructuras de datos más versátiles del lenguaje, ya que permiten almacenar un conjunto arbitrario de datos. Es decir, podemos guardar en ellas prácticamente lo que sea. Si vienes de otros lenguajes de programación, se podría decir que son similares a los **arrays**.\n"
      ],
      "metadata": {
        "id": "hMd3pTvB22eM"
      }
    },
    {
      "cell_type": "code",
      "execution_count": null,
      "metadata": {
        "id": "nHHrh75F2uzs"
      },
      "outputs": [],
      "source": [
        "lista = [1, 2, 3, 4,\"Hola\"]\n",
        "lista"
      ]
    },
    {
      "cell_type": "markdown",
      "source": [
        "También se puede crear usando **list** y pasando un objeto *iterable*."
      ],
      "metadata": {
        "id": "P9FUsQyq3uSL"
      }
    },
    {
      "cell_type": "code",
      "source": [
        "lista = list(\"1234\")\n",
        "lista"
      ],
      "metadata": {
        "id": "uqbt_ZJ538JB"
      },
      "execution_count": null,
      "outputs": []
    },
    {
      "cell_type": "markdown",
      "source": [
        "Una lista sea crea con **[ ]** separando sus elementos con comas **(,)** gran ventaja es que pueden almacenar tipos de datos distintos."
      ],
      "metadata": {
        "id": "h6SCvxrBCtN7"
      }
    },
    {
      "cell_type": "code",
      "source": [
        "lista = [1, \"Hola\", 3.67, [1, 2, 3]]"
      ],
      "metadata": {
        "id": "0v9pP6pQC_3q"
      },
      "execution_count": null,
      "outputs": []
    },
    {
      "cell_type": "markdown",
      "source": [
        "Algunas propiedades de las listas:\n",
        "\n",
        "Son ordenadas, mantienen el orden en el que han sido definidas\n",
        " - Pueden ser formadas por tipos arbitrarios\n",
        " - Pueden ser indexadas con [i].\n",
        " - Se pueden anidar, es decir, meter una dentro de la otra.\n",
        " - Son mutables, ya que sus elementos pueden ser modificados.\n",
        " - Son dinámicas, ya que se pueden añadir o eliminar elementos.\n",
        "## Acceder y modificar listas\n",
        "\n",
        "Si tenemos una lista a con 3 elementos almacenados en ella, podemos acceder a los mismos usando corchetes y un índice, que va desde **0** a **n-1** siendo **n** el tamaño de la lista.\n"
      ],
      "metadata": {
        "id": "aQ2VKh3cDp0H"
      }
    },
    {
      "cell_type": "code",
      "source": [
        "a = [90, \"Python\", 3.87]\n",
        "print(a[0]) #90\n",
        "print(a[1]) #Python\n",
        "print(a[2]) #3.87"
      ],
      "metadata": {
        "id": "85GN5vbbEl-h"
      },
      "execution_count": null,
      "outputs": []
    },
    {
      "cell_type": "markdown",
      "source": [
        "Se puede también acceder al último elemento usando el índice **[-1]**.\n",
        "\n"
      ],
      "metadata": {
        "id": "lzfAX9QaE2XJ"
      }
    },
    {
      "cell_type": "code",
      "source": [
        "a = [90, \"Python\", 3.87]\n",
        "print(a[-1]) #3.87"
      ],
      "metadata": {
        "id": "-9pQOle5FJrf"
      },
      "execution_count": null,
      "outputs": []
    },
    {
      "cell_type": "markdown",
      "source": [
        "De la misma manera, al igual que [-1] es el último elemento, podemos acceder a **[-2]** que será el penúltimo.\n"
      ],
      "metadata": {
        "id": "CoTXq3IvFKbu"
      }
    },
    {
      "cell_type": "code",
      "source": [
        "print(a[-2]) #Python"
      ],
      "metadata": {
        "id": "6GaYae4KFZW_"
      },
      "execution_count": null,
      "outputs": []
    },
    {
      "cell_type": "markdown",
      "source": [
        "Y si queremos modificar un elemento de la lista, basta con asignar con el operador = el nuevo valor.\n"
      ],
      "metadata": {
        "id": "jCH2L8LCFlTa"
      }
    },
    {
      "cell_type": "code",
      "source": [
        "a[2] = 1\n",
        "print(a) #[90, 'Python', 1]"
      ],
      "metadata": {
        "id": "5GPlCwgPJBz_"
      },
      "execution_count": null,
      "outputs": []
    },
    {
      "cell_type": "markdown",
      "source": [
        "Un elemento puede ser eliminado con diferentes métodos como veremos a continuación, o con del y la lista con el índice a eliminar.\n"
      ],
      "metadata": {
        "id": "P3B1osJ4I3ry"
      }
    },
    {
      "cell_type": "code",
      "source": [
        "l = [1, 2, 3, 4, 5]\n",
        "del l[1]\n",
        "print(l) #[1, 3, 4, 5]\n"
      ],
      "metadata": {
        "id": "7ABUN5STJSLu"
      },
      "execution_count": null,
      "outputs": []
    },
    {
      "cell_type": "markdown",
      "source": [
        "También podemos tener **listas anidadas**, es decir, una lista dentro de otra. Incluso podemos tener una lista dentro de otra lista y a su vez dentro de otra lista. Para acceder a sus elementos sólo tenemos que usar [ ] tantas veces como niveles de anidado tengamos.\n"
      ],
      "metadata": {
        "id": "Qj31i0TyJqKw"
      }
    },
    {
      "cell_type": "code",
      "source": [
        "x = [1, 2, 3, ['p', 'q', [5, 6, 7]]]\n",
        "print(x[3][0])    #p\n",
        "print(x[3][2][0]) #5\n",
        "print(x[3][2][2]) #7"
      ],
      "metadata": {
        "id": "c0Qj0A_sKXPF"
      },
      "execution_count": null,
      "outputs": []
    },
    {
      "cell_type": "markdown",
      "source": [
        "También es posible crear sublistas más pequeñas de una más grande. Para ello debemos de usar : entre corchetes, indicando a la izquierda el valor de inicio, y a la izquierda el valor final que no está incluido. Por lo tanto [0:2] creará una lista con los elementos [0] y [1] de la original.\n",
        "\n"
      ],
      "metadata": {
        "id": "PIv8InuyJxlN"
      }
    },
    {
      "cell_type": "code",
      "source": [
        "l = [1, 2, 3, 4, 5, 6]\n",
        "print(l[0:2]) #[1, 2]\n",
        "print(l[2:6]) #[3, 4, 5, 6]"
      ],
      "metadata": {
        "id": "pb_5PllPKr77"
      },
      "execution_count": null,
      "outputs": []
    },
    {
      "cell_type": "markdown",
      "source": [
        "Y de la misma manera podemos modificar múltiples valores de la lista a la vez usando :\n"
      ],
      "metadata": {
        "id": "an60HWBmK3ko"
      }
    },
    {
      "cell_type": "code",
      "source": [
        "l = [1, 2, 3, 4, 5, 6]\n",
        "l[0:3] = [0, 0, 0]\n",
        "print(l) #[0, 0, 0, 4, 5, 6]"
      ],
      "metadata": {
        "id": "KV3Dn4vhLTWM"
      },
      "execution_count": null,
      "outputs": []
    },
    {
      "cell_type": "markdown",
      "source": [
        "Hay ciertos operadores como el **+** que pueden ser usados sobre las listas.\n"
      ],
      "metadata": {
        "id": "7QwpRGMCLEVP"
      }
    },
    {
      "cell_type": "code",
      "source": [
        "l = [1, 2, 3]\n",
        "l += [4, 5]\n",
        "print(l) #[1, 2, 3, 4, 5]"
      ],
      "metadata": {
        "id": "NWxTanNbLe8r"
      },
      "execution_count": null,
      "outputs": []
    },
    {
      "cell_type": "markdown",
      "source": [
        "Y una funcionalidad muy interesante es que se puede asignar una lista con n elementos a n variables."
      ],
      "metadata": {
        "id": "tE0A9AmCLYKF"
      }
    },
    {
      "cell_type": "code",
      "source": [
        "l = [1, 2, 3]\n",
        "x, y, z = l\n",
        "print(x, y, z) #1 2 3"
      ],
      "metadata": {
        "id": "kg40eIDVLydk"
      },
      "execution_count": null,
      "outputs": []
    },
    {
      "cell_type": "markdown",
      "source": [
        "##Iterar listas\n",
        "En Python es muy fácil iterar una lista, mucho más que en otros lenguajes de programación.\n"
      ],
      "metadata": {
        "id": "BTOJCghmL_Ur"
      }
    },
    {
      "cell_type": "code",
      "source": [
        "lista = [5, 9, 10]\n",
        "for l in lista:\n",
        "    print(l)\n",
        "#5\n",
        "#9\n",
        "#10"
      ],
      "metadata": {
        "id": "FBWkGvBvMY4r"
      },
      "execution_count": null,
      "outputs": []
    },
    {
      "cell_type": "markdown",
      "source": [
        "Si necesitamos un índice acompañado con la lista, que tome valores desde 0 hasta n-1, se puede hacer de la siguiente manera.\n",
        "\n"
      ],
      "metadata": {
        "id": "tTTsLotYMScL"
      }
    },
    {
      "cell_type": "code",
      "source": [
        "lista = [5, 9, 10]\n",
        "for index, l in enumerate(lista):\n",
        "    print(index, l)\n",
        "#0 5\n",
        "#1 9\n",
        "#2 10"
      ],
      "metadata": {
        "id": "21SOrRyiMrLn"
      },
      "execution_count": null,
      "outputs": []
    },
    {
      "cell_type": "markdown",
      "source": [
        "O si tenemos dos listas y las queremos iterar a la vez, también es posible hacerlo.\n",
        "\n",
        "\n",
        "\n"
      ],
      "metadata": {
        "id": "ZXREI848Mf6p"
      }
    },
    {
      "cell_type": "code",
      "source": [
        "lista1 = [5, 9, 10]\n",
        "lista2 = [\"Jazz\", \"Rock\", \"Djent\"]\n",
        "for l1, l2 in zip(lista1, lista2):\n",
        "    print(l1, l2)\n",
        "#5 Jazz\n",
        "#9 Rock\n",
        "#10 Djent"
      ],
      "metadata": {
        "id": "jgpi52sTM8pv"
      },
      "execution_count": null,
      "outputs": []
    },
    {
      "cell_type": "markdown",
      "source": [
        "Y por supuesto, también se pueden iterar las listas usando los índices como hemos visto al principio, y haciendo uso de len(), que nos devuelve la longitud de la lista.\n"
      ],
      "metadata": {
        "id": "5DKYOa2GM4dX"
      }
    },
    {
      "cell_type": "code",
      "source": [
        "lista1 = [5, 9, 10]\n",
        "for i in range(0, len(lista)):\n",
        "    print(lista1[i])\n",
        "#5\n",
        "#9\n",
        "#10"
      ],
      "metadata": {
        "id": "GMlKSPwoRKcn"
      },
      "execution_count": null,
      "outputs": []
    },
    {
      "cell_type": "markdown",
      "source": [
        "##Métodos listas\n",
        "**append(<obj>)**\n",
        "El método append() añade un elemento al final de la lista.\n"
      ],
      "metadata": {
        "id": "xnOL24ugRXZP"
      }
    },
    {
      "cell_type": "code",
      "source": [
        "l = [1, 2]\n",
        "l.append(3)\n",
        "print(l) #[1, 2, 3]"
      ],
      "metadata": {
        "id": "-DOezQMQRub8"
      },
      "execution_count": null,
      "outputs": []
    },
    {
      "cell_type": "markdown",
      "source": [
        "**extend(<iterable>)**\n",
        "El método extend() permite añadir una lista a la lista inicial.\n"
      ],
      "metadata": {
        "id": "nXwh3tisRnNk"
      }
    },
    {
      "cell_type": "code",
      "source": [
        "l = [1, 2]\n",
        "l.extend([3, 4])\n",
        "print(l) #[1, 2, 3, 4]"
      ],
      "metadata": {
        "id": "P9FCz3puSTYF"
      },
      "execution_count": null,
      "outputs": []
    },
    {
      "cell_type": "markdown",
      "source": [
        "**insert(<index>, <obj>)**\n",
        "El método insert() añade un elemento en una posición o índice determinado.\n",
        "\n",
        "\n"
      ],
      "metadata": {
        "id": "KeBWPH94SKl9"
      }
    },
    {
      "cell_type": "code",
      "source": [
        "l = [1, 3]\n",
        "l.insert(1, 2)\n",
        "print(l) #[1, 2, 3]"
      ],
      "metadata": {
        "id": "zJL9XKRqSuU4"
      },
      "execution_count": null,
      "outputs": []
    },
    {
      "cell_type": "markdown",
      "source": [
        "**remove(<obj>)**\n",
        "El método remove() recibe como argumento un objeto y lo borra de la lista."
      ],
      "metadata": {
        "id": "ezQ5Hy4tSnO7"
      }
    },
    {
      "cell_type": "code",
      "source": [
        "l = [1, 2, 3]\n",
        "l.remove(3)\n",
        "print(l) #[1, 2]"
      ],
      "metadata": {
        "id": "weyG91BuS_8l"
      },
      "execution_count": null,
      "outputs": []
    },
    {
      "cell_type": "markdown",
      "source": [
        "**pop(index=-1)**\n",
        "El método pop() elimina por defecto el último elemento de la lista, pero si se pasa como parámetro un índice permite borrar elementos diferentes al último."
      ],
      "metadata": {
        "id": "NuZ_Ftk7TDrf"
      }
    },
    {
      "cell_type": "code",
      "source": [
        "l = [1, 2, 3]\n",
        "l.pop()\n",
        "print(l) #[1, 2]"
      ],
      "metadata": {
        "id": "fL_BrTPKTQcV"
      },
      "execution_count": null,
      "outputs": []
    },
    {
      "cell_type": "markdown",
      "source": [
        "**reverse()**\n",
        "El método reverse() inverte el órden de la lista.\n"
      ],
      "metadata": {
        "id": "fULudINNSeLr"
      }
    },
    {
      "cell_type": "code",
      "source": [
        "l = [1, 2, 3]\n",
        "l.reverse()\n",
        "print(l) #[3, 2, 1]"
      ],
      "metadata": {
        "id": "HnHNtZjfTgfr"
      },
      "execution_count": null,
      "outputs": []
    },
    {
      "cell_type": "markdown",
      "source": [
        "**sort()**\n",
        "El método sort() ordena los elementos de menos a mayor por defecto.\n"
      ],
      "metadata": {
        "id": "eOz_2B7nTU88"
      }
    },
    {
      "cell_type": "code",
      "source": [
        "l = [3, 1, 2]\n",
        "l.sort()\n",
        "print(l) #[1, 2, 3]"
      ],
      "metadata": {
        "id": "8PpABQH_T7r6"
      },
      "execution_count": null,
      "outputs": []
    },
    {
      "cell_type": "markdown",
      "source": [
        "Y también permite ordenar de mayor a menor si se pasa como parámetro reverse=True.\n"
      ],
      "metadata": {
        "id": "ofgy36tHT81y"
      }
    },
    {
      "cell_type": "code",
      "source": [
        "l = [3, 1, 2]\n",
        "l.sort(reverse=True)\n",
        "print(l) #[3, 2, 1]"
      ],
      "metadata": {
        "id": "Y7PuGGKaUK1r"
      },
      "execution_count": null,
      "outputs": []
    },
    {
      "cell_type": "markdown",
      "source": [
        "**index(<obj>[,index])**\n",
        "El método index() recibe como parámetro un objeto y devuelve el índice de su primera aparición. Como hemos visto en otras ocasiones, el índice del primer elemento es el 0.\n"
      ],
      "metadata": {
        "id": "MCEMqGhhULLx"
      }
    },
    {
      "cell_type": "code",
      "source": [
        "l = [\"Periphery\", \"Intervals\", \"Monuments\"]\n",
        "print(l.index(\"Intervals\"))"
      ],
      "metadata": {
        "id": "e6RB7Tz7UgVO"
      },
      "execution_count": null,
      "outputs": []
    },
    {
      "cell_type": "markdown",
      "source": [
        "También permite introducir un parámetro opcional que representa el índice desde el que comenzar la búsqueda del objeto. Es como si ignorara todo lo que hay antes de ese índice para la búsqueda, en este caso el 4.\n"
      ],
      "metadata": {
        "id": "dELEFwxNUbyX"
      }
    },
    {
      "cell_type": "code",
      "source": [
        "l = [1, 1, 1, 1, 2, 1, 4, 5]\n",
        "print(l.index(1, 4)) #5"
      ],
      "metadata": {
        "id": "zfXHWaTbUsTO"
      },
      "execution_count": null,
      "outputs": []
    }
  ]
}