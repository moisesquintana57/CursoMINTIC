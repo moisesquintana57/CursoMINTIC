{
  "nbformat": 4,
  "nbformat_minor": 0,
  "metadata": {
    "colab": {
      "name": "conjunto.ipynb",
      "provenance": [],
      "authorship_tag": "ABX9TyMAiXcaohkka9QIP/fZrsMG",
      "include_colab_link": true
    },
    "kernelspec": {
      "name": "python3",
      "display_name": "Python 3"
    },
    "language_info": {
      "name": "python"
    }
  },
  "cells": [
    {
      "cell_type": "markdown",
      "metadata": {
        "id": "view-in-github",
        "colab_type": "text"
      },
      "source": [
        "<a href=\"https://colab.research.google.com/github/moisesquintana57/CursoMINTIC/blob/main/conjunto.ipynb\" target=\"_parent\"><img src=\"https://colab.research.google.com/assets/colab-badge.svg\" alt=\"Open In Colab\"/></a>"
      ]
    },
    {
      "cell_type": "markdown",
      "source": [
        "#Set\n",
        "Los sets en Python son una estructura de datos usada para almacenar elementos de una manera similar a las listas, pero con ciertas diferencias.\n",
        "##Crear set Python\n",
        "Los set en Python son un tipo que permite almacenar varios elementos y acceder a ellos de una forma muy similar a las listas pero con ciertas diferencias:\n",
        "-\tLos elementos de un set son único, lo que significa que no puede haber elementos duplicados.\n",
        "-\tLos set son desordenados, lo que significa que no mantienen el orden de cuando son declarados.\n",
        "-\tSus elementos deben ser inmutables.\n",
        "Para entender mejor los sets, es necesario entender ciertos conceptos matemáticos como la teoría de conjuntos.\n",
        "Para crear un set en Python se puede hacer con set() y pasando como entrada cualquier tipo iterable, como puede ser una lista. Se puede ver como a pesar de pasar elementos duplicados como dos 8 y en un orden determinado, al imprimir el set no conserva ese orden y los duplicados se han eliminado.\n",
        "\n"
      ],
      "metadata": {
        "id": "9BuhVaepxnf9"
      }
    },
    {
      "cell_type": "code",
      "source": [
        "s = set([5, 4, 6, 8, 8, 1])\n",
        "print(s)       #{1, 4, 5, 6, 8}\n",
        "print(type(s)) #<class 'set'>"
      ],
      "metadata": {
        "id": "60a3qVVZ10Nl"
      },
      "execution_count": null,
      "outputs": []
    },
    {
      "cell_type": "markdown",
      "source": [
        "Se puede hacer lo mismo haciendo uso de {} y sin usar la palabra set() como se muestra a continuación."
      ],
      "metadata": {
        "id": "s-AMVToH1uyE"
      }
    },
    {
      "cell_type": "code",
      "source": [
        "s = {5, 4, 6, 8, 8, 1}\n",
        "print(s)       #{1, 4, 5, 6, 8}\n",
        "print(type(s)) #<class 'set'>"
      ],
      "metadata": {
        "id": "ytCDMZlq1raj"
      },
      "execution_count": null,
      "outputs": []
    },
    {
      "cell_type": "markdown",
      "source": [
        "##Operaciones con sets\n",
        "A diferencia de las listas, en los set no podemos modificar un elemento a través de su índice. Si lo intentamos, tendremos un TypeError."
      ],
      "metadata": {
        "id": "-kLdQNmP1YGV"
      }
    },
    {
      "cell_type": "code",
      "source": [
        "s = set([5, 6, 7, 8])\n",
        "#s[0] = 3 #Error! TypeError"
      ],
      "metadata": {
        "id": "2AZ1b0w11U20"
      },
      "execution_count": null,
      "outputs": []
    },
    {
      "cell_type": "markdown",
      "source": [
        "Los elementos de un set deben ser inmutables, por lo que un elemento de un set no puede ser ni un diccionario ni una lista. Si lo intentamos tendremos un TypeError"
      ],
      "metadata": {
        "id": "983K5A2X1SEb"
      }
    },
    {
      "cell_type": "code",
      "source": [
        "lista = [\"Perú\", \"Argentina\"]\n",
        "#s = set([\"México\", \"España\", lista]) #Error! TypeError"
      ],
      "metadata": {
        "id": "nFsQSbO41KRk"
      },
      "execution_count": null,
      "outputs": []
    },
    {
      "cell_type": "markdown",
      "source": [
        "Los sets se pueden iterar de la misma forma que las listas."
      ],
      "metadata": {
        "id": "BVRjaoJ81FgV"
      }
    },
    {
      "cell_type": "code",
      "source": [
        "s = set([5, 6, 7, 8])\n",
        "for ss in s:\n",
        "    print(ss) #8, 5, 6, 7"
      ],
      "metadata": {
        "id": "3qzV2xSG1BEc"
      },
      "execution_count": null,
      "outputs": []
    },
    {
      "cell_type": "markdown",
      "source": [
        "Con la función len() podemos saber la longitud total del set. Como ya hemos indicado, los duplicados son eliminados."
      ],
      "metadata": {
        "id": "WUg-PvVA08_7"
      }
    },
    {
      "cell_type": "code",
      "source": [
        "s = set([1, 2, 2, 3, 4])\n",
        "print(len(s)) #4"
      ],
      "metadata": {
        "id": "nlb3Uu7906Jb"
      },
      "execution_count": null,
      "outputs": []
    },
    {
      "cell_type": "markdown",
      "source": [
        "También podemos saber si un elemento está presente en un set con el operador in. Se el valor existe en el set, se devolverá True."
      ],
      "metadata": {
        "id": "MFmL6iki02Br"
      }
    },
    {
      "cell_type": "code",
      "source": [
        "s = set([\"Guitarra\", \"Bajo\"])\n",
        "print(\"Guitarra\" in s) #True"
      ],
      "metadata": {
        "id": "VJFytrkc0pO0"
      },
      "execution_count": null,
      "outputs": []
    },
    {
      "cell_type": "markdown",
      "source": [
        "Los sets tienen además diferentes funcionalidades, que se pueden aplicar en forma de operador o de método. Por ejemplo, el operador | nos permite realizar la unión de dos sets, lo que equivale a juntarlos. El equivalente es el método union() que vemos a continuación."
      ],
      "metadata": {
        "id": "PKqSyWli0ljm"
      }
    },
    {
      "cell_type": "code",
      "source": [
        "s1 = set([1, 2, 3])\n",
        "s2 = set([3, 4, 5])\n",
        "print(s1 | s2) #{1, 2, 3, 4, 5}"
      ],
      "metadata": {
        "colab": {
          "base_uri": "https://localhost:8080/"
        },
        "id": "hTVWz30v0iDU",
        "outputId": "28208219-c4ce-4d5b-cd27-6132a0285ee4"
      },
      "execution_count": 4,
      "outputs": [
        {
          "output_type": "stream",
          "name": "stdout",
          "text": [
            "{1, 2, 3, 4, 5}\n"
          ]
        }
      ]
    },
    {
      "cell_type": "markdown",
      "source": [
        "##Métodos sets\n",
        "**s.add(<elem>)**\n",
        "El método add() permite añadir un elemento al set."
      ],
      "metadata": {
        "id": "mBSHv-ZB0cB0"
      }
    },
    {
      "cell_type": "code",
      "source": [
        "l = set([1, 2])\n",
        "l.add(3)\n",
        "print(l) #{1, 2, 3}"
      ],
      "metadata": {
        "id": "kY3ya3Gu0V6v"
      },
      "execution_count": null,
      "outputs": []
    },
    {
      "cell_type": "markdown",
      "source": [
        "**s.remove(<elem>)**\n",
        "El método remove() elimina el elemento que se pasa como parámetro. Si no se encuentra, se lanza la excepción KeyError."
      ],
      "metadata": {
        "id": "esNgall80RY8"
      }
    },
    {
      "cell_type": "code",
      "source": [
        "s = set([1, 2])\n",
        "s.remove(2)\n",
        "print(s) #{1}"
      ],
      "metadata": {
        "id": "4fln7_NT0Ddc"
      },
      "execution_count": null,
      "outputs": []
    },
    {
      "cell_type": "markdown",
      "source": [
        "**s.discard(<elem>)**\n",
        "El método discard() es muy parecido al remove(), borra el elemento que se pasa como parámetro, y si no se encuentra no hace nada."
      ],
      "metadata": {
        "id": "Nb5UGLT7zwr8"
      }
    },
    {
      "cell_type": "code",
      "source": [
        "s = set([1, 2])\n",
        "s.discard(3)\n",
        "print(s) #{1, 2}\n",
        "s.pop()"
      ],
      "metadata": {
        "id": "Lr9SWb-bzrqs"
      },
      "execution_count": null,
      "outputs": []
    },
    {
      "cell_type": "markdown",
      "source": [
        "El método **pop()** elimina un elemento aleatorio del set."
      ],
      "metadata": {
        "id": "p5HQHvxVzjLT"
      }
    },
    {
      "cell_type": "code",
      "source": [
        "s = set([1, 2])\n",
        "s.pop()\n",
        "print(s) #{2}\n",
        "s.clear()"
      ],
      "metadata": {
        "id": "-BEBsgaNzX2k"
      },
      "execution_count": null,
      "outputs": []
    },
    {
      "cell_type": "markdown",
      "source": [
        "El método **clear()** elimina todos los elementos de set."
      ],
      "metadata": {
        "id": "j1Wkjy1Uy6lb"
      }
    },
    {
      "cell_type": "code",
      "source": [
        "s = set([1, 2])\n",
        "s.clear()\n",
        "print(s) #set()"
      ],
      "metadata": {
        "id": "PJz4PVAyy3FT"
      },
      "execution_count": null,
      "outputs": []
    },
    {
      "cell_type": "markdown",
      "source": [
        "##Otros\n",
        "Los sets cuentan con una gran cantidad de métodos que permiten realizar operaciones con dos o más, como la unión o la intersección.\n",
        "Podemos calcular la unión entre dos sets usando el método **union()**. Esta operación representa la “mezcla” de ambos sets. Nótese que el método puede ser llamado con más parámetros de entrada, y su resultado será la unión de todos los sets."
      ],
      "metadata": {
        "id": "k6nVwlIIylx-"
      }
    },
    {
      "cell_type": "code",
      "execution_count": null,
      "metadata": {
        "id": "fFuGfE50xZG6"
      },
      "outputs": [],
      "source": [
        "s1 = {1, 2, 3}\n",
        "s2 = {3, 4, 5}\n",
        "print(s1.union(s2)) #{1, 2, 3, 4, 5}"
      ]
    },
    {
      "cell_type": "markdown",
      "source": [
        "También podemos calcular la intersección entre dos o más set. Su resultado serán aquellos elementos que pertenecen a ambos sets."
      ],
      "metadata": {
        "id": "RBSh19SnyLXu"
      }
    },
    {
      "cell_type": "code",
      "source": [
        "s1 = {1, 2, 3}\n",
        "s2 = {3, 4, 5}\n",
        "print(s1.intersection(s2)) #{3}"
      ],
      "metadata": {
        "id": "j_hapZpnxjmG"
      },
      "execution_count": null,
      "outputs": []
    },
    {
      "cell_type": "markdown",
      "source": [
        "Los set en Python tiene gran cantidad de métodos, por lo que lo dejaremos para otro capítulo, pero aquí os dejamos con un listado de ellos:\n",
        "-\ts1.union(s2[, s3 ...])# Pueden unirse varios conjuntos\n",
        "-\ts1.intersection(s2[, s3 ...])\n",
        "-\ts1.difference(s2[, s3 ...])\n",
        "-\ts1.symmetric_difference(s2)\n",
        "-\ts1.isdisjoint(s2)\n",
        "-\ts1.issubset(s2)\n",
        "-\ts1.issuperset(s2)\n",
        "-\ts1.update(s2[, s3 ...])\n",
        "-\ts1.intersection_update(s2[, s3 ...])\n",
        "-\ts1.difference_update(s2[, s3 ...])\n",
        "-\ts1.symmetric_difference_update(s2)"
      ],
      "metadata": {
        "id": "jrEP6aF-x_4v"
      }
    }
  ]
}