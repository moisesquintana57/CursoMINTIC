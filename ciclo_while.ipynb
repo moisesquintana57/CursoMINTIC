{
  "nbformat": 4,
  "nbformat_minor": 0,
  "metadata": {
    "colab": {
      "name": "ciclo_while.ipynb",
      "provenance": []
    },
    "kernelspec": {
      "name": "python3",
      "display_name": "Python 3"
    },
    "language_info": {
      "name": "python"
    }
  },
  "cells": [
    {
      "cell_type": "markdown",
      "source": [
        "#Bucles while\n",
        "(tomado del sitio web https://ellibrodepython.com/)\n",
        "Anteriormente hemos visto el uso del if y el for para modificar el flujo de ejecución del código. A continuación, vemos otra forma de hacerlo con el while.\n",
        "##While\n",
        "El uso del while nos permite ejecutar una sección de código repetidas veces, de ahí su nombre. El código se ejecutará mientras una condición determinada se cumpla. Cuando se deje de cumplir, se saldrá del bucle y se continuará la ejecución normal. Llamaremos iteración a una ejecución completa del bloque de código.\n",
        "\n",
        "Cabe destacar que existe dos tipos de bucles, los que tienen un número de iteraciones no definidas, y los que tienen un número de iteraciones definidas. El while estaría dentro del primer tipo. Mas adelante veremos los for, que se engloban en el segundo.\n"
      ],
      "metadata": {
        "id": "1PI4ISZLHRJd"
      }
    },
    {
      "cell_type": "code",
      "execution_count": null,
      "metadata": {
        "id": "xCuWqTy6HNN-"
      },
      "outputs": [],
      "source": [
        "x = 5\n",
        "while x > 0:\n",
        "    x -=1\n",
        "    print(x)"
      ]
    },
    {
      "cell_type": "markdown",
      "source": [
        "En el ejemplo anterior tenemos un caso sencillo de while. Tenemos una condición x>0 y un bloque de código a ejecutar mientras dure esa condición x-=1 y print(x). Por lo tanto mientras que x sea mayor que 0, se ejecutará el código. Una vez se llega al final, se vuelve a empezar y si la condición se cumple, se ejecuta otra vez. En este caso se entra al bloque de código 5 veces, hasta que en la sexta, x vale cero y por lo tanto la condición ya no se cumple. Por lo tanto el while tiene dos partes:\n",
        "\n",
        "- \tLa **condición** que se tiene que cumplir para que se ejecute el código.\n",
        "- \tEl **bloque de código** que se ejecutará mientras la condición se cumpla.\n",
        "\n",
        "Ten cuidado ya que un mal uso del while puede dar lugar a bucles infinitos y problemas. Cierto es que en algún caso tal vez nos interese tener un bucle infinito, pero salvo que estemos seguros de lo que estamos haciendo, hay que tener cuidado. Imaginemos que tenemos un bucle cuya condición siempre se cumple. Por ejemplo, si ponemos True en la condición del while, siempre que se evalúe esa expresión, el resultado será True y se ejecutará el bloque de código. Una vez llegado al final del bloque, se volverá a evaluar la condición, se cumplirá, y vuelta a empezar. No te recomiendo que ejecutes el siguiente código, pero puedes intentarlo.\n"
      ],
      "metadata": {
        "id": "czp6rqIqHy0Q"
      }
    },
    {
      "cell_type": "code",
      "source": [
        "# No ejecutes esto, en serio\n",
        "while True:\n",
        "    print(\"Bucle infinito\")"
      ],
      "metadata": {
        "id": "SvlylZ2iJVZ2"
      },
      "execution_count": null,
      "outputs": []
    },
    {
      "cell_type": "markdown",
      "source": [
        "Es posible tener un while en una sola línea, algo muy útil si el bloque que queremos ejecutar es corto. En el caso de tener mas de una sentencia, las debemos separar con ;."
      ],
      "metadata": {
        "id": "ffS9it5tJaRv"
      }
    },
    {
      "cell_type": "code",
      "source": [
        "x = 5\n",
        "while x > 0: x-=1; print(x)"
      ],
      "metadata": {
        "id": "LwN_BIQFJlaP"
      },
      "execution_count": null,
      "outputs": []
    },
    {
      "cell_type": "markdown",
      "source": [
        "##Else y while\n",
        "Algo no muy corriente en otros lenguajes de programación pero si en Python, es el uso de la cláusula else al final del while. Podemos ver el ejemplo anterior mezclado con el else. La sección de código que se encuentra dentro del else, se ejecutará cuando el bucle termine, pero solo si lo hace “por razones naturales”. Es decir, si el bucle termina porque la condición se deja de cumplir, y no porque se ha hecho uso del break.\n"
      ],
      "metadata": {
        "id": "YBl3AKLpJ_MY"
      }
    },
    {
      "cell_type": "code",
      "source": [
        "x = 5\n",
        "while x > 0:\n",
        "    x -=1\n",
        "    print(x) #4,3,2,1,0\n",
        "else:\n",
        "    print(\"El bucle ha finalizado\")\n"
      ],
      "metadata": {
        "colab": {
          "base_uri": "https://localhost:8080/"
        },
        "id": "eD9mzUJhKkNv",
        "outputId": "9b65360d-b5c0-4372-b33e-fefefd54bfa8"
      },
      "execution_count": 3,
      "outputs": [
        {
          "output_type": "stream",
          "name": "stdout",
          "text": [
            "4\n",
            "3\n",
            "2\n",
            "1\n",
            "0\n",
            "El bucle ha finalizado\n"
          ]
        }
      ]
    },
    {
      "cell_type": "markdown",
      "source": [
        "Podemos ver como si el bucle termina por el break, el print() no se ejecutará. Por lo tanto, se podría decir que si no hay realmente ninguna sentencia break dentro del bucle, tal vez no tenga mucho sentido el uso del else, ya que un bloque de código fuera del bucle cumplirá con la misma funcionalidad."
      ],
      "metadata": {
        "id": "c22V9jAcKzYH"
      }
    },
    {
      "cell_type": "code",
      "source": [
        "x = 5\n",
        "while True:\n",
        "    x -= 1\n",
        "    print(x) #4, 3, 2, 1, 0\n",
        "    if x == 0:\n",
        "        break\n",
        "else:\n",
        "    # El print no se ejecuta\n",
        "    print(\"Fin del bucle\")"
      ],
      "metadata": {
        "colab": {
          "base_uri": "https://localhost:8080/"
        },
        "id": "cpm6njtjK_C3",
        "outputId": "bed4c569-02e8-4637-f97e-17b6ab4b3532"
      },
      "execution_count": 4,
      "outputs": [
        {
          "output_type": "stream",
          "name": "stdout",
          "text": [
            "4\n",
            "3\n",
            "2\n",
            "1\n",
            "0\n"
          ]
        }
      ]
    },
    {
      "cell_type": "markdown",
      "source": [
        "## Bucles anidados\n",
        "Ya hemos visto que los bucles while tienen una condición a evaluar y un bloque de código a ejecutar. Hemos visto ejemplos donde el bloque de código son operaciones sencillas como la resta -, pero podemos complicar un poco mas las cosas y meter otro bucle while dentro del primero. Es algo que resulta especialmente útil si por ejemplo queremos generar permutaciones de números, es decir, si queremos generar todas las combinaciones posibles. Imaginemos que queremos generar todas las combinaciones de de dos números hasta 2. Es decir, 0-0, 0-1, 0-2,… hasta 2-2.\n"
      ],
      "metadata": {
        "id": "_jZWU5a8LWaX"
      }
    },
    {
      "cell_type": "code",
      "source": [
        "# Permutación a generar\n",
        "i = 0\n",
        "j = 0\n",
        "while i < 3:\n",
        "    while j < 3:\n",
        "        print(i,j)\n",
        "        j += 1\n",
        "    i += 1\n",
        "    j = 0"
      ],
      "metadata": {
        "id": "-K8v_kwDLdSH"
      },
      "execution_count": null,
      "outputs": []
    },
    {
      "cell_type": "markdown",
      "source": [
        "Vamos a analizara el ejemplo paso por paso. El primer bucle genera números del 0 al 2, lo que corresponde a la variable i. Por otro lado el segundo bucle genera también número del 0 al 2, almacenados en la variable j. Al tener un bucle dentro de otro, lo que pasa es que por cada i se generan 3 j. Muy importante no olvidar que al finalizar el bucle de la j, debemos resetear j=0 para que en la siguiente iteración la condición de entrada se cumpla.\n",
        "Podemos complicar las cosas aún más y tener tres bucles anidados, generando combinaciones de 3 elementos con número 0, 1, 2. En este caso tendremos desde 0,0,0 hasta 2,2,2\n"
      ],
      "metadata": {
        "id": "9kC6W4nKMGN3"
      }
    },
    {
      "cell_type": "code",
      "source": [
        "i, j, k = 0, 0, 0\n",
        "while i < 3:\n",
        "    while j < 3:\n",
        "        while k < 3:\n",
        "            print(i,j,k)\n",
        "            k += 1\n",
        "            j += 1\n",
        "        k = 0\n",
        "    i += 1\n",
        "    j = 0"
      ],
      "metadata": {
        "id": "ol9pvR0vMLGf"
      },
      "execution_count": null,
      "outputs": []
    },
    {
      "cell_type": "markdown",
      "source": [
        "##Ejemplos while\n",
        "Árbol de navidad en Python. Imprime un árbol de navidad formado con * haciendo uso del while y de la multiplicación de un entero por una cadena, cuyo resultado en Python es replicar la cadena.\n"
      ],
      "metadata": {
        "id": "RpaNgP32MdtQ"
      }
    },
    {
      "cell_type": "code",
      "source": [
        "z = 7\n",
        "x = 1\n",
        "while z > 0:\n",
        "    print(' ' * z + '*' * x + ' ' * z)\n",
        "    x+=2\n",
        "    z-=1\n",
        "print(' ' * 7 + '*'  + ' ' * 7)\n",
        "print(' ' * 7 + '*'  + ' ' * 7)"
      ],
      "metadata": {
        "id": "4HUWueLAMpSP"
      },
      "execution_count": null,
      "outputs": []
    },
    {
      "cell_type": "markdown",
      "source": [
        "Aunque esta no sea tal vez la mejor forma de iterar una cadena es un buen ejemplo para el uso del while e introducir el indexado de listas con [], que veremos en otros capítulos."
      ],
      "metadata": {
        "id": "FyuPRuDwNnH4"
      }
    },
    {
      "cell_type": "code",
      "source": [
        "text = \"Python\"\n",
        "i = 0\n",
        "while i < len(text):\n",
        "    print(text[:i + 1])\n",
        "    i += 1"
      ],
      "metadata": {
        "id": "n8rjnwHVNs5M"
      },
      "execution_count": null,
      "outputs": []
    },
    {
      "cell_type": "markdown",
      "source": [
        "##Sentencia break Python\n",
        "###Introducción al break\n",
        "La sentencia break nos permite alterar el comportamiento de los bucles while y for. Concretamente, permite terminar con la ejecución del bucle.\n",
        "\n",
        "Esto significa que una vez se encuentra la palabra break, el bucle se habrá terminado.\n",
        "###Break con bucles while\n",
        "El break también nos permite alterar el comportamiento del while. Veamos un ejemplo.\n",
        "\n",
        "La condición while True haría que la sección de código se ejecutara indefinidamente, pero al hacer uso del break, el bucle se romperá cuando x valga cero.\n"
      ],
      "metadata": {
        "id": "-AXQRDy-N_MH"
      }
    },
    {
      "cell_type": "code",
      "source": [
        "x = 5\n",
        "while True:\n",
        "    x -= 1\n",
        "    print(x)\n",
        "    if x == 0:\n",
        "        break\n",
        "    print(\"Se imprime mientras no salga 0\")\n",
        "print(\"Cuando x = 0 ya estoy fuera del ciclo\")"
      ],
      "metadata": {
        "id": "8KVr1KgOOf3c"
      },
      "execution_count": null,
      "outputs": []
    },
    {
      "cell_type": "markdown",
      "source": [
        "Por norma general, y salvo casos muy concretos, si ves un while True, es probable que haya un break dentro del bucle.\n",
        "##Sentencia continue\n",
        "###Introducción al continue\n",
        "El uso de continue al igual que el ya visto break, nos permite modificar el comportamiento de de los bucles while y for.\n",
        "\n",
        "Concretamente, continue se salta todo el código restante en la iteración actual y vuelve al principio en el caso de que aún queden iteraciones por completar.\n",
        "La diferencia entre el break y continue es que el continue no rompe el bucle, si no que pasa a la siguiente iteración saltando el código pendiente.\n",
        "\n",
        "En el siguiente ejemplo podemos ver como cuando la x vale 3, se llama al continue, lo que hace que se salte el resto de código de la iteración (el print()). Por ello, vemos como el número 3 no se imprime en pantalla.\n"
      ],
      "metadata": {
        "id": "wztsPVhfPOUS"
      }
    },
    {
      "cell_type": "code",
      "source": [
        "x = 5\n",
        "while x > 0:\n",
        "    x -= 1\n",
        "    if x == 3:\n",
        "        continue # no imprime 3\n",
        "    print(x)"
      ],
      "metadata": {
        "id": "GbNlbRO9PgvT"
      },
      "execution_count": null,
      "outputs": []
    },
    {
      "cell_type": "markdown",
      "source": [
        "En este otro ejemplo podemos ver un ciclo indeterminado donde el usuario escribe un número entero y el programa cuenta los negativos, además de emitir un mensaje que escribió un número negativo mensaje que se obvia cuando escribe un número positivo por la presencia del continue, en el if. El ciclo termina si el usuario entra 0."
      ],
      "metadata": {
        "id": "7KwP2HRlQDZe"
      }
    },
    {
      "cell_type": "code",
      "source": [
        "variable, cuenta = 20,0\n",
        "while variable != 0:              \n",
        "  variable = int(input(\"Escribe un numero entero (0 para terminar): \"))\n",
        "  if variable < 0:\n",
        "    cuenta += 1\n",
        "  else:\n",
        "    continue\n",
        "  print (\"Entró este negativo:\", variable)\n",
        "print(\"Hay %d números negativos\"%cuenta)"
      ],
      "metadata": {
        "colab": {
          "base_uri": "https://localhost:8080/"
        },
        "id": "FVAnpphyQFNu",
        "outputId": "5a69c9c6-6342-4803-c345-7d5f1937c583"
      },
      "execution_count": 15,
      "outputs": [
        {
          "output_type": "stream",
          "name": "stdout",
          "text": [
            "Escribe un numero entero (0 para terminar): 6\n",
            "Escribe un numero entero (0 para terminar): 7\n",
            "Escribe un numero entero (0 para terminar): -5\n",
            "Entró este negativo: -5\n",
            "Escribe un numero entero (0 para terminar): -6\n",
            "Entró este negativo: -6\n",
            "Escribe un numero entero (0 para terminar): -8\n",
            "Entró este negativo: -8\n",
            "Escribe un numero entero (0 para terminar): 0\n",
            "Hay 3 números negativos\n"
          ]
        }
      ]
    }
  ]
}