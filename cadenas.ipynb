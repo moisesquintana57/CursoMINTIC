{
  "nbformat": 4,
  "nbformat_minor": 0,
  "metadata": {
    "colab": {
      "name": "cadenas.ipynb",
      "provenance": []
    },
    "kernelspec": {
      "name": "python3",
      "display_name": "Python 3"
    },
    "language_info": {
      "name": "python"
    }
  },
  "cells": [
    {
      "cell_type": "markdown",
      "source": [
        ""
      ],
      "metadata": {
        "id": "0tzt1_4Jb9UW"
      }
    },
    {
      "cell_type": "markdown",
      "source": [
        "# Cadenas Python\n",
        "Las cadenas en Python o strings son un tipo inmutable que permite almacenar secuencias de caracteres. Para crear una, es necesario incluir el texto entre comillas dobles \" o simples ' . Puedes obtener más ayuda con el comando *help(str)*."
      ],
      "metadata": {
        "id": "2Ddvm6jwcDtI"
      }
    },
    {
      "cell_type": "code",
      "source": [
        "s = \"Esto es una cadena\"\n",
        "print(s)       #Esto es una cadena\n",
        "print(type(s)) #<class 'str'>\n",
        "s1 = 'Esto es otra cadena'\n",
        "print(s1)        #Esto es otra cadena\n",
        "print(type(s1))  #<class 'str'>"
      ],
      "metadata": {
        "id": "AgURK8CNcZHc"
      },
      "execution_count": null,
      "outputs": []
    },
    {
      "cell_type": "markdown",
      "source": [
        "Las cadenas no están limitadas en tamaño, por lo que el único límite es la memoria de tu ordenador. Una cadena puede estar también vacía.\n",
        "\n",
        "Una situación que muchas veces se puede dar, es cuando queremos introducir una comilla, bien sea simple ' o doble \" dentro de una cadena. Si lo hacemos de la siguiente forma tendríamos un error, ya que Python no sabe muy bien donde empieza y termina."
      ],
      "metadata": {
        "id": "HdCY3u8Gcx1G"
      }
    },
    {
      "cell_type": "code",
      "source": [
        "#s = \"Esto es una comilla doble \" de ejemplo\" # Error!"
      ],
      "metadata": {
        "id": "rQKgx3fedh3z"
      },
      "execution_count": null,
      "outputs": []
    },
    {
      "cell_type": "markdown",
      "source": [
        "Para resolver este problema debemos recurrir a las **secuencias de escape ** . En Python hay varias, pero las analizaremos con más detalle en otro capítulo. Por ahora, la más importante es \\\", que nos permite incrustar comillas dentro de una cadena."
      ],
      "metadata": {
        "id": "C1yat3jAdt0T"
      }
    },
    {
      "cell_type": "code",
      "source": [
        "s = \"Esto es una comilla doble \\\" de ejemplo\"\n",
        "print(s) #Esto es una comilla doble \" de ejemplo"
      ],
      "metadata": {
        "colab": {
          "base_uri": "https://localhost:8080/"
        },
        "id": "y4MkEK8Fd8zg",
        "outputId": "39ec7a4f-51a4-4a5d-df7b-904862337742"
      },
      "execution_count": 6,
      "outputs": [
        {
          "output_type": "stream",
          "name": "stdout",
          "text": [
            "Esto es una comilla doble \" de ejemplo\n"
          ]
        }
      ]
    },
    {
      "cell_type": "markdown",
      "source": [
        "También podemos incluir un salto de línea dentro de una cadena, lo que significa que lo que esté después del salto, se imprimirá en una nueva línea."
      ],
      "metadata": {
        "id": "d8k7eb37lcxP"
      }
    },
    {
      "cell_type": "code",
      "source": [
        "s = \"Primera linea\\nSegunda linea\"\n",
        "print(s)\n"
      ],
      "metadata": {
        "id": "ZBUD3tpxlhlb"
      },
      "execution_count": null,
      "outputs": []
    },
    {
      "cell_type": "markdown",
      "source": [
        "## Formateo de cadenas\n",
        "Tal vez queramos declarar una cadena que contenga variables en su interior, como números o incluso otras cadenas. Una forma de hacerlo sería concatenando la cadena que queremos con otra usando el **operador +**. Nótese que *str()* convierte en string lo que se pasa como parámetro."
      ],
      "metadata": {
        "id": "QjexoBDsl-xk"
      }
    },
    {
      "cell_type": "code",
      "source": [
        "x = 5\n",
        "s = \"El número es: \" + str(x)\n",
        "print(s) #El número es: 5"
      ],
      "metadata": {
        "id": "OJWMbNLimRyZ"
      },
      "execution_count": null,
      "outputs": []
    },
    {
      "cell_type": "markdown",
      "source": [
        "Otra forma es usando **%**. Por un lado tenemos **%s** que indica el tipo que se quiere imprimir, y por otro a la derecha del **%** tenemos la variable a imprimir. Para imprimir una cadena se usaría **%s** o **%f** para un valor en coma flotante.\n",
        "\n",
        "Para saber más: En el siguiente enlace puedes encontrar más información sobre el uso de **%**."
      ],
      "metadata": {
        "id": "Ev5kYEaSoIfh"
      }
    },
    {
      "cell_type": "code",
      "source": [
        "x = 5\n",
        "s = \"El número es: %d\" % x\n",
        "print(s) #El número es: 5"
      ],
      "metadata": {
        "id": "s1w0On1aoPxv"
      },
      "execution_count": null,
      "outputs": []
    },
    {
      "cell_type": "markdown",
      "source": [
        "Si tenemos más de una variable, también se puede hacer pasando los parámetros dentro de (). Si vienes de lenguajes como C, esta forma te resultará muy familiar. No obstante, esta no es la forma preferida de hacerlo, ahora que tenemos nuevas versiones de Python."
      ],
      "metadata": {
        "id": "2vSVL9igoiLy"
      }
    },
    {
      "cell_type": "code",
      "source": [
        "s = \"Los números son %d y %d.\" % (5, 10) \n",
        "print(s) #Los números son 5 y 10"
      ],
      "metadata": {
        "id": "MgdUh3MRoyia"
      },
      "execution_count": null,
      "outputs": []
    },
    {
      "cell_type": "markdown",
      "source": [
        "Una forma un poco más moderna de realizar lo mismo, es haciendo uso de **format()**."
      ],
      "metadata": {
        "id": "J_BH-akkpAnx"
      }
    },
    {
      "cell_type": "code",
      "source": [
        "s = \"Los números son {} y {}\".format(5, 10)\n",
        "print(s) #Los números son {} y {}\".format(5, 10)"
      ],
      "metadata": {
        "id": "ni7o07-zpFf5"
      },
      "execution_count": null,
      "outputs": []
    },
    {
      "cell_type": "markdown",
      "source": [
        "Es posible también darle nombre a cada elemento, y **format()** se encargará de reemplazar todo."
      ],
      "metadata": {
        "id": "6V8PwreQpGOi"
      }
    },
    {
      "cell_type": "code",
      "source": [
        "s = \"Los números son {a} y {b}\".format(a=5, b=10)\n",
        "print(s) #Los números son 5 y 10"
      ],
      "metadata": {
        "colab": {
          "base_uri": "https://localhost:8080/"
        },
        "id": "b2nM5PkKpkpZ",
        "outputId": "31468762-1c93-4d36-e352-ab3c1d850be1"
      },
      "execution_count": 9,
      "outputs": [
        {
          "output_type": "stream",
          "name": "stdout",
          "text": [
            "Los números son 5 y 10.0\n"
          ]
        }
      ]
    },
    {
      "cell_type": "markdown",
      "source": [
        "Por si no fueran pocas ya, existe una tercera forma de hacerlo introducida en la versión *3.6 de Python*. Reciben el nombre de cadenas literales o **f-strings**. Esta nueva característica, permite incrustar expresiones dentro de cadenas."
      ],
      "metadata": {
        "id": "ga0v-WM4plKx"
      }
    },
    {
      "cell_type": "code",
      "source": [
        "a = 5; b = 10\n",
        "s = f\"Los números son {a} y {b}\"\n",
        "print(s) #Los números son 5 y 10"
      ],
      "metadata": {
        "colab": {
          "base_uri": "https://localhost:8080/"
        },
        "id": "wMVej8SLpl1n",
        "outputId": "49754e4f-9c48-4f06-c6c5-3ae1fc075812"
      },
      "execution_count": 10,
      "outputs": [
        {
          "output_type": "stream",
          "name": "stdout",
          "text": [
            "Los números son 5 y 10\n"
          ]
        }
      ]
    },
    {
      "cell_type": "markdown",
      "source": [
        "Puedes incluso hacer operaciones dentro de la creación del string."
      ],
      "metadata": {
        "id": "Sgk17MY6pmIP"
      }
    },
    {
      "cell_type": "code",
      "source": [
        "a = 5; b = 10\n",
        "s = f\"a + b = {a+b}\"\n",
        "print(s) #a + b = 15"
      ],
      "metadata": {
        "id": "ieOXkSMBqn7b"
      },
      "execution_count": null,
      "outputs": []
    },
    {
      "cell_type": "markdown",
      "source": [
        "## Ejemplos string\n",
        "Para entender mejor la clase string, vamos a ver unos ejemplos de como se comportan. Podemos sumar dos strings con el **operador +**."
      ],
      "metadata": {
        "id": "qmQQ_g81qoYj"
      }
    },
    {
      "cell_type": "code",
      "source": [
        "s1 = \"Yo me llamo\"\n",
        "s2 = \"Juanes\"\n",
        "print(s1 + \" \" + s2) #Parte 1 Parte 2"
      ],
      "metadata": {
        "id": "F0D9aa4Zqor8"
      },
      "execution_count": null,
      "outputs": []
    },
    {
      "cell_type": "markdown",
      "source": [
        "Se puede multiplicar un string por un int. Su resultado es replicarlo tantas veces como el valor del entero."
      ],
      "metadata": {
        "id": "_NrJNGpWqnOT"
      }
    },
    {
      "cell_type": "code",
      "source": [
        "s = \"Hola \"\n",
        "print(s*3) #Hola Hola Hola"
      ],
      "metadata": {
        "id": "yInD0Ke-r9pi"
      },
      "execution_count": null,
      "outputs": []
    },
    {
      "cell_type": "markdown",
      "source": [
        "Podemos ver si una cadena esta contenida en otra con **in**."
      ],
      "metadata": {
        "id": "8DtRKD4-r-dh"
      }
    },
    {
      "cell_type": "code",
      "source": [
        "print(\"asta\" in \"Hoy hay una subasta\") #True"
      ],
      "metadata": {
        "id": "ciP2-jtzszt4"
      },
      "execution_count": null,
      "outputs": []
    },
    {
      "cell_type": "markdown",
      "source": [
        "Con **chr()** y **ord()** podemos convertir entre carácter y su valor numérico que lo representa y viceversa. El segundo sólo función con caracteres, es decir, un string con un solo elemento."
      ],
      "metadata": {
        "id": "XdszB0yZs0F3"
      }
    },
    {
      "cell_type": "code",
      "source": [
        "print(chr(8364)) #€\n",
        "print(ord(\"€\"))  "
      ],
      "metadata": {
        "id": "yBFYsFUBs0Uy"
      },
      "execution_count": null,
      "outputs": []
    },
    {
      "cell_type": "markdown",
      "source": [
        "La longitud de una cadena viene determinada por su número de caracteres, y se puede consultar con la función **len()**."
      ],
      "metadata": {
        "id": "JsO2_zv6s0lf"
      }
    },
    {
      "cell_type": "code",
      "source": [
        "print(len(\"Esta es mi cadena\"))"
      ],
      "metadata": {
        "id": "Igys14b3ty2H"
      },
      "execution_count": null,
      "outputs": []
    },
    {
      "cell_type": "markdown",
      "source": [
        "Como hemos visto al principio, se puede convertir a **string** otras clases, como **int o float**."
      ],
      "metadata": {
        "id": "UKcKzO2NtzLd"
      }
    },
    {
      "cell_type": "code",
      "source": [
        "x = str(10.4)\n",
        "print(x)       #10.4\n",
        "print(type(x)) #<class 'str'>"
      ],
      "metadata": {
        "id": "7bIzJuKJtzbu"
      },
      "execution_count": null,
      "outputs": []
    },
    {
      "cell_type": "markdown",
      "source": [
        "También se pueden indexar las cadenas, o sea, acceder a cada uno de los caracteres de la cadena de acuerdo a su posición."
      ],
      "metadata": {
        "id": "0Cu9K2ovtzvH"
      }
    },
    {
      "cell_type": "code",
      "source": [
        "x = \"abcde\"\n",
        "print(x[0])  #a\n",
        "print(x[-1]) #e"
      ],
      "metadata": {
        "id": "XX934NRqvK1T"
      },
      "execution_count": null,
      "outputs": []
    },
    {
      "cell_type": "markdown",
      "source": [
        "Del mismo modo, se pueden crear cadenas más pequeñas partiendo de una grande, usando indicando el primer elemento y el último que queremos tomar menos uno."
      ],
      "metadata": {
        "id": "MlAzrg0GvZRf"
      }
    },
    {
      "cell_type": "code",
      "source": [
        "x = \"abcde\"\n",
        "print(x[0:2])\n"
      ],
      "metadata": {
        "id": "IUVLlU-AvZh3"
      },
      "execution_count": null,
      "outputs": []
    },
    {
      "cell_type": "markdown",
      "source": [
        "Si no se indica ningún valor a la derecha de los : se llega hasta el final."
      ],
      "metadata": {
        "id": "gylE8y0bvZzH"
      }
    },
    {
      "cell_type": "code",
      "source": [
        "x = \"abcde\"\n",
        "print(x[2:])"
      ],
      "metadata": {
        "id": "1f1X5j5JvaFG"
      },
      "execution_count": null,
      "outputs": []
    },
    {
      "cell_type": "markdown",
      "source": [
        "Es posible también crear subcadenas que contengan elementos salteados y no contiguos añadiendo un tercer elemento entre **[]**. Indica los elementos que se saltan. En el siguiente ejemplo se toman elementos del 0 al 5 de dos en dos."
      ],
      "metadata": {
        "id": "tTSN7jaLwP-N"
      }
    },
    {
      "cell_type": "code",
      "source": [
        "x = \"abcde\"\n",
        "print(x[0:5:2]) #ace"
      ],
      "metadata": {
        "id": "wyILhyU3wQOD"
      },
      "execution_count": null,
      "outputs": []
    },
    {
      "cell_type": "markdown",
      "source": [
        "Tampoco es necesario saber el tamaño de la cadena, y el segundo valor se podría omitir. El siguiente ejemplo es igual al anterior."
      ],
      "metadata": {
        "id": "hWMETfv5wQdb"
      }
    },
    {
      "cell_type": "code",
      "source": [
        "x = \"abcde\"\n",
        "print(x[0::2]) #ace"
      ],
      "metadata": {
        "id": "W-FSm0RRwQrl"
      },
      "execution_count": null,
      "outputs": []
    },
    {
      "cell_type": "markdown",
      "source": [
        "##Métodos string\n",
        "Algunos de los métodos de la clase string.\n",
        "\n",
        "**capitalize()**\n",
        "El método capitalize() se aplica sobre una cadena y la devuelve con su primera letra en mayúscula."
      ],
      "metadata": {
        "id": "b3xMjK95wQ5s"
      }
    },
    {
      "cell_type": "code",
      "source": [
        "s = \"mi cadena\"\n",
        "print(s.capitalize()) #Mi cadena"
      ],
      "metadata": {
        "id": "7YkfG-6iwRJU"
      },
      "execution_count": null,
      "outputs": []
    },
    {
      "cell_type": "markdown",
      "source": [
        "**lower()**: \n",
        "El método lower() convierte todos los caracteres alfabéticos en minúscula."
      ],
      "metadata": {
        "id": "a-yeb7utxcPH"
      }
    },
    {
      "cell_type": "code",
      "source": [
        "s = \"MI CADENA\"\n",
        "print(s.lower()) #mi cadena"
      ],
      "metadata": {
        "id": "NPZshB-jxcai"
      },
      "execution_count": null,
      "outputs": []
    },
    {
      "cell_type": "markdown",
      "source": [
        "**swapcase() :** \n",
        "El método swapcase() convierte los caracteres alfabéticos con mayúsculas en minúsculas y viceversa."
      ],
      "metadata": {
        "id": "yI6a09DpxcoW"
      }
    },
    {
      "cell_type": "code",
      "source": [
        "s = \"mI cAdEnA\"\n",
        "print(s.swapcase()) #Mi CaDeNa"
      ],
      "metadata": {
        "id": "5vG77YVrxc2e"
      },
      "execution_count": null,
      "outputs": []
    },
    {
      "cell_type": "markdown",
      "source": [
        "\n",
        "**upper():** \n",
        "El método upper() convierte todos los caracteres alfabéticos en mayúsculas."
      ],
      "metadata": {
        "id": "XT6RkSzCxdGl"
      }
    },
    {
      "cell_type": "code",
      "source": [
        "s = \"mi cadena\"\n",
        "print(s.upper())"
      ],
      "metadata": {
        "id": "Ie4kpTdLxdWO"
      },
      "execution_count": null,
      "outputs": []
    },
    {
      "cell_type": "markdown",
      "source": [
        "***count(sub[, start[, end]]): ***\n",
        "El método count() permite contar las veces que otra cadena se encuentra dentro de la primera. Permite también dos parámetros opcionales que indican donde empezar y acabar de buscar."
      ],
      "metadata": {
        "id": "al_141HJyoSt"
      }
    },
    {
      "cell_type": "code",
      "source": [
        "s = \"el bello cuello \"\n",
        "print(s.count(\"llo\")) #2"
      ],
      "metadata": {
        "id": "Pd8O8iB5yomN"
      },
      "execution_count": null,
      "outputs": []
    },
    {
      "cell_type": "markdown",
      "source": [
        "***isalnum() : ***\n",
        "El método isalnum() devuelve True si la cadena esta formada únicamente por caracteres alfanuméricos, False de lo contrario. Caracteres como @ o & no son alfanumericos."
      ],
      "metadata": {
        "id": "HfzqI38dyo11"
      }
    },
    {
      "cell_type": "code",
      "source": [
        "s = \"correo@dominio.com\"\n",
        "print(s.isalnum())"
      ],
      "metadata": {
        "id": "I84h3WZqypEU"
      },
      "execution_count": null,
      "outputs": []
    },
    {
      "cell_type": "markdown",
      "source": [
        "**isalpha()** :\n",
        "El método isalpha() devuelve True si todos los caracteres son alfabéticos, False de lo contrario."
      ],
      "metadata": {
        "id": "CCFQ7wpvypUV"
      }
    },
    {
      "cell_type": "code",
      "source": [
        "s = \"abcdefg\"\n",
        "print(s.isalpha())"
      ],
      "metadata": {
        "id": "NMqcn_TFypil"
      },
      "execution_count": null,
      "outputs": []
    },
    {
      "cell_type": "markdown",
      "source": [
        "**strip([chars])**:\n",
        "El método strip() elimina a la izquierda y derecha el carácter que se le introduce. Si se llama sin parámetros elimina los espacios. Muy útil para limpiar cadenas."
      ],
      "metadata": {
        "id": "q6kz8PpS0XP4"
      }
    },
    {
      "cell_type": "code",
      "source": [
        "s = \"  abc  \"\n",
        "print(s.strip()) #abc"
      ],
      "metadata": {
        "id": "mvuO84aI0XpH"
      },
      "execution_count": null,
      "outputs": []
    },
    {
      "cell_type": "markdown",
      "source": [
        "**zfill(width)**:\n",
        "El método zfill() rellena la cadena con ceros a la izquierda hasta llegar a la longitud pasada como parámetro."
      ],
      "metadata": {
        "id": "kQKrUzgP0X5A"
      }
    },
    {
      "cell_type": "code",
      "source": [
        "s = \"123\"\n",
        "print(s.zfill(5)) #00123"
      ],
      "metadata": {
        "id": "rRG0jioc0YGs"
      },
      "execution_count": null,
      "outputs": []
    },
    {
      "cell_type": "markdown",
      "source": [
        "**join(iterable)**:\n",
        "El método join() devuelve la primera cadena unida a cada uno de los elementos de la lista que se le pasa como parámetro."
      ],
      "metadata": {
        "id": "cLfNLRxp0YVX"
      }
    },
    {
      "cell_type": "code",
      "source": [
        "s = \" y \".join([\"1\", \"2\", \"3\"])\n",
        "print(s) #1 y 2 y 3"
      ],
      "metadata": {
        "id": "HB7829Wg0YrU"
      },
      "execution_count": null,
      "outputs": []
    },
    {
      "cell_type": "markdown",
      "source": [
        "**split(sep=None, maxsplit=-1)**:\n",
        "El método split() divide una cadena en subcadenas y las devuelve almacenadas en una lista. La división es realizada de acuerdo al primer parámetro, y el segundo parámetro indica el número máximo de divisiones a realizar."
      ],
      "metadata": {
        "id": "5jkfSJ_B0Y5c"
      }
    },
    {
      "cell_type": "code",
      "source": [
        "s = \"Python,Java,C\"\n",
        "print(s.split(\",\")) #['Python', 'Java', 'C']"
      ],
      "metadata": {
        "colab": {
          "base_uri": "https://localhost:8080/"
        },
        "id": "VT2pQUWg0ZFu",
        "outputId": "26dd0020-9d8a-4c4f-b0e3-07211f3ff349"
      },
      "execution_count": 22,
      "outputs": [
        {
          "output_type": "stream",
          "name": "stdout",
          "text": [
            "['Python', 'Java', 'C']\n"
          ]
        }
      ]
    }
  ]
}