{
  "cells": [
    {
      "cell_type": "markdown",
      "id": "b3f54fa1",
      "metadata": {
        "id": "b3f54fa1"
      },
      "source": [
        "## OPERADORES EN PYTHON\n",
        "\n",
        "El lenguaje Python ofrece, como la mayor parte de los lenguajes de alto nivel, toda una gama de operadores, de acuerdo al tipo de operación que se realiza.\n",
        "\n",
        "### COMENTARIOS EN PYTHON\n",
        "\n",
        "Aunque no pocos jóvenes programadores subvaloran la importancia que tienene los comentarios dentro de los programas en el desarrollo de aplicaciones, es preciso destacar que des sus iniciios los lenguajes de alto nivel han considerado la inclusión de los mismos dentro de la estructura de los lenguajes. La capacidad de comentar el código fuente figura en todos los lenguajes de programación. Un comentario es una línea de texto no ejecutable, esto quiere decir que el compilador o intérprete no la tomará como una línea de código. Los comentarios en Python, así como en otros lenguajes de programación, sirven para dejar pequeñas explicaciones sobre qué es lo que hace el programa. Python, al ser un lenguaje sencillo en cuestiones de sintaxis, nos ayuda a documentar apropiadamente nuestro código sin mucho esfuerzo. Esta es una práctica necesaria y los buenos desarrolladores harán un gran uso de los comentarios.  \n",
        "\n",
        "En Python hacer comentarios de dos formas:\n",
        "*\tEscribiendo el símbolo de numeral (#) al comienzo de la línea de texto donde queremos nuestro comentario.\n",
        "*\tEscribiendo triple comilla (‘) al principio y al final del comentario, en este caso los comentarios pueden ocupar mas de una línea."
      ]
    },
    {
      "cell_type": "code",
      "execution_count": null,
      "id": "fcbbbc73",
      "metadata": {
        "collapsed": true,
        "id": "fcbbbc73",
        "outputId": "412b95b2-9556-4e88-cebf-1124f91e975e"
      },
      "outputs": [
        {
          "data": {
            "text/plain": [
              "' También se pueden hacer comentarios multilíneas \\ncon comillas simples.'"
            ]
          },
          "execution_count": 7,
          "metadata": {},
          "output_type": "execute_result"
        }
      ],
      "source": [
        "# Así se escribe un comentario en Python\n",
        "b = 4\n",
        "b <<= 3 # Los comentarios también pueden estar después de una sentencia  \n",
        "\n",
        "# Este es otro comentario en Python.\n",
        "# Puedes tener tantos comentarios de línea simple seguidos.\n",
        "\n",
        "\"\"\" Este es un comentario multilínea.\n",
        "Podemos escribir tantas líneas queramos a modo de documentación.\"\"\"\n",
        "\n",
        "''' También se pueden hacer comentarios multilíneas \n",
        "con comillas simples.'''\n"
      ]
    },
    {
      "cell_type": "markdown",
      "id": "306bf425",
      "metadata": {
        "id": "306bf425"
      },
      "source": [
        " #### OPERADORES ARITMÉTICOS\n",
        "\n",
        "Los operadores aritméticos realizan las operaciones matemáticas, como sumas, multiplicación o restas con operandos (principalmente numéricos). Hay dos tipos de operadores matemáticos: unarios y binarios.\n",
        "\n",
        "|OPERADOR|\tDESCRIPCIÓN\t|USO|\n",
        "| :-: | :- | :-: |\n",
        "|+|\tRealiza Adición entre los operandos|\t12 + 3 = 15|\n",
        "|-|\tRealiza Resta entre los operandos\t|12 - 3 |= 9|\n",
        "|\\*| Realiza Multiplicación entre los operandos|\t4 * 3 = 12|\n",
        "|/ |\tRealiza División entre los operandos|\t12 / 3 = 4|\n",
        "|%|\tRealiza residuo de la div. entera |\t5 % 3 = 2|\n",
        "|**\t| Realiza la potencia de los operandos|\t2 ** 3 = 8|\n",
        "|//\t|Realiza la división entera de los operandos|\t9 // 2 = 4|\n",
        "\n",
        "\n",
        "\n",
        "\n",
        "\n",
        "\n"
      ]
    },
    {
      "cell_type": "code",
      "execution_count": null,
      "id": "bdcc958a",
      "metadata": {
        "id": "bdcc958a",
        "outputId": "c7620e0c-9504-4c77-c7c9-dbcfa3c8e6be"
      },
      "outputs": [
        {
          "name": "stdout",
          "output_type": "stream",
          "text": [
            "2\n",
            "2\n"
          ]
        }
      ],
      "source": [
        "a = 4 ** 2\n",
        "a\n",
        "print(8 % 3)\n",
        "print(8 // 3)"
      ]
    },
    {
      "cell_type": "markdown",
      "id": "1a90ae21",
      "metadata": {
        "id": "1a90ae21"
      },
      "source": [
        "#### OPERADORES RELACIONALES\n",
        "\n",
        "Los operadores relacionales (comparison operators) permiten saber la relación existente entre dos operandos relación existente entre dos variables. Dado que estos operadores indican si se cumple o no una operación, el valor que devuelven es **True o False**.\n",
        "\n",
        "\n",
        "|OPERADOR|\tDESCRIPCIÓN\t|USO|\n",
        "| :-: | :- | :-: |\n",
        "|>|\tTrue si operando izq. es mayor que op. derecho|\t12>3 (TRUE)|\n",
        "|<|\tTrue si operando izq. es menor que op. derecho|\t12<3 (FALSE)|\n",
        "|==\t|True si operando izq. es igual que op. derecho\t|4==3 (FALSE)|\n",
        "|>=|\tTrue si operando izq. es mayor o igual que op. derecho|\t5>=3 (TRUE)|\n",
        "|<=|\tTrue si operando izq. es menor o igual que op. derecho|\t3<=3 (TRUE)|\n",
        " |  !=|\tTrue si operando izq. diferente que op. derecho|\t2!=3 (TRUE)|\n"
      ]
    },
    {
      "cell_type": "code",
      "execution_count": null,
      "id": "f7941457",
      "metadata": {
        "id": "f7941457"
      },
      "outputs": [],
      "source": [
        ""
      ]
    },
    {
      "cell_type": "markdown",
      "id": "91a5577d",
      "metadata": {
        "id": "91a5577d"
      },
      "source": [
        "#### OPERADORES BIT A BIT\n",
        "\n",
        "Un operador bit a bit realiza operaciones en los operandos bit a bit. Estas operaciones, independientemente del sistema en que estén expresados los operandos numéricos, se aprecia mejor cuando estos están en sistema binario\n",
        "\n",
        "|OPERADOR|\tDESCRIPCIÓN\t|USO|\n",
        "| :-: | :- | :-: |\n",
        "|&|\tRealiza bit a bit la operación AND en los operandos\t| (Bin: 10 & 11 = 10)|\n",
        "|\\||\tRealiza bit a bit la operación OR en los operandos| (Bin: 10 | 11 = 11)|\n",
        "|^|\tRealiza bit a bit la operación XOR en los operandos\t| (Bin: 10 ^ 11 = 01)|\n",
        "|~|\tRealiza bit a bit la operación NOT bit a bit. Invierte cada bit en el operando\t| (Bin: ~ (00000010) = (11111101))|\n",
        "|>>|\tRealiza un desplazamiento a la derecha bit a bit. Desplaza los bits del operador de la izquierda a la derecha tantos bits como indica el operador de la derecha\t |(Bin: 00000010 >> 00000011=0)|\n",
        "|<<\t|Realiza un desplazamiento a la izquierda bit a bit. Desplaza los bits del operando de la izquierda a la izquierda tantos bits como especifique el operador de la derecha\t| (Bin: 00000010 << 00000011 = 00001000)|\n",
        "\n"
      ]
    },
    {
      "cell_type": "code",
      "execution_count": null,
      "id": "47f70857",
      "metadata": {
        "id": "47f70857",
        "outputId": "0d584b0d-e964-410a-9cbf-dc8d76bbee3e"
      },
      "outputs": [
        {
          "name": "stdout",
          "output_type": "stream",
          "text": [
            "8\n"
          ]
        }
      ],
      "source": [
        "print( 4 << 1)"
      ]
    },
    {
      "cell_type": "markdown",
      "id": "9d7d8be9",
      "metadata": {
        "id": "9d7d8be9"
      },
      "source": [
        "### OPERADORES LÓGICOS\n",
        "\n",
        "Los operadores lógicos permiten trabajar con valores de tipo booleano. Un valor booleano o bool es un tipo que solo puede tomar valores **True** o **False**. \n",
        "\n",
        "|OPERADOR|\tDESCRIPCIÓN\t|USO|\n",
        "| :-: | :- | :-: |\n",
        "|and|\tDevuelve True si ambos operandos son True|\ta and b|\n",
        "|or|\tDevuelve True si alguno de los operandos es True|\ta or b|\n",
        "|not|\tDevuelve True si alguno de los operandos False|\tnot a|\n"
      ]
    },
    {
      "cell_type": "code",
      "execution_count": null,
      "id": "ce1e4b0f",
      "metadata": {
        "id": "ce1e4b0f",
        "outputId": "80113f51-4de4-496b-8a31-1875dce7b83e"
      },
      "outputs": [
        {
          "data": {
            "text/plain": [
              "True"
            ]
          },
          "execution_count": 15,
          "metadata": {},
          "output_type": "execute_result"
        }
      ],
      "source": [
        "si = True\n",
        "no = False\n",
        "si or no"
      ]
    },
    {
      "cell_type": "markdown",
      "id": "248a28f4",
      "metadata": {
        "id": "248a28f4"
      },
      "source": [
        "### OPERADORES DE ASIGNACIÓN\n",
        "\n",
        "Los operadores de asignación permiten darle valor a una variable o reasignarle un nuevo valor mediante la realización de operaciones apropiadas.\n",
        "\n",
        "|OPERADOR|\tDESCRIPCIÓN\t|\n",
        "| :-: | :- | \n",
        "|=|\ta = 5. El valor 5 es asignado a la variable a|\n",
        "|+=\t|a += 5 es equivalente a: a = a + 5|\n",
        "|-=|\ta -= 5 es equivalente a: a = a - 5|\n",
        "|*=\t|a *= 3 es equivalente a: a = a * 3|\n",
        "|/=|\ta /= 3 es equivalente a: a = a / 3|\n",
        "|%=\t|a %= 3 es equivalente a: a = a % 3|\n",
        "|**=|\ta **= 3 es equivalente a: a = a ** 3|\n",
        "|//=|\ta //= 3 es equivalente a: a = a // 3|\n",
        "|&=|\ta &= 3 es equivalente a: a = a & 3|\n",
        "|\\|=\t|a = 3 es equivalente a: a = a | 3|\n",
        "|^=|\ta ^= 3 es equivalente a: a = a ^ 3|\n",
        "|>>=|\ta >>= 3 es equivalente a: a = a >> 3|\n",
        "|<<=|\ta <<= 3 es equivalente a: a = a << 3|\n"
      ]
    },
    {
      "cell_type": "code",
      "execution_count": null,
      "id": "f18953c1",
      "metadata": {
        "id": "f18953c1",
        "outputId": "4750a4ef-f241-4e9c-a256-f6d3007e3c23"
      },
      "outputs": [
        {
          "data": {
            "text/plain": [
              "40"
            ]
          },
          "execution_count": 16,
          "metadata": {},
          "output_type": "execute_result"
        }
      ],
      "source": [
        "m = 5\n",
        "m <<=3 # m = m << 3\n",
        "m"
      ]
    }
  ],
  "metadata": {
    "kernelspec": {
      "display_name": "Python 3",
      "language": "python",
      "name": "python3"
    },
    "language_info": {
      "codemirror_mode": {
        "name": "ipython",
        "version": 3
      },
      "file_extension": ".py",
      "mimetype": "text/x-python",
      "name": "python",
      "nbconvert_exporter": "python",
      "pygments_lexer": "ipython3",
      "version": "3.8.8"
    },
    "colab": {
      "name": "operadores.ipynb",
      "provenance": [],
      "collapsed_sections": []
    }
  },
  "nbformat": 4,
  "nbformat_minor": 5
}